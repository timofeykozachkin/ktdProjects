{
 "cells": [
  {
   "cell_type": "markdown",
   "id": "87842789",
   "metadata": {},
   "source": [
    "# ML Models"
   ]
  },
  {
   "cell_type": "code",
   "execution_count": 2,
   "id": "60d87798",
   "metadata": {},
   "outputs": [],
   "source": [
    "import pandas as pd\n",
    "import numpy as np"
   ]
  },
  {
   "cell_type": "code",
   "execution_count": 6,
   "id": "d7490230",
   "metadata": {},
   "outputs": [],
   "source": [
    "df = pd.read_csv('../data/expanded_data_with_OSM.csv', sep = ',')\n",
    "df_target = pd.read_csv('../data/train.csv', sep = ',')\n",
    "\n",
    "df = df.merge(df_target[['id', 'target']], how='left', on='id')"
   ]
  },
  {
   "cell_type": "code",
   "execution_count": 5,
   "id": "ede092cf",
   "metadata": {},
   "outputs": [
    {
     "name": "stdout",
     "output_type": "stream",
     "text": [
      "<class 'pandas.core.frame.DataFrame'>\n",
      "Int64Index: 8345 entries, 0 to 8344\n",
      "Data columns (total 52 columns):\n",
      " #   Column                           Non-Null Count  Dtype  \n",
      "---  ------                           --------------  -----  \n",
      " 0   id                               8345 non-null   float64\n",
      " 1   atm_group                        8345 non-null   float64\n",
      " 2   address                          8345 non-null   object \n",
      " 3   address_rus                      8345 non-null   object \n",
      " 4   lat                              8345 non-null   float64\n",
      " 5   lng                              8345 non-null   float64\n",
      " 6   test_train_flag                  8345 non-null   object \n",
      " 7   geometry                         8345 non-null   object \n",
      " 8   distance_to_fast_food            7627 non-null   float64\n",
      " 9   distance_to_clothes              7656 non-null   float64\n",
      " 10  distance_to_vending_parking      2006 non-null   float64\n",
      " 11  distance_to_cafe                 8039 non-null   float64\n",
      " 12  distance_to_pharmacy             8020 non-null   float64\n",
      " 13  distance_to_atm                  7876 non-null   float64\n",
      " 14  distance_to_cinema               6665 non-null   float64\n",
      " 15  distance_to_shoe_shop            7181 non-null   float64\n",
      " 16  distance_to_bank                 8126 non-null   float64\n",
      " 17  distance_to_supermarket          8019 non-null   float64\n",
      " 18  distance_to_restaurant           7532 non-null   float64\n",
      " 19  distance_to_mobile_phone_shop    8119 non-null   float64\n",
      " 20  distance_to_convenience          8134 non-null   float64\n",
      " 21  distance_to_vending_any          5425 non-null   float64\n",
      " 22  distance_to_bank_Сбербанк        7588 non-null   float64\n",
      " 23  distance_to_bank_ВТБ             6353 non-null   float64\n",
      " 24  distance_to_bank_Альфа-Банк      5248 non-null   float64\n",
      " 25  distance_to_bank_Росбанк         4200 non-null   float64\n",
      " 26  distance_to_atm_Сбербанк         5967 non-null   float64\n",
      " 27  distance_to_atm_ВТБ              2712 non-null   float64\n",
      " 28  distance_to_atm_Альфа-Банк       3098 non-null   float64\n",
      " 29  distance_to_atm_Росбанк          2206 non-null   float64\n",
      " 30  distance_to_retail               7910 non-null   float64\n",
      " 31  distance_to_residential          7659 non-null   float64\n",
      " 32  distance_to_office               7033 non-null   float64\n",
      " 33  distance_to_commercial           7868 non-null   float64\n",
      " 34  distance_to_detached             6963 non-null   float64\n",
      " 35  distance_to_train_station        6324 non-null   float64\n",
      " 36  distance_to_apartments           8155 non-null   float64\n",
      " 37  distance_to_house                8124 non-null   float64\n",
      " 38  distance_to_railway_halt         8012 non-null   float64\n",
      " 39  distance_to_tram_stop            5426 non-null   float64\n",
      " 40  distance_to_bus_stop             8318 non-null   float64\n",
      " 41  distance_to_railway_station      8079 non-null   float64\n",
      " 42  distance_to_airport              5334 non-null   float64\n",
      " 43  distance_to_parking              7460 non-null   float64\n",
      " 44  distance_to_parking_underground  3446 non-null   float64\n",
      " 45  cnt_apart_200m                   8345 non-null   int64  \n",
      " 46  cnt_banks_200m                   8345 non-null   int64  \n",
      " 47  cnt_atm_200m                     8345 non-null   int64  \n",
      " 48  cities                           8345 non-null   object \n",
      " 49  regions                          8343 non-null   object \n",
      " 50  states                           8345 non-null   object \n",
      " 51  target                           5957 non-null   float64\n",
      "dtypes: float64(42), int64(3), object(7)\n",
      "memory usage: 3.4+ MB\n"
     ]
    }
   ],
   "source": [
    "df.info()"
   ]
  },
  {
   "cell_type": "markdown",
   "id": "be9d7605",
   "metadata": {},
   "source": [
    "### Заполняем пропуски максимальными значениями"
   ]
  },
  {
   "cell_type": "code",
   "execution_count": 4,
   "id": "eb6b5565",
   "metadata": {},
   "outputs": [],
   "source": [
    "dff = pd.DataFrame(df.isna().sum()/len(df)).reset_index()\n",
    "dff = dff[dff[0] > 0]\n",
    "\n",
    "for col in dff[dff[0] > 0]['index']:\n",
    "    if col != 'regions':\n",
    "        df[col] = df[col].fillna(df[col].max())\n",
    "\n",
    "df['regions'].replace(np.nan, 'Southern Federal District', inplace=True)"
   ]
  },
  {
   "cell_type": "markdown",
   "id": "7bf54236",
   "metadata": {},
   "source": [
    "OneHotEncoding - для категориальных фичей"
   ]
  },
  {
   "cell_type": "code",
   "execution_count": 6,
   "id": "e6e52c1a",
   "metadata": {},
   "outputs": [],
   "source": [
    "data = df.copy()\n",
    "data = data[data['test_train_flag'] == 'train']\n",
    "\n",
    "data['atm_group'] = data['atm_group'].astype(int)\n",
    "data = pd.get_dummies(data, columns=['atm_group'], drop_first=True) \n",
    "data = data.iloc[:, 7:]\n",
    "# data = data.iloc[:, 8:]\n",
    "data.drop(columns=['cities'], inplace=True)\n",
    "# data = data.iloc[:, 6:]\n",
    "X = pd.get_dummies(data, drop_first=True) \n",
    "\n",
    "y = X['target'].reset_index(drop=True)\n",
    "X = X.loc[:, X.columns != 'target'].reset_index(drop=True)"
   ]
  },
  {
   "cell_type": "markdown",
   "id": "e3d42c4d",
   "metadata": {},
   "source": [
    "### Разбиваем на train и тест"
   ]
  },
  {
   "cell_type": "code",
   "execution_count": 8,
   "id": "3b7a9001",
   "metadata": {},
   "outputs": [],
   "source": [
    "from sklearn.model_selection import train_test_split\n",
    "\n",
    "X_train, X_test, y_train, y_test = train_test_split(X, y, test_size=0.25, random_state=42)"
   ]
  },
  {
   "cell_type": "markdown",
   "id": "fa7db5db",
   "metadata": {},
   "source": [
    "### StandardScaler по отношению к признакам"
   ]
  },
  {
   "cell_type": "code",
   "execution_count": 9,
   "id": "d4c520b7",
   "metadata": {},
   "outputs": [],
   "source": [
    "from sklearn.linear_model import LinearRegression\n",
    "from sklearn.metrics import r2_score, mean_squared_error as MSE\n",
    "from sklearn.metrics import r2_score, mean_absolute_percentage_error as MAPE\n",
    "from sklearn.linear_model import Ridge\n",
    "from sklearn.preprocessing import StandardScaler\n",
    "from category_encoders.leave_one_out import LeaveOneOutEncoder\n",
    "\n",
    "normalizer = StandardScaler()\n",
    "X_real_norm_np = normalizer.fit_transform(X_train)\n",
    "X_train = pd.DataFrame(data=X_real_norm_np)\n",
    "\n",
    "normalizer = StandardScaler()\n",
    "X_real_norm_np = normalizer.fit_transform(X_test)\n",
    "X_test = pd.DataFrame(data=X_real_norm_np)\n"
   ]
  },
  {
   "cell_type": "markdown",
   "id": "c08a46d9",
   "metadata": {},
   "source": [
    "### Ridge регрессия"
   ]
  },
  {
   "cell_type": "code",
   "execution_count": 10,
   "id": "76dde2d3",
   "metadata": {},
   "outputs": [
    {
     "name": "stdout",
     "output_type": "stream",
     "text": [
      "TRAIN: R2: 0.7228252698746593, MSE: 0.0020578808308506173,       RMSE: 0.045363871427057646\n",
      "TEST: R2: 0.7046131570910739, MSE: 0.0022023493083903785,           RMSE: 0.04692919462754905\n"
     ]
    }
   ],
   "source": [
    "model = Ridge()\n",
    "\n",
    "model.fit(X_train, y_train)\n",
    "\n",
    "pred_mse_train = model.predict(X_train)\n",
    "pred_mse_test = model.predict(X_test)\n",
    "\n",
    "print(f\"TRAIN: R2: {r2_score(y_train, pred_mse_train)}, MSE: {MSE(y_train, pred_mse_train)}, \\\n",
    "      RMSE: {MSE(y_train, pred_mse_train, squared=False)}\")\n",
    "print(f\"TEST: R2: {r2_score(y_test, pred_mse_test)}, MSE: {MSE(y_test, pred_mse_test)}, \\\n",
    "          RMSE: {MSE(y_test, pred_mse_test, squared=False)}\")\n",
    "\n",
    "# model.coef_"
   ]
  },
  {
   "cell_type": "markdown",
   "id": "7c58ec11",
   "metadata": {},
   "source": [
    "### ElasticNet с GridSearchCV"
   ]
  },
  {
   "cell_type": "code",
   "execution_count": 11,
   "id": "5ae88709",
   "metadata": {},
   "outputs": [
    {
     "name": "stdout",
     "output_type": "stream",
     "text": [
      "TRAIN: R2: 0.7228252698746593, MSE: 0.0020578808308506173,       RMSE: 0.045363871427057646\n",
      "TEST: R2: 0.7046131570910739, MSE: 0.0022023493083903785,           RMSE: 0.04692919462754905\n"
     ]
    },
    {
     "name": "stderr",
     "output_type": "stream",
     "text": [
      "C:\\Users\\User\\anaconda3\\lib\\site-packages\\sklearn\\linear_model\\_coordinate_descent.py:530: ConvergenceWarning: Objective did not converge. You might want to increase the number of iterations. Duality gap: 9.48551455898146, tolerance: 0.003316519390946195\n",
      "  model = cd_fast.enet_coordinate_descent(\n"
     ]
    }
   ],
   "source": [
    "from sklearn.model_selection import GridSearchCV\n",
    "from sklearn.linear_model import ElasticNet\n",
    "\n",
    "lasso_params = {'alpha': np.arange(1, 10, 1), 'l1_ratio': np.arange(0, 1.1, 0.1)}\n",
    "opt_mod = GridSearchCV(ElasticNet(), param_grid=lasso_params, cv=10, n_jobs=-1)\n",
    "\n",
    "model_opt_lasso = opt_mod.fit(X_train, y_train)\n",
    "\n",
    "pred_opt_train = model_opt_lasso.predict(X_train)\n",
    "pred_opt_test = model_opt_lasso.predict(X_test)\n",
    "\n",
    "print(f\"TRAIN: R2: {r2_score(y_train, pred_mse_train)}, MSE: {MSE(y_train, pred_mse_train)}, \\\n",
    "      RMSE: {MSE(y_train, pred_mse_train, squared=False)}\")\n",
    "print(f\"TEST: R2: {r2_score(y_test, pred_mse_test)}, MSE: {MSE(y_test, pred_mse_test)}, \\\n",
    "          RMSE: {MSE(y_test, pred_mse_test, squared=False)}\")"
   ]
  },
  {
   "cell_type": "code",
   "execution_count": 12,
   "id": "bbfcdae4",
   "metadata": {},
   "outputs": [
    {
     "data": {
      "text/plain": [
       "{'alpha': 1, 'l1_ratio': 0.0}"
      ]
     },
     "execution_count": 12,
     "metadata": {},
     "output_type": "execute_result"
    }
   ],
   "source": [
    "model_opt_lasso.best_params_"
   ]
  },
  {
   "cell_type": "markdown",
   "id": "f57d8802",
   "metadata": {},
   "source": [
    "Возспользуемся SelectKBest, чтобы посмотреть на качество модели при разном кол-ве признаков"
   ]
  },
  {
   "cell_type": "code",
   "execution_count": 13,
   "id": "508205d4",
   "metadata": {},
   "outputs": [
    {
     "name": "stderr",
     "output_type": "stream",
     "text": [
      "C:\\Users\\User\\anaconda3\\lib\\site-packages\\sklearn\\feature_selection\\_univariate_selection.py:302: RuntimeWarning: invalid value encountered in true_divide\n",
      "  corr /= X_norms\n",
      "C:\\Users\\User\\anaconda3\\lib\\site-packages\\sklearn\\feature_selection\\_univariate_selection.py:302: RuntimeWarning: invalid value encountered in true_divide\n",
      "  corr /= X_norms\n",
      "C:\\Users\\User\\anaconda3\\lib\\site-packages\\sklearn\\feature_selection\\_univariate_selection.py:302: RuntimeWarning: invalid value encountered in true_divide\n",
      "  corr /= X_norms\n",
      "C:\\Users\\User\\anaconda3\\lib\\site-packages\\sklearn\\feature_selection\\_univariate_selection.py:302: RuntimeWarning: invalid value encountered in true_divide\n",
      "  corr /= X_norms\n"
     ]
    },
    {
     "data": {
      "text/plain": [
       "{'fit_time': array([0.03800011, 0.03800058, 0.03600049, 0.04400015, 0.03925228]),\n",
       " 'score_time': array([0.00299907, 0.00400114, 0.00599813, 0.01499891, 0.00499916]),\n",
       " 'test_score': array([0.69838467, 0.7183839 , 0.69739754, 0.71153407, 0.66788723]),\n",
       " 'train_score': array([0.70812951, 0.70410112, 0.70860478, 0.70472045, 0.71513669])}"
      ]
     },
     "execution_count": 13,
     "metadata": {},
     "output_type": "execute_result"
    }
   ],
   "source": [
    "from sklearn.feature_selection import SelectKBest\n",
    "from sklearn.pipeline import Pipeline\n",
    "from sklearn.svm import SVC\n",
    "from sklearn.model_selection import cross_validate\n",
    "from sklearn.feature_selection import f_classif, chi2, mutual_info_regression, f_regression\n",
    "\n",
    "\n",
    "pipe = Pipeline([\n",
    "#     ('cat_encoder_', LeaveOneOutEncoder(cols=[''])),\n",
    "#     ('poly_featurizer_', PolynomialFeatures(degree=4)),\n",
    "    ('scaler_', StandardScaler()),\n",
    "    ('selector_', SelectKBest(score_func=f_regression, k=100)), \n",
    "    ('model_', Ridge())]\n",
    ")\n",
    "\n",
    "cv_res = cross_validate(pipe, X, y, cv=5, scoring='r2', return_train_score=True)\n",
    "cv_res"
   ]
  },
  {
   "cell_type": "code",
   "execution_count": 14,
   "id": "6f3b216d",
   "metadata": {},
   "outputs": [
    {
     "name": "stdout",
     "output_type": "stream",
     "text": [
      "0.7081385101660376\n",
      "0.6987174814424961\n"
     ]
    }
   ],
   "source": [
    "print(cv_res['train_score'].mean())\n",
    "print(cv_res['test_score'].mean())"
   ]
  },
  {
   "cell_type": "markdown",
   "id": "d4fec6ab",
   "metadata": {},
   "source": [
    "### Дерево решений"
   ]
  },
  {
   "cell_type": "code",
   "execution_count": 15,
   "id": "f6b5bc56",
   "metadata": {},
   "outputs": [
    {
     "name": "stdout",
     "output_type": "stream",
     "text": [
      "TRAIN: R2: 0.98784588750499, MSE: 9.02380787316815e-05,       RMSE: 0.009499372544104242\n",
      "TEST: R2: 0.4742878308622587, MSE: 0.00391961206095386,           RMSE: 0.06260680522877574\n"
     ]
    }
   ],
   "source": [
    "from sklearn.tree import DecisionTreeRegressor\n",
    "\n",
    "tree = DecisionTreeRegressor()\n",
    "\n",
    "tree.fit(X_train, y_train)\n",
    "\n",
    "pred_train = tree.predict(X_train)\n",
    "pred_test = tree.predict(X_test)\n",
    "\n",
    "print(f\"TRAIN: R2: {r2_score(y_train, pred_train)}, MSE: {MSE(y_train, pred_train)}, \\\n",
    "      RMSE: {MSE(y_train, pred_train, squared=False)}\")\n",
    "print(f\"TEST: R2: {r2_score(y_test, pred_test)}, MSE: {MSE(y_test, pred_test)}, \\\n",
    "          RMSE: {MSE(y_test, pred_test, squared=False)}\")"
   ]
  },
  {
   "cell_type": "code",
   "execution_count": 16,
   "id": "fc870c4a",
   "metadata": {},
   "outputs": [
    {
     "name": "stdout",
     "output_type": "stream",
     "text": [
      "TRAIN: R2: 0.7083483277641847, MSE: 0.0021653647333153463, RMSE: 0.046533479703492475\n",
      "TEST: R2: 0.6841914688932698, MSE: 0.0023546096136757583, RMSE: 0.04852431981672446\n"
     ]
    }
   ],
   "source": [
    "from sklearn.model_selection import GridSearchCV\n",
    "\n",
    "params = {'max_depth' : np.arange(3, 10, 1),\n",
    "          'max_features' : [\"auto\", \"sqrt\", \"log2\"],\n",
    "          'min_samples_leaf': np.arange(3, 8, 1)}\n",
    "\n",
    "gs = GridSearchCV(DecisionTreeRegressor(), params, cv=5, scoring='r2')\n",
    "\n",
    "gs.fit(X_train, y_train)\n",
    "\n",
    "pred_train = gs.predict(X_train)\n",
    "pred_test = gs.predict(X_test)\n",
    "\n",
    "print(f\"TRAIN: R2: {r2_score(y_train, pred_train)}, MSE: {MSE(y_train, pred_train)}, \\\n",
    "RMSE: {MSE(y_train, pred_train, squared=False)}\")\n",
    "print(f\"TEST: R2: {r2_score(y_test, pred_test)}, MSE: {MSE(y_test, pred_test)}, \\\n",
    "RMSE: {MSE(y_test, pred_test, squared=False)}\")"
   ]
  },
  {
   "cell_type": "code",
   "execution_count": 17,
   "id": "28a72a57",
   "metadata": {},
   "outputs": [
    {
     "data": {
      "text/plain": [
       "{'max_depth': 5, 'max_features': 'auto', 'min_samples_leaf': 7}"
      ]
     },
     "execution_count": 17,
     "metadata": {},
     "output_type": "execute_result"
    }
   ],
   "source": [
    "gs.best_params_"
   ]
  }
 ],
 "metadata": {
  "kernelspec": {
   "display_name": "Python 3 (ipykernel)",
   "language": "python",
   "name": "python3"
  },
  "language_info": {
   "codemirror_mode": {
    "name": "ipython",
    "version": 3
   },
   "file_extension": ".py",
   "mimetype": "text/x-python",
   "name": "python",
   "nbconvert_exporter": "python",
   "pygments_lexer": "ipython3",
   "version": "3.9.7"
  },
  "toc": {
   "base_numbering": 1,
   "nav_menu": {},
   "number_sections": true,
   "sideBar": true,
   "skip_h1_title": false,
   "title_cell": "Table of Contents",
   "title_sidebar": "Contents",
   "toc_cell": false,
   "toc_position": {},
   "toc_section_display": true,
   "toc_window_display": false
  }
 },
 "nbformat": 4,
 "nbformat_minor": 5
}
