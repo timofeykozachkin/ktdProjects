{
 "cells": [
  {
   "cell_type": "code",
   "execution_count": 5,
   "id": "6630aca6",
   "metadata": {},
   "outputs": [],
   "source": [
    "import pandas as pd\n",
    "import numpy as np"
   ]
  },
  {
   "cell_type": "code",
   "execution_count": 6,
   "id": "1056bb24",
   "metadata": {},
   "outputs": [],
   "source": [
    "df = pd.read_csv('../data/expanded_data_with_OSM.csv', sep = ',')"
   ]
  },
  {
   "cell_type": "code",
   "execution_count": 3,
   "id": "0fa87f56",
   "metadata": {},
   "outputs": [],
   "source": [
    "#два пропущенных региона - это южный федеральный округ\n",
    "df['regions'] = df['regions'].replace(np.nan, 'Southern Federal District')"
   ]
  },
  {
   "cell_type": "code",
   "execution_count": 13,
   "id": "9b25d4b2",
   "metadata": {},
   "outputs": [],
   "source": [
    "#for column in df.columns:\n",
    "#    if column[0:8]=='distance':\n",
    "#df[column]= df[column]*-1"
   ]
  },
  {
   "cell_type": "code",
   "execution_count": 14,
   "id": "36d60a89",
   "metadata": {},
   "outputs": [],
   "source": [
    "#добавляю таргет переменную\n",
    "df2 = pd.read_csv('C:/Users/User/Desktop/ВШЭ/Курсы/Годовой проект/Данные/train.csv')"
   ]
  },
  {
   "cell_type": "code",
   "execution_count": 15,
   "id": "b37adf06",
   "metadata": {},
   "outputs": [],
   "source": [
    "df_train = df.merge(df2[['id','target']], left_on = 'id', right_on = 'id')"
   ]
  },
  {
   "cell_type": "code",
   "execution_count": 16,
   "id": "937e08c2",
   "metadata": {},
   "outputs": [
    {
     "data": {
      "text/html": [
       "<div>\n",
       "<style scoped>\n",
       "    .dataframe tbody tr th:only-of-type {\n",
       "        vertical-align: middle;\n",
       "    }\n",
       "\n",
       "    .dataframe tbody tr th {\n",
       "        vertical-align: top;\n",
       "    }\n",
       "\n",
       "    .dataframe thead th {\n",
       "        text-align: right;\n",
       "    }\n",
       "</style>\n",
       "<table border=\"1\" class=\"dataframe\">\n",
       "  <thead>\n",
       "    <tr style=\"text-align: right;\">\n",
       "      <th></th>\n",
       "      <th>id</th>\n",
       "      <th>atm_group</th>\n",
       "      <th>address</th>\n",
       "      <th>address_rus</th>\n",
       "      <th>lat</th>\n",
       "      <th>lng</th>\n",
       "      <th>test_train_flag</th>\n",
       "      <th>geometry</th>\n",
       "      <th>distance_to_fast_food</th>\n",
       "      <th>distance_to_clothes</th>\n",
       "      <th>...</th>\n",
       "      <th>distance_to_airport</th>\n",
       "      <th>distance_to_parking</th>\n",
       "      <th>distance_to_parking_underground</th>\n",
       "      <th>cnt_apart_200m</th>\n",
       "      <th>cnt_banks_200m</th>\n",
       "      <th>cnt_atm_200m</th>\n",
       "      <th>cities</th>\n",
       "      <th>regions</th>\n",
       "      <th>states</th>\n",
       "      <th>target</th>\n",
       "    </tr>\n",
       "  </thead>\n",
       "  <tbody>\n",
       "    <tr>\n",
       "      <th>0</th>\n",
       "      <td>8526.0</td>\n",
       "      <td>32.0</td>\n",
       "      <td>EMELYANOVA,34          Y-SAKHALINSK</td>\n",
       "      <td>улица А.О. Емельянова, 34, Южно-Сахалинск, Сах...</td>\n",
       "      <td>46.940995</td>\n",
       "      <td>142.738319</td>\n",
       "      <td>train</td>\n",
       "      <td>POINT (142.738319 46.940994999999994)</td>\n",
       "      <td>1101.997929</td>\n",
       "      <td>815.369715</td>\n",
       "      <td>...</td>\n",
       "      <td>39774.216642</td>\n",
       "      <td>2892.577916</td>\n",
       "      <td>2346.129844</td>\n",
       "      <td>9</td>\n",
       "      <td>0</td>\n",
       "      <td>0</td>\n",
       "      <td>Yuzhno-Sakhalinsk</td>\n",
       "      <td>Far Eastern Federal District</td>\n",
       "      <td>Sakhalin Oblast</td>\n",
       "      <td>0.011500</td>\n",
       "    </tr>\n",
       "    <tr>\n",
       "      <th>1</th>\n",
       "      <td>8532.0</td>\n",
       "      <td>32.0</td>\n",
       "      <td>KOMSOMOLSKAYA,259B     Y.SAKHALINSK</td>\n",
       "      <td>Комсомольская улица, 259, Южно-Сахалинск, Саха...</td>\n",
       "      <td>46.937353</td>\n",
       "      <td>142.753348</td>\n",
       "      <td>train</td>\n",
       "      <td>POINT (142.75334799999996 46.937353)</td>\n",
       "      <td>1177.665235</td>\n",
       "      <td>141.531360</td>\n",
       "      <td>...</td>\n",
       "      <td>40364.561477</td>\n",
       "      <td>2767.793411</td>\n",
       "      <td>2124.799118</td>\n",
       "      <td>17</td>\n",
       "      <td>0</td>\n",
       "      <td>0</td>\n",
       "      <td>Yuzhno-Sakhalinsk</td>\n",
       "      <td>Far Eastern Federal District</td>\n",
       "      <td>Sakhalin Oblast</td>\n",
       "      <td>0.029710</td>\n",
       "    </tr>\n",
       "    <tr>\n",
       "      <th>2</th>\n",
       "      <td>8533.0</td>\n",
       "      <td>32.0</td>\n",
       "      <td>KOMMUN. PR., 32        YUZHNO SAKHAL</td>\n",
       "      <td>Коммунистический проспект, Южно-Сахалинск, Сах...</td>\n",
       "      <td>46.959413</td>\n",
       "      <td>142.741113</td>\n",
       "      <td>train</td>\n",
       "      <td>POINT (142.741113 46.959413)</td>\n",
       "      <td>536.421857</td>\n",
       "      <td>1054.650591</td>\n",
       "      <td>...</td>\n",
       "      <td>36765.157465</td>\n",
       "      <td>1815.884777</td>\n",
       "      <td>1864.222802</td>\n",
       "      <td>4</td>\n",
       "      <td>1</td>\n",
       "      <td>0</td>\n",
       "      <td>Yuzhno-Sakhalinsk</td>\n",
       "      <td>Far Eastern Federal District</td>\n",
       "      <td>Sakhalin Oblast</td>\n",
       "      <td>0.009540</td>\n",
       "    </tr>\n",
       "    <tr>\n",
       "      <th>3</th>\n",
       "      <td>8684.0</td>\n",
       "      <td>32.0</td>\n",
       "      <td>LENINGRADSKIY PR.,76A  MOSCOW</td>\n",
       "      <td>Ленинградский проспект, 76А, Москва, Россия, 1...</td>\n",
       "      <td>55.805827</td>\n",
       "      <td>37.515146</td>\n",
       "      <td>train</td>\n",
       "      <td>POINT (37.515146 55.805827)</td>\n",
       "      <td>10.006280</td>\n",
       "      <td>18.646221</td>\n",
       "      <td>...</td>\n",
       "      <td>73227.945390</td>\n",
       "      <td>106.652808</td>\n",
       "      <td>471.901686</td>\n",
       "      <td>14</td>\n",
       "      <td>5</td>\n",
       "      <td>4</td>\n",
       "      <td>Moscow</td>\n",
       "      <td>Central Federal District</td>\n",
       "      <td>Moscow</td>\n",
       "      <td>-0.094035</td>\n",
       "    </tr>\n",
       "    <tr>\n",
       "      <th>4</th>\n",
       "      <td>37.0</td>\n",
       "      <td>32.0</td>\n",
       "      <td>GVARDEYSKAYA PL., 2    NORILSK</td>\n",
       "      <td>Гвардейская площадь, 2, Норильск, Красноярский...</td>\n",
       "      <td>69.343541</td>\n",
       "      <td>88.211228</td>\n",
       "      <td>train</td>\n",
       "      <td>POINT (88.211228 69.343541)</td>\n",
       "      <td>1264.514620</td>\n",
       "      <td>2159.536521</td>\n",
       "      <td>...</td>\n",
       "      <td>NaN</td>\n",
       "      <td>5763.343722</td>\n",
       "      <td>5842.299373</td>\n",
       "      <td>13</td>\n",
       "      <td>0</td>\n",
       "      <td>0</td>\n",
       "      <td>Norilsk</td>\n",
       "      <td>Siberian Federal District</td>\n",
       "      <td>Krasnoyarsk Krai</td>\n",
       "      <td>0.079277</td>\n",
       "    </tr>\n",
       "  </tbody>\n",
       "</table>\n",
       "<p>5 rows × 52 columns</p>\n",
       "</div>"
      ],
      "text/plain": [
       "       id  atm_group                                 address  \\\n",
       "0  8526.0       32.0  EMELYANOVA,34          Y-SAKHALINSK      \n",
       "1  8532.0       32.0  KOMSOMOLSKAYA,259B     Y.SAKHALINSK      \n",
       "2  8533.0       32.0  KOMMUN. PR., 32        YUZHNO SAKHAL     \n",
       "3  8684.0       32.0  LENINGRADSKIY PR.,76A  MOSCOW            \n",
       "4    37.0       32.0  GVARDEYSKAYA PL., 2    NORILSK           \n",
       "\n",
       "                                         address_rus        lat         lng  \\\n",
       "0  улица А.О. Емельянова, 34, Южно-Сахалинск, Сах...  46.940995  142.738319   \n",
       "1  Комсомольская улица, 259, Южно-Сахалинск, Саха...  46.937353  142.753348   \n",
       "2  Коммунистический проспект, Южно-Сахалинск, Сах...  46.959413  142.741113   \n",
       "3  Ленинградский проспект, 76А, Москва, Россия, 1...  55.805827   37.515146   \n",
       "4  Гвардейская площадь, 2, Норильск, Красноярский...  69.343541   88.211228   \n",
       "\n",
       "  test_train_flag                               geometry  \\\n",
       "0           train  POINT (142.738319 46.940994999999994)   \n",
       "1           train   POINT (142.75334799999996 46.937353)   \n",
       "2           train           POINT (142.741113 46.959413)   \n",
       "3           train            POINT (37.515146 55.805827)   \n",
       "4           train            POINT (88.211228 69.343541)   \n",
       "\n",
       "   distance_to_fast_food  distance_to_clothes  ...  distance_to_airport  \\\n",
       "0            1101.997929           815.369715  ...         39774.216642   \n",
       "1            1177.665235           141.531360  ...         40364.561477   \n",
       "2             536.421857          1054.650591  ...         36765.157465   \n",
       "3              10.006280            18.646221  ...         73227.945390   \n",
       "4            1264.514620          2159.536521  ...                  NaN   \n",
       "\n",
       "   distance_to_parking  distance_to_parking_underground  cnt_apart_200m  \\\n",
       "0          2892.577916                      2346.129844               9   \n",
       "1          2767.793411                      2124.799118              17   \n",
       "2          1815.884777                      1864.222802               4   \n",
       "3           106.652808                       471.901686              14   \n",
       "4          5763.343722                      5842.299373              13   \n",
       "\n",
       "   cnt_banks_200m  cnt_atm_200m             cities  \\\n",
       "0               0             0  Yuzhno-Sakhalinsk   \n",
       "1               0             0  Yuzhno-Sakhalinsk   \n",
       "2               1             0  Yuzhno-Sakhalinsk   \n",
       "3               5             4             Moscow   \n",
       "4               0             0            Norilsk   \n",
       "\n",
       "                        regions            states    target  \n",
       "0  Far Eastern Federal District   Sakhalin Oblast  0.011500  \n",
       "1  Far Eastern Federal District   Sakhalin Oblast  0.029710  \n",
       "2  Far Eastern Federal District   Sakhalin Oblast  0.009540  \n",
       "3      Central Federal District            Moscow -0.094035  \n",
       "4     Siberian Federal District  Krasnoyarsk Krai  0.079277  \n",
       "\n",
       "[5 rows x 52 columns]"
      ]
     },
     "execution_count": 16,
     "metadata": {},
     "output_type": "execute_result"
    }
   ],
   "source": [
    "df_train.head()"
   ]
  },
  {
   "cell_type": "markdown",
   "id": "02ab93fe",
   "metadata": {},
   "source": [
    "# Обучение моделей"
   ]
  },
  {
   "cell_type": "code",
   "execution_count": 17,
   "id": "d388d2e1",
   "metadata": {},
   "outputs": [],
   "source": [
    "from sklearn.model_selection import train_test_split"
   ]
  },
  {
   "cell_type": "code",
   "execution_count": 18,
   "id": "292be898",
   "metadata": {},
   "outputs": [
    {
     "data": {
      "text/plain": [
       "id                                    0\n",
       "atm_group                             0\n",
       "address                               0\n",
       "address_rus                           0\n",
       "lat                                   0\n",
       "lng                                   0\n",
       "test_train_flag                       0\n",
       "geometry                              0\n",
       "distance_to_fast_food               490\n",
       "distance_to_clothes                 503\n",
       "distance_to_vending_parking        4554\n",
       "distance_to_cafe                    218\n",
       "distance_to_pharmacy                222\n",
       "distance_to_atm                     334\n",
       "distance_to_cinema                 1182\n",
       "distance_to_shoe_shop               817\n",
       "distance_to_bank                    155\n",
       "distance_to_supermarket             222\n",
       "distance_to_restaurant              571\n",
       "distance_to_mobile_phone_shop       167\n",
       "distance_to_convenience             144\n",
       "distance_to_vending_any            2066\n",
       "distance_to_bank_Сбербанк           549\n",
       "distance_to_bank_ВТБ               1422\n",
       "distance_to_bank_Альфа-Банк        2196\n",
       "distance_to_bank_Росбанк           2964\n",
       "distance_to_atm_Сбербанк           1722\n",
       "distance_to_atm_ВТБ                4038\n",
       "distance_to_atm_Альфа-Банк         3745\n",
       "distance_to_atm_Росбанк            4398\n",
       "distance_to_retail                  312\n",
       "distance_to_residential             485\n",
       "distance_to_office                  906\n",
       "distance_to_commercial              338\n",
       "distance_to_detached                996\n",
       "distance_to_train_station          1469\n",
       "distance_to_apartments              133\n",
       "distance_to_house                   148\n",
       "distance_to_railway_halt            237\n",
       "distance_to_tram_stop              2072\n",
       "distance_to_bus_stop                 17\n",
       "distance_to_railway_station         190\n",
       "distance_to_airport                2135\n",
       "distance_to_parking                 623\n",
       "distance_to_parking_underground    3490\n",
       "cnt_apart_200m                        0\n",
       "cnt_banks_200m                        0\n",
       "cnt_atm_200m                          0\n",
       "cities                                0\n",
       "regions                               0\n",
       "states                                0\n",
       "target                                0\n",
       "dtype: int64"
      ]
     },
     "execution_count": 18,
     "metadata": {},
     "output_type": "execute_result"
    }
   ],
   "source": [
    "df_train.isna().sum()"
   ]
  },
  {
   "cell_type": "code",
   "execution_count": 8,
   "id": "2ea56859",
   "metadata": {},
   "outputs": [
    {
     "name": "stderr",
     "output_type": "stream",
     "text": [
      "C:\\Users\\User\\AppData\\Local\\Temp/ipykernel_7636/3399169565.py:3: FutureWarning: Dropping of nuisance columns in DataFrame reductions (with 'numeric_only=None') is deprecated; in a future version this will raise TypeError.  Select only valid columns before calling the reduction.\n",
      "  df_train = df_train.fillna(df.max())\n"
     ]
    }
   ],
   "source": [
    "#замения пропуски максимальными значениями расстояний\n",
    "df_train = df.copy()\n",
    "df_train = df_train.fillna(df.max())"
   ]
  },
  {
   "cell_type": "code",
   "execution_count": null,
   "id": "778e62e5",
   "metadata": {},
   "outputs": [],
   "source": []
  },
  {
   "cell_type": "code",
   "execution_count": 20,
   "id": "824094ec",
   "metadata": {},
   "outputs": [
    {
     "data": {
      "text/plain": [
       "Index(['id', 'atm_group', 'address', 'address_rus', 'lat', 'lng',\n",
       "       'test_train_flag', 'geometry', 'distance_to_fast_food',\n",
       "       'distance_to_clothes', 'distance_to_vending_parking',\n",
       "       'distance_to_cafe', 'distance_to_pharmacy', 'distance_to_atm',\n",
       "       'distance_to_cinema', 'distance_to_shoe_shop', 'distance_to_bank',\n",
       "       'distance_to_supermarket', 'distance_to_restaurant',\n",
       "       'distance_to_mobile_phone_shop', 'distance_to_convenience',\n",
       "       'distance_to_vending_any', 'distance_to_bank_Сбербанк',\n",
       "       'distance_to_bank_ВТБ', 'distance_to_bank_Альфа-Банк',\n",
       "       'distance_to_bank_Росбанк', 'distance_to_atm_Сбербанк',\n",
       "       'distance_to_atm_ВТБ', 'distance_to_atm_Альфа-Банк',\n",
       "       'distance_to_atm_Росбанк', 'distance_to_retail',\n",
       "       'distance_to_residential', 'distance_to_office',\n",
       "       'distance_to_commercial', 'distance_to_detached',\n",
       "       'distance_to_train_station', 'distance_to_apartments',\n",
       "       'distance_to_house', 'distance_to_railway_halt',\n",
       "       'distance_to_tram_stop', 'distance_to_bus_stop',\n",
       "       'distance_to_railway_station', 'distance_to_airport',\n",
       "       'distance_to_parking', 'distance_to_parking_underground',\n",
       "       'cnt_apart_200m', 'cnt_banks_200m', 'cnt_atm_200m', 'cities', 'regions',\n",
       "       'states', 'target'],\n",
       "      dtype='object')"
      ]
     },
     "execution_count": 20,
     "metadata": {},
     "output_type": "execute_result"
    }
   ],
   "source": [
    "df_train.columns"
   ]
  },
  {
   "cell_type": "code",
   "execution_count": 21,
   "id": "120a8f32",
   "metadata": {},
   "outputs": [],
   "source": [
    "#все числовые переменные\n",
    "df_train_numeric = df_train[['atm_group','distance_to_fast_food',\n",
    "       'distance_to_clothes', 'distance_to_vending_parking',\n",
    "       'distance_to_cafe', 'distance_to_pharmacy', 'distance_to_atm',\n",
    "       'distance_to_cinema', 'distance_to_shoe_shop', 'distance_to_bank',\n",
    "       'distance_to_supermarket', 'distance_to_restaurant',\n",
    "       'distance_to_mobile_phone_shop', 'distance_to_convenience',\n",
    "       'distance_to_vending_any', 'distance_to_bank_Сбербанк',\n",
    "       'distance_to_bank_ВТБ', 'distance_to_bank_Альфа-Банк',\n",
    "       'distance_to_bank_Росбанк', 'distance_to_atm_Сбербанк',\n",
    "       'distance_to_atm_ВТБ', 'distance_to_atm_Альфа-Банк',\n",
    "       'distance_to_atm_Росбанк', 'distance_to_retail',\n",
    "       'distance_to_residential', 'distance_to_office',\n",
    "       'distance_to_commercial', 'distance_to_detached',\n",
    "       'distance_to_train_station', 'distance_to_apartments',\n",
    "       'distance_to_house', 'distance_to_railway_halt',\n",
    "       'distance_to_tram_stop', 'distance_to_bus_stop',\n",
    "       'distance_to_railway_station', 'distance_to_airport',\n",
    "       'distance_to_parking', 'distance_to_parking_underground'\n",
    "       ,'cnt_apart_200m', 'cnt_banks_200m', 'cnt_atm_200m'\n",
    "                            ]]"
   ]
  },
  {
   "cell_type": "code",
   "execution_count": 22,
   "id": "d4b91460",
   "metadata": {},
   "outputs": [
    {
     "data": {
      "text/plain": [
       "0    0.011500\n",
       "1    0.029710\n",
       "2    0.009540\n",
       "3   -0.094035\n",
       "4    0.079277\n",
       "Name: target, dtype: float64"
      ]
     },
     "execution_count": 22,
     "metadata": {},
     "output_type": "execute_result"
    }
   ],
   "source": [
    "#таргет переменная \n",
    "df_train['target'].head()"
   ]
  },
  {
   "cell_type": "markdown",
   "id": "7014cf83",
   "metadata": {},
   "source": [
    "# Просто регрессия на числовых признаках"
   ]
  },
  {
   "cell_type": "code",
   "execution_count": 23,
   "id": "dbb9143b",
   "metadata": {},
   "outputs": [],
   "source": [
    "X_train, X_test, y_train, y_test = train_test_split(df_train_numeric, df_train['target'], test_size=0.25, random_state=42)"
   ]
  },
  {
   "cell_type": "code",
   "execution_count": 24,
   "id": "6a3d7945",
   "metadata": {},
   "outputs": [],
   "source": [
    "from sklearn.linear_model import LinearRegression\n",
    "from sklearn.metrics import r2_score, mean_squared_error"
   ]
  },
  {
   "cell_type": "code",
   "execution_count": 25,
   "id": "077328a0",
   "metadata": {},
   "outputs": [
    {
     "data": {
      "text/plain": [
       "LinearRegression()"
      ]
     },
     "execution_count": 25,
     "metadata": {},
     "output_type": "execute_result"
    }
   ],
   "source": [
    "model = LinearRegression()\n",
    "model.fit(X_train, y_train)"
   ]
  },
  {
   "cell_type": "code",
   "execution_count": 26,
   "id": "fd979d78",
   "metadata": {},
   "outputs": [],
   "source": [
    "y_pred = model.predict(X_test)"
   ]
  },
  {
   "cell_type": "code",
   "execution_count": 27,
   "id": "2edd998b",
   "metadata": {},
   "outputs": [
    {
     "data": {
      "text/plain": [
       "0.3246826076123548"
      ]
     },
     "execution_count": 27,
     "metadata": {},
     "output_type": "execute_result"
    }
   ],
   "source": [
    "r2_score(y_test, y_pred)"
   ]
  },
  {
   "cell_type": "code",
   "execution_count": 28,
   "id": "fde75a79",
   "metadata": {},
   "outputs": [],
   "source": [
    "rms = mean_squared_error(y_test, y_pred)**0.5"
   ]
  },
  {
   "cell_type": "code",
   "execution_count": 29,
   "id": "b035c849",
   "metadata": {},
   "outputs": [
    {
     "data": {
      "text/plain": [
       "0.07095802106467328"
      ]
     },
     "execution_count": 29,
     "metadata": {},
     "output_type": "execute_result"
    }
   ],
   "source": [
    "rms"
   ]
  },
  {
   "cell_type": "markdown",
   "id": "8d5954c0",
   "metadata": {},
   "source": [
    "# Масштабирование признаков"
   ]
  },
  {
   "cell_type": "code",
   "execution_count": 30,
   "id": "a5517a90",
   "metadata": {},
   "outputs": [],
   "source": [
    "from sklearn.preprocessing import StandardScaler"
   ]
  },
  {
   "cell_type": "code",
   "execution_count": 31,
   "id": "a4be9bef",
   "metadata": {},
   "outputs": [],
   "source": [
    "\n",
    "scaler = StandardScaler() \n",
    "X_train = pd.DataFrame(scaler.fit_transform(X_train), columns = [list(X_train.columns)])\n",
    "X_test = pd.DataFrame(scaler.fit_transform(X_test), columns = [list(X_test.columns)])"
   ]
  },
  {
   "cell_type": "code",
   "execution_count": 32,
   "id": "943c5681",
   "metadata": {},
   "outputs": [
    {
     "data": {
      "text/plain": [
       "LinearRegression()"
      ]
     },
     "execution_count": 32,
     "metadata": {},
     "output_type": "execute_result"
    }
   ],
   "source": [
    "model = LinearRegression()\n",
    "model.fit(X_train, y_train)"
   ]
  },
  {
   "cell_type": "code",
   "execution_count": 33,
   "id": "80a431a8",
   "metadata": {},
   "outputs": [],
   "source": [
    "y_pred = model.predict(X_test)"
   ]
  },
  {
   "cell_type": "code",
   "execution_count": 34,
   "id": "c2749c8f",
   "metadata": {},
   "outputs": [
    {
     "data": {
      "text/plain": [
       "0.3252218474518983"
      ]
     },
     "execution_count": 34,
     "metadata": {},
     "output_type": "execute_result"
    }
   ],
   "source": [
    "r2_score(y_test, y_pred)"
   ]
  },
  {
   "cell_type": "code",
   "execution_count": 35,
   "id": "ebe1c832",
   "metadata": {},
   "outputs": [],
   "source": [
    "from sklearn.metrics import mean_squared_error\n",
    "\n",
    "rms = mean_squared_error(y_test, y_pred)**0.5"
   ]
  },
  {
   "cell_type": "code",
   "execution_count": 36,
   "id": "529730c5",
   "metadata": {},
   "outputs": [
    {
     "data": {
      "text/plain": [
       "0.07092968547485298"
      ]
     },
     "execution_count": 36,
     "metadata": {},
     "output_type": "execute_result"
    }
   ],
   "source": [
    "rms"
   ]
  },
  {
   "cell_type": "markdown",
   "id": "6c82cfcf",
   "metadata": {},
   "source": [
    "Особо качество не изменилось"
   ]
  },
  {
   "cell_type": "markdown",
   "id": "5ecc07da",
   "metadata": {},
   "source": [
    "# Пробую L1 регуляризацию (Lasso)"
   ]
  },
  {
   "cell_type": "code",
   "execution_count": 37,
   "id": "ac9dd56e",
   "metadata": {},
   "outputs": [],
   "source": [
    "from sklearn.model_selection import GridSearchCV\n",
    "from sklearn.linear_model import Lasso\n",
    "model = Lasso()\n",
    "# your code here"
   ]
  },
  {
   "cell_type": "code",
   "execution_count": 38,
   "id": "39b6b427",
   "metadata": {},
   "outputs": [],
   "source": [
    "lasso_params = {'alpha':list(np.arange(0.01, 1, 0.01))}\n"
   ]
  },
  {
   "cell_type": "code",
   "execution_count": 39,
   "id": "bcb96443",
   "metadata": {},
   "outputs": [],
   "source": [
    "gscv = GridSearchCV(Lasso(), param_grid = lasso_params, cv = 10, scoring='r2').fit(X_train, y_train)"
   ]
  },
  {
   "cell_type": "code",
   "execution_count": 40,
   "id": "18a26c08",
   "metadata": {},
   "outputs": [
    {
     "data": {
      "text/plain": [
       "0.2669440358475437"
      ]
     },
     "execution_count": 40,
     "metadata": {},
     "output_type": "execute_result"
    }
   ],
   "source": [
    "gscv.best_score_"
   ]
  },
  {
   "cell_type": "code",
   "execution_count": 41,
   "id": "2a8440d1",
   "metadata": {},
   "outputs": [
    {
     "data": {
      "text/plain": [
       "Lasso(alpha=0.01)"
      ]
     },
     "execution_count": 41,
     "metadata": {},
     "output_type": "execute_result"
    }
   ],
   "source": [
    "gscv.best_estimator_"
   ]
  },
  {
   "cell_type": "code",
   "execution_count": 42,
   "id": "3fc67751",
   "metadata": {},
   "outputs": [
    {
     "data": {
      "text/plain": [
       "Lasso(alpha=0.01)"
      ]
     },
     "execution_count": 42,
     "metadata": {},
     "output_type": "execute_result"
    }
   ],
   "source": [
    "model_l = Lasso(alpha = 0.01)\n",
    "model_l.fit(X_train, y_train)"
   ]
  },
  {
   "cell_type": "markdown",
   "id": "bd97760b",
   "metadata": {},
   "source": [
    "model_l = Lasso(alpha = 0.01)\n",
    "model_l.fit(X_train, y_train)"
   ]
  },
  {
   "cell_type": "code",
   "execution_count": 43,
   "id": "a1be3a51",
   "metadata": {},
   "outputs": [],
   "source": [
    "y_pred = model_l.predict(X_test)"
   ]
  },
  {
   "cell_type": "code",
   "execution_count": 44,
   "id": "48e7062b",
   "metadata": {},
   "outputs": [
    {
     "data": {
      "text/plain": [
       "0.07314892864802164"
      ]
     },
     "execution_count": 44,
     "metadata": {},
     "output_type": "execute_result"
    }
   ],
   "source": [
    "rms = mean_squared_error(y_test, y_pred)**0.5\n",
    "rms"
   ]
  },
  {
   "cell_type": "markdown",
   "id": "d73a2a74",
   "metadata": {},
   "source": [
    "Качество с L1 регуляризацией стало хуже"
   ]
  },
  {
   "cell_type": "markdown",
   "id": "f5534e99",
   "metadata": {},
   "source": [
    "# Добавляю категориальные фичи"
   ]
  },
  {
   "cell_type": "code",
   "execution_count": 45,
   "id": "5e9aa1cc",
   "metadata": {},
   "outputs": [],
   "source": [
    "#все числовые переменные\n",
    "df_train_numeric = df_train[['atm_group','distance_to_fast_food',\n",
    "       'distance_to_clothes', 'distance_to_vending_parking',\n",
    "       'distance_to_cafe', 'distance_to_pharmacy', 'distance_to_atm',\n",
    "       'distance_to_cinema', 'distance_to_shoe_shop', 'distance_to_bank',\n",
    "       'distance_to_supermarket', 'distance_to_restaurant',\n",
    "       'distance_to_mobile_phone_shop', 'distance_to_convenience',\n",
    "       'distance_to_vending_any', 'distance_to_bank_Сбербанк',\n",
    "       'distance_to_bank_ВТБ', 'distance_to_bank_Альфа-Банк',\n",
    "       'distance_to_bank_Росбанк', 'distance_to_atm_Сбербанк',\n",
    "       'distance_to_atm_ВТБ', 'distance_to_atm_Альфа-Банк',\n",
    "       'distance_to_atm_Росбанк', 'distance_to_retail',\n",
    "       'distance_to_residential', 'distance_to_office',\n",
    "       'distance_to_commercial', 'distance_to_detached',\n",
    "       'distance_to_train_station', 'distance_to_apartments',\n",
    "       'distance_to_house', 'distance_to_railway_halt',\n",
    "       'distance_to_tram_stop', 'distance_to_bus_stop',\n",
    "       'distance_to_railway_station', 'distance_to_airport',\n",
    "       'distance_to_parking', 'distance_to_parking_underground'\n",
    "       ,'cnt_apart_200m', 'cnt_banks_200m', 'cnt_atm_200m', 'regions'\n",
    "                            ]]"
   ]
  },
  {
   "cell_type": "code",
   "execution_count": 46,
   "id": "4462dd91",
   "metadata": {},
   "outputs": [
    {
     "name": "stderr",
     "output_type": "stream",
     "text": [
      "C:\\Users\\User\\AppData\\Local\\Temp\\ipykernel_14400\\2551875292.py:1: SettingWithCopyWarning: \n",
      "A value is trying to be set on a copy of a slice from a DataFrame.\n",
      "Try using .loc[row_indexer,col_indexer] = value instead\n",
      "\n",
      "See the caveats in the documentation: https://pandas.pydata.org/pandas-docs/stable/user_guide/indexing.html#returning-a-view-versus-a-copy\n",
      "  df_train_numeric['atm_group'] = df_train_numeric['atm_group'].astype('object')\n",
      "C:\\Program Files\\Anaconda\\lib\\site-packages\\pandas\\core\\algorithms.py:798: FutureWarning: In a future version, the Index constructor will not infer numeric dtypes when passed object-dtype sequences (matching Series behavior)\n",
      "  uniques = Index(uniques)\n"
     ]
    }
   ],
   "source": [
    "df_train_numeric['atm_group'] = df_train_numeric['atm_group'].astype('object')\n",
    "df_train_all_features = pd.get_dummies(df_train_numeric, drop_first=True)"
   ]
  },
  {
   "cell_type": "code",
   "execution_count": 47,
   "id": "bf9c4678",
   "metadata": {},
   "outputs": [],
   "source": [
    "X_train, X_test, y_train, y_test = train_test_split(df_train_all_features, df_train['target'], test_size=0.25, random_state=42)"
   ]
  },
  {
   "cell_type": "code",
   "execution_count": 48,
   "id": "7e6fb3d2",
   "metadata": {
    "scrolled": true
   },
   "outputs": [
    {
     "data": {
      "text/plain": [
       "LinearRegression()"
      ]
     },
     "execution_count": 48,
     "metadata": {},
     "output_type": "execute_result"
    }
   ],
   "source": [
    "model = LinearRegression()\n",
    "model.fit(X_train, y_train)"
   ]
  },
  {
   "cell_type": "code",
   "execution_count": 49,
   "id": "862d9ccd",
   "metadata": {},
   "outputs": [],
   "source": [
    "y_pred = model.predict(X_test)"
   ]
  },
  {
   "cell_type": "code",
   "execution_count": 50,
   "id": "e15168c3",
   "metadata": {},
   "outputs": [
    {
     "data": {
      "text/plain": [
       "0.6979196957404209"
      ]
     },
     "execution_count": 50,
     "metadata": {},
     "output_type": "execute_result"
    }
   ],
   "source": [
    "r2_score(y_test, y_pred)"
   ]
  },
  {
   "cell_type": "code",
   "execution_count": 51,
   "id": "5391c433",
   "metadata": {},
   "outputs": [],
   "source": [
    "rms = mean_squared_error(y_test, y_pred)**0.5"
   ]
  },
  {
   "cell_type": "code",
   "execution_count": 52,
   "id": "a7885534",
   "metadata": {},
   "outputs": [
    {
     "data": {
      "text/plain": [
       "0.04745792357547151"
      ]
     },
     "execution_count": 52,
     "metadata": {},
     "output_type": "execute_result"
    }
   ],
   "source": [
    "rms"
   ]
  },
  {
   "cell_type": "markdown",
   "id": "705d5281",
   "metadata": {},
   "source": [
    "качество заметно улучшилось"
   ]
  },
  {
   "cell_type": "markdown",
   "id": "a86f4bef",
   "metadata": {},
   "source": [
    "# Пробую Ridge регрессию"
   ]
  },
  {
   "cell_type": "code",
   "execution_count": 64,
   "id": "9f3ca389",
   "metadata": {},
   "outputs": [],
   "source": [
    "from sklearn.linear_model import Ridge"
   ]
  },
  {
   "cell_type": "code",
   "execution_count": 65,
   "id": "037fa462",
   "metadata": {},
   "outputs": [],
   "source": [
    "ridge_params = {'alpha':list(np.arange(0.01, 100, 0.1))}"
   ]
  },
  {
   "cell_type": "code",
   "execution_count": 66,
   "id": "74c7b260",
   "metadata": {},
   "outputs": [],
   "source": [
    "gscv = GridSearchCV(Ridge(), param_grid = ridge_params, cv = 10, scoring='r2').fit(X_train, y_train)"
   ]
  },
  {
   "cell_type": "code",
   "execution_count": 67,
   "id": "8bb98ff5",
   "metadata": {},
   "outputs": [
    {
     "data": {
      "text/plain": [
       "0.690611533810242"
      ]
     },
     "execution_count": 67,
     "metadata": {},
     "output_type": "execute_result"
    }
   ],
   "source": [
    "gscv.best_score_"
   ]
  },
  {
   "cell_type": "code",
   "execution_count": 68,
   "id": "d5b33160",
   "metadata": {},
   "outputs": [
    {
     "data": {
      "text/plain": [
       "Ridge(alpha=86.61000000000001)"
      ]
     },
     "execution_count": 68,
     "metadata": {},
     "output_type": "execute_result"
    }
   ],
   "source": [
    "gscv.best_estimator_"
   ]
  },
  {
   "cell_type": "code",
   "execution_count": 69,
   "id": "c5baf649",
   "metadata": {},
   "outputs": [
    {
     "data": {
      "text/plain": [
       "Ridge(alpha=86.61000000000001)"
      ]
     },
     "execution_count": 69,
     "metadata": {},
     "output_type": "execute_result"
    }
   ],
   "source": [
    "model_ridge = Ridge(alpha = 86.61000000000001)\n",
    "model_ridge.fit(X_train, y_train)"
   ]
  },
  {
   "cell_type": "code",
   "execution_count": 70,
   "id": "1eccf379",
   "metadata": {},
   "outputs": [],
   "source": [
    "y_pred = model_ridge.predict(X_test)"
   ]
  },
  {
   "cell_type": "code",
   "execution_count": 71,
   "id": "cf9a435b",
   "metadata": {},
   "outputs": [
    {
     "data": {
      "text/plain": [
       "0.6969928830024312"
      ]
     },
     "execution_count": 71,
     "metadata": {},
     "output_type": "execute_result"
    }
   ],
   "source": [
    "r2_score(y_test, y_pred)"
   ]
  },
  {
   "cell_type": "code",
   "execution_count": 72,
   "id": "a0671de1",
   "metadata": {},
   "outputs": [],
   "source": [
    "rms = mean_squared_error(y_test, y_pred)**0.5"
   ]
  },
  {
   "cell_type": "code",
   "execution_count": 73,
   "id": "025f3357",
   "metadata": {},
   "outputs": [
    {
     "data": {
      "text/plain": [
       "0.04753067065931728"
      ]
     },
     "execution_count": 73,
     "metadata": {},
     "output_type": "execute_result"
    }
   ],
   "source": [
    "rms"
   ]
  },
  {
   "cell_type": "markdown",
   "id": "dc68d258",
   "metadata": {},
   "source": [
    "Качество слегка ухудшилось"
   ]
  },
  {
   "cell_type": "markdown",
   "id": "bf24eed5",
   "metadata": {},
   "source": [
    "# Метод ближайших соседей"
   ]
  },
  {
   "cell_type": "code",
   "execution_count": 74,
   "id": "57c3c707",
   "metadata": {},
   "outputs": [],
   "source": [
    "from sklearn.neighbors import KNeighborsRegressor"
   ]
  },
  {
   "cell_type": "code",
   "execution_count": 75,
   "id": "0654bda1",
   "metadata": {},
   "outputs": [
    {
     "data": {
      "text/plain": [
       "KNeighborsRegressor(n_neighbors=10)"
      ]
     },
     "execution_count": 75,
     "metadata": {},
     "output_type": "execute_result"
    }
   ],
   "source": [
    "model = KNeighborsRegressor(n_neighbors=10) #лучший результат достигается с 10-ю соседями\n",
    "model.fit(X_train, y_train)"
   ]
  },
  {
   "cell_type": "code",
   "execution_count": 76,
   "id": "02a8faa0",
   "metadata": {},
   "outputs": [],
   "source": [
    "y_pred = model.predict(X_test)"
   ]
  },
  {
   "cell_type": "code",
   "execution_count": 77,
   "id": "16b8bbaf",
   "metadata": {},
   "outputs": [
    {
     "data": {
      "text/plain": [
       "0.5550742957209278"
      ]
     },
     "execution_count": 77,
     "metadata": {},
     "output_type": "execute_result"
    }
   ],
   "source": [
    "r2_score(y_test, y_pred)"
   ]
  },
  {
   "cell_type": "code",
   "execution_count": 78,
   "id": "a594a86d",
   "metadata": {},
   "outputs": [
    {
     "data": {
      "text/plain": [
       "0.05759586112760437"
      ]
     },
     "execution_count": 78,
     "metadata": {},
     "output_type": "execute_result"
    }
   ],
   "source": [
    "rms = mean_squared_error(y_test, y_pred)**0.5\n",
    "rms"
   ]
  },
  {
   "cell_type": "markdown",
   "id": "bd6b5ab6",
   "metadata": {},
   "source": [
    "Качество сильно хуже чем у обычной регрессии"
   ]
  },
  {
   "cell_type": "markdown",
   "id": "15b16dc3",
   "metadata": {},
   "source": [
    "# Метод опорных векторов"
   ]
  },
  {
   "cell_type": "code",
   "execution_count": 79,
   "id": "62401445",
   "metadata": {},
   "outputs": [],
   "source": [
    "from sklearn.svm import SVR\n",
    "regr = svm.SVR()\n",
    "model = regr.fit(X_train, y_train)"
   ]
  },
  {
   "cell_type": "code",
   "execution_count": 80,
   "id": "2af3ecf3",
   "metadata": {},
   "outputs": [],
   "source": [
    "у_pred = model.predict(X_test)"
   ]
  },
  {
   "cell_type": "code",
   "execution_count": 81,
   "id": "49aea7e8",
   "metadata": {},
   "outputs": [
    {
     "data": {
      "text/plain": [
       "0.5550742957209278"
      ]
     },
     "execution_count": 81,
     "metadata": {},
     "output_type": "execute_result"
    }
   ],
   "source": [
    "r2_score(y_test, y_pred)"
   ]
  },
  {
   "cell_type": "code",
   "execution_count": 82,
   "id": "76eaaf59",
   "metadata": {},
   "outputs": [
    {
     "data": {
      "text/plain": [
       "0.05759586112760437"
      ]
     },
     "execution_count": 82,
     "metadata": {},
     "output_type": "execute_result"
    }
   ],
   "source": [
    "rms = mean_squared_error(y_test, y_pred)**0.5\n",
    "rms"
   ]
  },
  {
   "cell_type": "markdown",
   "id": "5fff8fe7",
   "metadata": {},
   "source": [
    "Тоже хуже чем обычная регрессия"
   ]
  },
  {
   "cell_type": "markdown",
   "id": "08cc8074",
   "metadata": {},
   "source": [
    "# Catboost"
   ]
  },
  {
   "cell_type": "code",
   "execution_count": 83,
   "id": "79fb3f76",
   "metadata": {},
   "outputs": [],
   "source": [
    "cat_features= ['regions','states','atm_group','cities']"
   ]
  },
  {
   "cell_type": "code",
   "execution_count": 84,
   "id": "7d992dd0",
   "metadata": {},
   "outputs": [],
   "source": [
    "df_train['atm_group'] = 'str' + df_train['atm_group'].astype(str)"
   ]
  },
  {
   "cell_type": "code",
   "execution_count": 85,
   "id": "e8e33233",
   "metadata": {},
   "outputs": [],
   "source": [
    "df_for_catboost = df_train[['atm_group', 'distance_to_fast_food',\n",
    "       'distance_to_clothes', 'distance_to_vending_parking',\n",
    "       'distance_to_cafe', 'distance_to_pharmacy', 'distance_to_atm',\n",
    "       'distance_to_cinema', 'distance_to_shoe_shop', 'distance_to_bank',\n",
    "       'distance_to_supermarket', 'distance_to_restaurant',\n",
    "       'distance_to_mobile_phone_shop', 'distance_to_convenience',\n",
    "       'distance_to_vending_any', 'distance_to_bank_Сбербанк',\n",
    "       'distance_to_bank_ВТБ', 'distance_to_bank_Альфа-Банк',\n",
    "       'distance_to_bank_Росбанк', 'distance_to_atm_Сбербанк',\n",
    "       'distance_to_atm_ВТБ', 'distance_to_atm_Альфа-Банк',\n",
    "       'distance_to_atm_Росбанк', 'distance_to_retail',\n",
    "       'distance_to_residential', 'distance_to_office',\n",
    "       'distance_to_commercial', 'distance_to_detached',\n",
    "       'distance_to_train_station', 'distance_to_apartments',\n",
    "       'distance_to_house', 'distance_to_railway_halt',\n",
    "       'distance_to_tram_stop', 'distance_to_bus_stop',\n",
    "       'distance_to_railway_station', 'distance_to_airport',\n",
    "       'distance_to_parking', 'distance_to_parking_underground',\n",
    "       'cnt_apart_200m', 'cnt_banks_200m', 'cnt_atm_200m', 'regions',\n",
    "       'states','cities']]"
   ]
  },
  {
   "cell_type": "code",
   "execution_count": 86,
   "id": "a637ae81",
   "metadata": {},
   "outputs": [],
   "source": [
    "from catboost import CatBoostRegressor"
   ]
  },
  {
   "cell_type": "code",
   "execution_count": 87,
   "id": "bcdc83e9",
   "metadata": {},
   "outputs": [],
   "source": [
    "model  = CatBoostRegressor(cat_features= cat_features,\n",
    "                           eval_metric = 'RMSE',\n",
    "                           random_seed = 42)"
   ]
  },
  {
   "cell_type": "code",
   "execution_count": 88,
   "id": "b77bf2b1",
   "metadata": {},
   "outputs": [],
   "source": [
    "X_train, X_test, y_train, y_test = train_test_split(df_for_catboost, df_train['target'], test_size=0.25, random_state=42)"
   ]
  },
  {
   "cell_type": "code",
   "execution_count": 91,
   "id": "9bfd6676",
   "metadata": {},
   "outputs": [
    {
     "name": "stdout",
     "output_type": "stream",
     "text": [
      "Learning rate set to 0.051866\n",
      "0:\tlearn: 0.0833585\ttotal: 189ms\tremaining: 3m 8s\n",
      "1:\tlearn: 0.0807143\ttotal: 224ms\tremaining: 1m 51s\n",
      "2:\tlearn: 0.0782274\ttotal: 255ms\tremaining: 1m 24s\n",
      "3:\tlearn: 0.0758660\ttotal: 291ms\tremaining: 1m 12s\n",
      "4:\tlearn: 0.0736472\ttotal: 320ms\tremaining: 1m 3s\n",
      "5:\tlearn: 0.0715783\ttotal: 348ms\tremaining: 57.7s\n",
      "6:\tlearn: 0.0696615\ttotal: 378ms\tremaining: 53.6s\n",
      "7:\tlearn: 0.0679078\ttotal: 413ms\tremaining: 51.2s\n",
      "8:\tlearn: 0.0663392\ttotal: 446ms\tremaining: 49.1s\n",
      "9:\tlearn: 0.0648120\ttotal: 475ms\tremaining: 47s\n",
      "10:\tlearn: 0.0633876\ttotal: 504ms\tremaining: 45.3s\n",
      "11:\tlearn: 0.0620831\ttotal: 538ms\tremaining: 44.3s\n",
      "12:\tlearn: 0.0608578\ttotal: 565ms\tremaining: 42.9s\n",
      "13:\tlearn: 0.0597713\ttotal: 595ms\tremaining: 41.9s\n",
      "14:\tlearn: 0.0588537\ttotal: 606ms\tremaining: 39.8s\n",
      "15:\tlearn: 0.0578760\ttotal: 641ms\tremaining: 39.4s\n",
      "16:\tlearn: 0.0569743\ttotal: 670ms\tremaining: 38.8s\n",
      "17:\tlearn: 0.0561564\ttotal: 700ms\tremaining: 38.2s\n",
      "18:\tlearn: 0.0553889\ttotal: 733ms\tremaining: 37.8s\n",
      "19:\tlearn: 0.0547295\ttotal: 762ms\tremaining: 37.3s\n",
      "20:\tlearn: 0.0540860\ttotal: 793ms\tremaining: 37s\n",
      "21:\tlearn: 0.0534924\ttotal: 827ms\tremaining: 36.8s\n",
      "22:\tlearn: 0.0529819\ttotal: 860ms\tremaining: 36.5s\n",
      "23:\tlearn: 0.0524845\ttotal: 895ms\tremaining: 36.4s\n",
      "24:\tlearn: 0.0519633\ttotal: 934ms\tremaining: 36.4s\n",
      "25:\tlearn: 0.0515328\ttotal: 962ms\tremaining: 36.1s\n",
      "26:\tlearn: 0.0511166\ttotal: 992ms\tremaining: 35.8s\n",
      "27:\tlearn: 0.0507322\ttotal: 1.02s\tremaining: 35.6s\n",
      "28:\tlearn: 0.0503986\ttotal: 1.06s\tremaining: 35.6s\n",
      "29:\tlearn: 0.0500832\ttotal: 1.1s\tremaining: 35.6s\n",
      "30:\tlearn: 0.0498243\ttotal: 1.14s\tremaining: 35.5s\n",
      "31:\tlearn: 0.0495302\ttotal: 1.17s\tremaining: 35.4s\n",
      "32:\tlearn: 0.0492537\ttotal: 1.2s\tremaining: 35.1s\n",
      "33:\tlearn: 0.0490034\ttotal: 1.23s\tremaining: 34.9s\n",
      "34:\tlearn: 0.0487746\ttotal: 1.26s\tremaining: 34.8s\n",
      "35:\tlearn: 0.0485583\ttotal: 1.29s\tremaining: 34.6s\n",
      "36:\tlearn: 0.0483478\ttotal: 1.32s\tremaining: 34.5s\n",
      "37:\tlearn: 0.0481529\ttotal: 1.36s\tremaining: 34.4s\n",
      "38:\tlearn: 0.0479735\ttotal: 1.39s\tremaining: 34.3s\n",
      "39:\tlearn: 0.0477971\ttotal: 1.42s\tremaining: 34.1s\n",
      "40:\tlearn: 0.0476350\ttotal: 1.45s\tremaining: 34s\n",
      "41:\tlearn: 0.0475193\ttotal: 1.48s\tremaining: 33.9s\n",
      "42:\tlearn: 0.0473858\ttotal: 1.51s\tremaining: 33.7s\n",
      "43:\tlearn: 0.0472441\ttotal: 1.55s\tremaining: 33.7s\n",
      "44:\tlearn: 0.0471263\ttotal: 1.58s\tremaining: 33.6s\n",
      "45:\tlearn: 0.0470002\ttotal: 1.61s\tremaining: 33.5s\n",
      "46:\tlearn: 0.0468840\ttotal: 1.65s\tremaining: 33.4s\n",
      "47:\tlearn: 0.0467699\ttotal: 1.68s\tremaining: 33.2s\n",
      "48:\tlearn: 0.0466952\ttotal: 1.7s\tremaining: 33.1s\n",
      "49:\tlearn: 0.0466060\ttotal: 1.74s\tremaining: 33s\n",
      "50:\tlearn: 0.0465169\ttotal: 1.77s\tremaining: 32.9s\n",
      "51:\tlearn: 0.0464377\ttotal: 1.8s\tremaining: 32.8s\n",
      "52:\tlearn: 0.0463694\ttotal: 1.83s\tremaining: 32.8s\n",
      "53:\tlearn: 0.0462777\ttotal: 1.86s\tremaining: 32.7s\n",
      "54:\tlearn: 0.0462244\ttotal: 1.9s\tremaining: 32.6s\n",
      "55:\tlearn: 0.0461277\ttotal: 1.93s\tremaining: 32.5s\n",
      "56:\tlearn: 0.0460723\ttotal: 1.96s\tremaining: 32.4s\n",
      "57:\tlearn: 0.0460153\ttotal: 1.99s\tremaining: 32.4s\n",
      "58:\tlearn: 0.0459627\ttotal: 2.03s\tremaining: 32.4s\n",
      "59:\tlearn: 0.0458958\ttotal: 2.06s\tremaining: 32.3s\n",
      "60:\tlearn: 0.0458311\ttotal: 2.09s\tremaining: 32.2s\n",
      "61:\tlearn: 0.0457378\ttotal: 2.12s\tremaining: 32.1s\n",
      "62:\tlearn: 0.0456835\ttotal: 2.15s\tremaining: 32s\n",
      "63:\tlearn: 0.0456325\ttotal: 2.18s\tremaining: 31.9s\n",
      "64:\tlearn: 0.0455714\ttotal: 2.22s\tremaining: 31.9s\n",
      "65:\tlearn: 0.0455265\ttotal: 2.26s\tremaining: 32s\n",
      "66:\tlearn: 0.0454716\ttotal: 2.29s\tremaining: 31.9s\n",
      "67:\tlearn: 0.0454104\ttotal: 2.32s\tremaining: 31.8s\n",
      "68:\tlearn: 0.0453177\ttotal: 2.35s\tremaining: 31.8s\n",
      "69:\tlearn: 0.0452686\ttotal: 2.38s\tremaining: 31.7s\n",
      "70:\tlearn: 0.0452275\ttotal: 2.42s\tremaining: 31.6s\n",
      "71:\tlearn: 0.0451503\ttotal: 2.45s\tremaining: 31.6s\n",
      "72:\tlearn: 0.0450958\ttotal: 2.48s\tremaining: 31.5s\n",
      "73:\tlearn: 0.0450357\ttotal: 2.52s\tremaining: 31.5s\n",
      "74:\tlearn: 0.0449735\ttotal: 2.54s\tremaining: 31.4s\n",
      "75:\tlearn: 0.0449240\ttotal: 2.57s\tremaining: 31.3s\n",
      "76:\tlearn: 0.0448686\ttotal: 2.61s\tremaining: 31.3s\n",
      "77:\tlearn: 0.0448219\ttotal: 2.64s\tremaining: 31.2s\n",
      "78:\tlearn: 0.0447825\ttotal: 2.67s\tremaining: 31.1s\n",
      "79:\tlearn: 0.0447426\ttotal: 2.71s\tremaining: 31.1s\n",
      "80:\tlearn: 0.0447074\ttotal: 2.73s\tremaining: 31s\n",
      "81:\tlearn: 0.0446388\ttotal: 2.76s\tremaining: 31s\n",
      "82:\tlearn: 0.0446028\ttotal: 2.8s\tremaining: 30.9s\n",
      "83:\tlearn: 0.0445763\ttotal: 2.83s\tremaining: 30.9s\n",
      "84:\tlearn: 0.0445423\ttotal: 2.86s\tremaining: 30.8s\n",
      "85:\tlearn: 0.0445149\ttotal: 2.9s\tremaining: 30.8s\n",
      "86:\tlearn: 0.0444789\ttotal: 2.93s\tremaining: 30.8s\n",
      "87:\tlearn: 0.0444481\ttotal: 2.96s\tremaining: 30.7s\n",
      "88:\tlearn: 0.0443999\ttotal: 3s\tremaining: 30.7s\n",
      "89:\tlearn: 0.0443644\ttotal: 3.03s\tremaining: 30.7s\n",
      "90:\tlearn: 0.0443216\ttotal: 3.06s\tremaining: 30.6s\n",
      "91:\tlearn: 0.0442705\ttotal: 3.1s\tremaining: 30.6s\n",
      "92:\tlearn: 0.0442448\ttotal: 3.14s\tremaining: 30.6s\n",
      "93:\tlearn: 0.0442152\ttotal: 3.17s\tremaining: 30.6s\n",
      "94:\tlearn: 0.0441813\ttotal: 3.21s\tremaining: 30.5s\n",
      "95:\tlearn: 0.0441348\ttotal: 3.24s\tremaining: 30.5s\n",
      "96:\tlearn: 0.0441111\ttotal: 3.27s\tremaining: 30.5s\n",
      "97:\tlearn: 0.0440649\ttotal: 3.31s\tremaining: 30.4s\n",
      "98:\tlearn: 0.0440161\ttotal: 3.34s\tremaining: 30.4s\n",
      "99:\tlearn: 0.0439938\ttotal: 3.37s\tremaining: 30.4s\n",
      "100:\tlearn: 0.0439684\ttotal: 3.41s\tremaining: 30.4s\n",
      "101:\tlearn: 0.0439401\ttotal: 3.44s\tremaining: 30.3s\n",
      "102:\tlearn: 0.0439018\ttotal: 3.48s\tremaining: 30.3s\n",
      "103:\tlearn: 0.0438657\ttotal: 3.51s\tremaining: 30.2s\n",
      "104:\tlearn: 0.0438315\ttotal: 3.54s\tremaining: 30.2s\n",
      "105:\tlearn: 0.0437881\ttotal: 3.58s\tremaining: 30.2s\n",
      "106:\tlearn: 0.0437394\ttotal: 3.61s\tremaining: 30.2s\n",
      "107:\tlearn: 0.0436999\ttotal: 3.65s\tremaining: 30.2s\n",
      "108:\tlearn: 0.0436586\ttotal: 3.68s\tremaining: 30.1s\n",
      "109:\tlearn: 0.0436352\ttotal: 3.72s\tremaining: 30.1s\n",
      "110:\tlearn: 0.0435971\ttotal: 3.75s\tremaining: 30.1s\n",
      "111:\tlearn: 0.0435449\ttotal: 3.79s\tremaining: 30s\n",
      "112:\tlearn: 0.0435185\ttotal: 3.82s\tremaining: 30s\n",
      "113:\tlearn: 0.0434985\ttotal: 3.86s\tremaining: 30s\n",
      "114:\tlearn: 0.0434592\ttotal: 3.89s\tremaining: 29.9s\n",
      "115:\tlearn: 0.0434134\ttotal: 3.93s\tremaining: 29.9s\n",
      "116:\tlearn: 0.0433765\ttotal: 3.96s\tremaining: 29.9s\n",
      "117:\tlearn: 0.0433278\ttotal: 3.99s\tremaining: 29.8s\n",
      "118:\tlearn: 0.0432957\ttotal: 4.03s\tremaining: 29.8s\n",
      "119:\tlearn: 0.0432425\ttotal: 4.06s\tremaining: 29.8s\n",
      "120:\tlearn: 0.0432135\ttotal: 4.1s\tremaining: 29.8s\n",
      "121:\tlearn: 0.0431774\ttotal: 4.13s\tremaining: 29.7s\n",
      "122:\tlearn: 0.0431460\ttotal: 4.17s\tremaining: 29.7s\n",
      "123:\tlearn: 0.0431064\ttotal: 4.2s\tremaining: 29.7s\n",
      "124:\tlearn: 0.0430712\ttotal: 4.24s\tremaining: 29.7s\n",
      "125:\tlearn: 0.0430389\ttotal: 4.27s\tremaining: 29.6s\n",
      "126:\tlearn: 0.0429917\ttotal: 4.3s\tremaining: 29.6s\n",
      "127:\tlearn: 0.0429463\ttotal: 4.34s\tremaining: 29.6s\n",
      "128:\tlearn: 0.0429143\ttotal: 4.38s\tremaining: 29.6s\n",
      "129:\tlearn: 0.0429005\ttotal: 4.41s\tremaining: 29.5s\n",
      "130:\tlearn: 0.0428475\ttotal: 4.45s\tremaining: 29.5s\n",
      "131:\tlearn: 0.0428072\ttotal: 4.48s\tremaining: 29.5s\n",
      "132:\tlearn: 0.0427790\ttotal: 4.51s\tremaining: 29.4s\n",
      "133:\tlearn: 0.0427537\ttotal: 4.55s\tremaining: 29.4s\n",
      "134:\tlearn: 0.0427231\ttotal: 4.58s\tremaining: 29.4s\n",
      "135:\tlearn: 0.0426775\ttotal: 4.61s\tremaining: 29.3s\n",
      "136:\tlearn: 0.0426474\ttotal: 4.65s\tremaining: 29.3s\n",
      "137:\tlearn: 0.0426257\ttotal: 4.68s\tremaining: 29.2s\n",
      "138:\tlearn: 0.0425907\ttotal: 4.71s\tremaining: 29.2s\n",
      "139:\tlearn: 0.0425714\ttotal: 4.75s\tremaining: 29.2s\n",
      "140:\tlearn: 0.0425361\ttotal: 4.78s\tremaining: 29.1s\n",
      "141:\tlearn: 0.0425206\ttotal: 4.81s\tremaining: 29.1s\n",
      "142:\tlearn: 0.0424854\ttotal: 4.85s\tremaining: 29.1s\n",
      "143:\tlearn: 0.0424494\ttotal: 4.88s\tremaining: 29s\n",
      "144:\tlearn: 0.0424204\ttotal: 4.91s\tremaining: 28.9s\n",
      "145:\tlearn: 0.0423994\ttotal: 4.94s\tremaining: 28.9s\n",
      "146:\tlearn: 0.0423657\ttotal: 4.97s\tremaining: 28.9s\n",
      "147:\tlearn: 0.0423298\ttotal: 5.01s\tremaining: 28.8s\n",
      "148:\tlearn: 0.0423138\ttotal: 5.04s\tremaining: 28.8s\n",
      "149:\tlearn: 0.0422705\ttotal: 5.08s\tremaining: 28.8s\n",
      "150:\tlearn: 0.0422476\ttotal: 5.11s\tremaining: 28.7s\n",
      "151:\tlearn: 0.0422140\ttotal: 5.17s\tremaining: 28.8s\n",
      "152:\tlearn: 0.0421884\ttotal: 5.2s\tremaining: 28.8s\n",
      "153:\tlearn: 0.0421477\ttotal: 5.24s\tremaining: 28.8s\n",
      "154:\tlearn: 0.0421170\ttotal: 5.27s\tremaining: 28.7s\n",
      "155:\tlearn: 0.0420675\ttotal: 5.3s\tremaining: 28.7s\n",
      "156:\tlearn: 0.0420483\ttotal: 5.33s\tremaining: 28.6s\n",
      "157:\tlearn: 0.0420205\ttotal: 5.36s\tremaining: 28.6s\n",
      "158:\tlearn: 0.0419968\ttotal: 5.39s\tremaining: 28.5s\n",
      "159:\tlearn: 0.0419626\ttotal: 5.43s\tremaining: 28.5s\n",
      "160:\tlearn: 0.0419210\ttotal: 5.47s\tremaining: 28.5s\n",
      "161:\tlearn: 0.0418733\ttotal: 5.5s\tremaining: 28.5s\n",
      "162:\tlearn: 0.0418472\ttotal: 5.54s\tremaining: 28.4s\n",
      "163:\tlearn: 0.0418192\ttotal: 5.57s\tremaining: 28.4s\n",
      "164:\tlearn: 0.0417912\ttotal: 5.6s\tremaining: 28.4s\n",
      "165:\tlearn: 0.0417645\ttotal: 5.63s\tremaining: 28.3s\n",
      "166:\tlearn: 0.0417319\ttotal: 5.67s\tremaining: 28.3s\n",
      "167:\tlearn: 0.0417040\ttotal: 5.71s\tremaining: 28.3s\n",
      "168:\tlearn: 0.0416604\ttotal: 5.74s\tremaining: 28.2s\n",
      "169:\tlearn: 0.0416231\ttotal: 5.77s\tremaining: 28.2s\n",
      "170:\tlearn: 0.0415708\ttotal: 5.8s\tremaining: 28.1s\n",
      "171:\tlearn: 0.0415543\ttotal: 5.83s\tremaining: 28.1s\n",
      "172:\tlearn: 0.0415170\ttotal: 5.87s\tremaining: 28.1s\n",
      "173:\tlearn: 0.0414765\ttotal: 5.91s\tremaining: 28s\n",
      "174:\tlearn: 0.0414398\ttotal: 5.94s\tremaining: 28s\n",
      "175:\tlearn: 0.0414181\ttotal: 5.98s\tremaining: 28s\n",
      "176:\tlearn: 0.0413693\ttotal: 6.01s\tremaining: 28s\n",
      "177:\tlearn: 0.0413487\ttotal: 6.04s\tremaining: 27.9s\n",
      "178:\tlearn: 0.0413164\ttotal: 6.08s\tremaining: 27.9s\n",
      "179:\tlearn: 0.0412947\ttotal: 6.12s\tremaining: 27.9s\n",
      "180:\tlearn: 0.0412658\ttotal: 6.15s\tremaining: 27.8s\n",
      "181:\tlearn: 0.0412331\ttotal: 6.19s\tremaining: 27.8s\n",
      "182:\tlearn: 0.0412098\ttotal: 6.23s\tremaining: 27.8s\n",
      "183:\tlearn: 0.0411752\ttotal: 6.26s\tremaining: 27.8s\n",
      "184:\tlearn: 0.0411386\ttotal: 6.3s\tremaining: 27.7s\n",
      "185:\tlearn: 0.0411176\ttotal: 6.33s\tremaining: 27.7s\n",
      "186:\tlearn: 0.0410994\ttotal: 6.37s\tremaining: 27.7s\n",
      "187:\tlearn: 0.0410721\ttotal: 6.4s\tremaining: 27.7s\n",
      "188:\tlearn: 0.0410273\ttotal: 6.43s\tremaining: 27.6s\n",
      "189:\tlearn: 0.0410039\ttotal: 6.47s\tremaining: 27.6s\n",
      "190:\tlearn: 0.0409740\ttotal: 6.5s\tremaining: 27.5s\n",
      "191:\tlearn: 0.0409534\ttotal: 6.53s\tremaining: 27.5s\n",
      "192:\tlearn: 0.0409304\ttotal: 6.57s\tremaining: 27.5s\n",
      "193:\tlearn: 0.0409015\ttotal: 6.6s\tremaining: 27.4s\n",
      "194:\tlearn: 0.0408316\ttotal: 6.63s\tremaining: 27.4s\n",
      "195:\tlearn: 0.0408082\ttotal: 6.67s\tremaining: 27.3s\n",
      "196:\tlearn: 0.0407750\ttotal: 6.7s\tremaining: 27.3s\n",
      "197:\tlearn: 0.0407350\ttotal: 6.73s\tremaining: 27.3s\n",
      "198:\tlearn: 0.0406965\ttotal: 6.77s\tremaining: 27.2s\n",
      "199:\tlearn: 0.0406698\ttotal: 6.8s\tremaining: 27.2s\n",
      "200:\tlearn: 0.0406249\ttotal: 6.83s\tremaining: 27.2s\n",
      "201:\tlearn: 0.0405970\ttotal: 6.87s\tremaining: 27.1s\n",
      "202:\tlearn: 0.0405840\ttotal: 6.91s\tremaining: 27.1s\n",
      "203:\tlearn: 0.0405541\ttotal: 6.94s\tremaining: 27.1s\n",
      "204:\tlearn: 0.0405172\ttotal: 6.97s\tremaining: 27s\n",
      "205:\tlearn: 0.0405002\ttotal: 7.01s\tremaining: 27s\n",
      "206:\tlearn: 0.0404787\ttotal: 7.04s\tremaining: 27s\n",
      "207:\tlearn: 0.0404622\ttotal: 7.08s\tremaining: 26.9s\n",
      "208:\tlearn: 0.0404364\ttotal: 7.12s\tremaining: 26.9s\n",
      "209:\tlearn: 0.0404108\ttotal: 7.16s\tremaining: 26.9s\n",
      "210:\tlearn: 0.0403701\ttotal: 7.2s\tremaining: 26.9s\n",
      "211:\tlearn: 0.0403234\ttotal: 7.23s\tremaining: 26.9s\n",
      "212:\tlearn: 0.0402981\ttotal: 7.27s\tremaining: 26.8s\n",
      "213:\tlearn: 0.0402591\ttotal: 7.3s\tremaining: 26.8s\n",
      "214:\tlearn: 0.0402438\ttotal: 7.33s\tremaining: 26.8s\n",
      "215:\tlearn: 0.0402071\ttotal: 7.37s\tremaining: 26.7s\n",
      "216:\tlearn: 0.0401635\ttotal: 7.4s\tremaining: 26.7s\n",
      "217:\tlearn: 0.0401341\ttotal: 7.44s\tremaining: 26.7s\n",
      "218:\tlearn: 0.0401155\ttotal: 7.48s\tremaining: 26.7s\n",
      "219:\tlearn: 0.0400543\ttotal: 7.51s\tremaining: 26.6s\n",
      "220:\tlearn: 0.0400305\ttotal: 7.54s\tremaining: 26.6s\n",
      "221:\tlearn: 0.0399807\ttotal: 7.58s\tremaining: 26.5s\n",
      "222:\tlearn: 0.0399548\ttotal: 7.61s\tremaining: 26.5s\n",
      "223:\tlearn: 0.0399408\ttotal: 7.65s\tremaining: 26.5s\n",
      "224:\tlearn: 0.0399058\ttotal: 7.68s\tremaining: 26.5s\n",
      "225:\tlearn: 0.0398839\ttotal: 7.71s\tremaining: 26.4s\n",
      "226:\tlearn: 0.0398542\ttotal: 7.74s\tremaining: 26.4s\n",
      "227:\tlearn: 0.0398268\ttotal: 7.77s\tremaining: 26.3s\n",
      "228:\tlearn: 0.0397809\ttotal: 7.8s\tremaining: 26.3s\n",
      "229:\tlearn: 0.0397363\ttotal: 7.84s\tremaining: 26.2s\n",
      "230:\tlearn: 0.0397002\ttotal: 7.87s\tremaining: 26.2s\n",
      "231:\tlearn: 0.0396880\ttotal: 7.91s\tremaining: 26.2s\n",
      "232:\tlearn: 0.0396780\ttotal: 7.94s\tremaining: 26.2s\n",
      "233:\tlearn: 0.0396433\ttotal: 7.98s\tremaining: 26.1s\n",
      "234:\tlearn: 0.0396142\ttotal: 8.01s\tremaining: 26.1s\n",
      "235:\tlearn: 0.0395644\ttotal: 8.05s\tremaining: 26s\n",
      "236:\tlearn: 0.0395445\ttotal: 8.08s\tremaining: 26s\n",
      "237:\tlearn: 0.0395121\ttotal: 8.11s\tremaining: 26s\n",
      "238:\tlearn: 0.0394833\ttotal: 8.14s\tremaining: 25.9s\n",
      "239:\tlearn: 0.0394428\ttotal: 8.18s\tremaining: 25.9s\n",
      "240:\tlearn: 0.0394317\ttotal: 8.21s\tremaining: 25.9s\n",
      "241:\tlearn: 0.0393978\ttotal: 8.25s\tremaining: 25.8s\n",
      "242:\tlearn: 0.0393570\ttotal: 8.28s\tremaining: 25.8s\n",
      "243:\tlearn: 0.0393422\ttotal: 8.32s\tremaining: 25.8s\n",
      "244:\tlearn: 0.0393086\ttotal: 8.36s\tremaining: 25.8s\n",
      "245:\tlearn: 0.0392859\ttotal: 8.39s\tremaining: 25.7s\n",
      "246:\tlearn: 0.0392611\ttotal: 8.43s\tremaining: 25.7s\n",
      "247:\tlearn: 0.0392374\ttotal: 8.46s\tremaining: 25.7s\n",
      "248:\tlearn: 0.0392041\ttotal: 8.51s\tremaining: 25.7s\n",
      "249:\tlearn: 0.0391659\ttotal: 8.54s\tremaining: 25.6s\n",
      "250:\tlearn: 0.0391356\ttotal: 8.58s\tremaining: 25.6s\n",
      "251:\tlearn: 0.0391004\ttotal: 8.61s\tremaining: 25.6s\n",
      "252:\tlearn: 0.0390739\ttotal: 8.64s\tremaining: 25.5s\n",
      "253:\tlearn: 0.0390598\ttotal: 8.69s\tremaining: 25.5s\n",
      "254:\tlearn: 0.0390401\ttotal: 8.73s\tremaining: 25.5s\n",
      "255:\tlearn: 0.0390089\ttotal: 8.76s\tremaining: 25.5s\n",
      "256:\tlearn: 0.0389898\ttotal: 8.8s\tremaining: 25.4s\n",
      "257:\tlearn: 0.0389519\ttotal: 8.83s\tremaining: 25.4s\n",
      "258:\tlearn: 0.0389156\ttotal: 8.86s\tremaining: 25.3s\n",
      "259:\tlearn: 0.0389016\ttotal: 8.9s\tremaining: 25.3s\n",
      "260:\tlearn: 0.0388834\ttotal: 8.94s\tremaining: 25.3s\n",
      "261:\tlearn: 0.0388594\ttotal: 8.97s\tremaining: 25.3s\n",
      "262:\tlearn: 0.0388074\ttotal: 9s\tremaining: 25.2s\n",
      "263:\tlearn: 0.0387968\ttotal: 9.03s\tremaining: 25.2s\n",
      "264:\tlearn: 0.0387802\ttotal: 9.07s\tremaining: 25.1s\n",
      "265:\tlearn: 0.0387659\ttotal: 9.1s\tremaining: 25.1s\n",
      "266:\tlearn: 0.0387283\ttotal: 9.14s\tremaining: 25.1s\n",
      "267:\tlearn: 0.0387152\ttotal: 9.18s\tremaining: 25.1s\n",
      "268:\tlearn: 0.0386988\ttotal: 9.22s\tremaining: 25.1s\n",
      "269:\tlearn: 0.0386652\ttotal: 9.25s\tremaining: 25s\n",
      "270:\tlearn: 0.0386375\ttotal: 9.28s\tremaining: 25s\n",
      "271:\tlearn: 0.0386289\ttotal: 9.32s\tremaining: 24.9s\n",
      "272:\tlearn: 0.0386028\ttotal: 9.36s\tremaining: 24.9s\n",
      "273:\tlearn: 0.0385689\ttotal: 9.39s\tremaining: 24.9s\n",
      "274:\tlearn: 0.0385212\ttotal: 9.43s\tremaining: 24.9s\n",
      "275:\tlearn: 0.0384989\ttotal: 9.46s\tremaining: 24.8s\n",
      "276:\tlearn: 0.0384865\ttotal: 9.49s\tremaining: 24.8s\n",
      "277:\tlearn: 0.0384474\ttotal: 9.53s\tremaining: 24.7s\n",
      "278:\tlearn: 0.0384144\ttotal: 9.56s\tremaining: 24.7s\n",
      "279:\tlearn: 0.0383675\ttotal: 9.6s\tremaining: 24.7s\n",
      "280:\tlearn: 0.0383328\ttotal: 9.63s\tremaining: 24.6s\n",
      "281:\tlearn: 0.0383047\ttotal: 9.67s\tremaining: 24.6s\n",
      "282:\tlearn: 0.0382780\ttotal: 9.7s\tremaining: 24.6s\n",
      "283:\tlearn: 0.0382588\ttotal: 9.73s\tremaining: 24.5s\n",
      "284:\tlearn: 0.0382203\ttotal: 9.77s\tremaining: 24.5s\n",
      "285:\tlearn: 0.0381638\ttotal: 9.8s\tremaining: 24.5s\n",
      "286:\tlearn: 0.0381419\ttotal: 9.84s\tremaining: 24.4s\n",
      "287:\tlearn: 0.0381189\ttotal: 9.87s\tremaining: 24.4s\n",
      "288:\tlearn: 0.0380953\ttotal: 9.91s\tremaining: 24.4s\n",
      "289:\tlearn: 0.0380669\ttotal: 9.95s\tremaining: 24.4s\n",
      "290:\tlearn: 0.0380596\ttotal: 9.98s\tremaining: 24.3s\n",
      "291:\tlearn: 0.0380463\ttotal: 10s\tremaining: 24.3s\n",
      "292:\tlearn: 0.0380281\ttotal: 10.1s\tremaining: 24.3s\n",
      "293:\tlearn: 0.0380072\ttotal: 10.1s\tremaining: 24.2s\n",
      "294:\tlearn: 0.0379637\ttotal: 10.1s\tremaining: 24.2s\n",
      "295:\tlearn: 0.0379221\ttotal: 10.2s\tremaining: 24.2s\n",
      "296:\tlearn: 0.0379080\ttotal: 10.2s\tremaining: 24.2s\n",
      "297:\tlearn: 0.0378850\ttotal: 10.2s\tremaining: 24.1s\n",
      "298:\tlearn: 0.0378490\ttotal: 10.3s\tremaining: 24.1s\n",
      "299:\tlearn: 0.0378285\ttotal: 10.3s\tremaining: 24.1s\n",
      "300:\tlearn: 0.0377974\ttotal: 10.4s\tremaining: 24.1s\n",
      "301:\tlearn: 0.0377562\ttotal: 10.4s\tremaining: 24s\n",
      "302:\tlearn: 0.0377439\ttotal: 10.4s\tremaining: 24s\n",
      "303:\tlearn: 0.0377206\ttotal: 10.5s\tremaining: 23.9s\n",
      "304:\tlearn: 0.0376826\ttotal: 10.5s\tremaining: 23.9s\n",
      "305:\tlearn: 0.0376529\ttotal: 10.5s\tremaining: 23.9s\n",
      "306:\tlearn: 0.0376183\ttotal: 10.6s\tremaining: 23.8s\n",
      "307:\tlearn: 0.0376129\ttotal: 10.6s\tremaining: 23.8s\n",
      "308:\tlearn: 0.0375752\ttotal: 10.6s\tremaining: 23.8s\n",
      "309:\tlearn: 0.0375531\ttotal: 10.7s\tremaining: 23.8s\n",
      "310:\tlearn: 0.0375266\ttotal: 10.7s\tremaining: 23.7s\n",
      "311:\tlearn: 0.0375016\ttotal: 10.7s\tremaining: 23.7s\n",
      "312:\tlearn: 0.0374876\ttotal: 10.8s\tremaining: 23.6s\n",
      "313:\tlearn: 0.0374643\ttotal: 10.8s\tremaining: 23.6s\n",
      "314:\tlearn: 0.0374371\ttotal: 10.8s\tremaining: 23.6s\n",
      "315:\tlearn: 0.0374057\ttotal: 10.9s\tremaining: 23.5s\n",
      "316:\tlearn: 0.0373757\ttotal: 10.9s\tremaining: 23.5s\n",
      "317:\tlearn: 0.0373438\ttotal: 10.9s\tremaining: 23.4s\n",
      "318:\tlearn: 0.0373166\ttotal: 11s\tremaining: 23.4s\n",
      "319:\tlearn: 0.0372975\ttotal: 11s\tremaining: 23.4s\n",
      "320:\tlearn: 0.0372740\ttotal: 11s\tremaining: 23.3s\n",
      "321:\tlearn: 0.0372428\ttotal: 11.1s\tremaining: 23.3s\n",
      "322:\tlearn: 0.0372069\ttotal: 11.1s\tremaining: 23.3s\n",
      "323:\tlearn: 0.0371872\ttotal: 11.1s\tremaining: 23.3s\n",
      "324:\tlearn: 0.0371602\ttotal: 11.2s\tremaining: 23.2s\n",
      "325:\tlearn: 0.0371290\ttotal: 11.2s\tremaining: 23.2s\n",
      "326:\tlearn: 0.0371107\ttotal: 11.3s\tremaining: 23.2s\n",
      "327:\tlearn: 0.0370820\ttotal: 11.3s\tremaining: 23.1s\n",
      "328:\tlearn: 0.0370494\ttotal: 11.3s\tremaining: 23.1s\n",
      "329:\tlearn: 0.0370147\ttotal: 11.4s\tremaining: 23.1s\n",
      "330:\tlearn: 0.0369917\ttotal: 11.4s\tremaining: 23s\n",
      "331:\tlearn: 0.0369635\ttotal: 11.4s\tremaining: 23s\n",
      "332:\tlearn: 0.0369353\ttotal: 11.5s\tremaining: 22.9s\n",
      "333:\tlearn: 0.0368901\ttotal: 11.5s\tremaining: 22.9s\n",
      "334:\tlearn: 0.0368615\ttotal: 11.5s\tremaining: 22.9s\n",
      "335:\tlearn: 0.0368401\ttotal: 11.6s\tremaining: 22.8s\n",
      "336:\tlearn: 0.0368026\ttotal: 11.6s\tremaining: 22.8s\n",
      "337:\tlearn: 0.0367609\ttotal: 11.6s\tremaining: 22.8s\n",
      "338:\tlearn: 0.0367429\ttotal: 11.6s\tremaining: 22.7s\n",
      "339:\tlearn: 0.0367188\ttotal: 11.7s\tremaining: 22.7s\n",
      "340:\tlearn: 0.0367012\ttotal: 11.7s\tremaining: 22.6s\n",
      "341:\tlearn: 0.0366760\ttotal: 11.7s\tremaining: 22.6s\n",
      "342:\tlearn: 0.0366470\ttotal: 11.8s\tremaining: 22.6s\n",
      "343:\tlearn: 0.0366287\ttotal: 11.8s\tremaining: 22.5s\n",
      "344:\tlearn: 0.0366008\ttotal: 11.8s\tremaining: 22.5s\n",
      "345:\tlearn: 0.0365789\ttotal: 11.9s\tremaining: 22.5s\n",
      "346:\tlearn: 0.0365660\ttotal: 11.9s\tremaining: 22.4s\n",
      "347:\tlearn: 0.0365564\ttotal: 12s\tremaining: 22.4s\n",
      "348:\tlearn: 0.0365326\ttotal: 12s\tremaining: 22.4s\n",
      "349:\tlearn: 0.0365028\ttotal: 12s\tremaining: 22.3s\n",
      "350:\tlearn: 0.0364895\ttotal: 12s\tremaining: 22.3s\n",
      "351:\tlearn: 0.0364836\ttotal: 12.1s\tremaining: 22.2s\n",
      "352:\tlearn: 0.0364471\ttotal: 12.1s\tremaining: 22.2s\n",
      "353:\tlearn: 0.0364299\ttotal: 12.1s\tremaining: 22.2s\n",
      "354:\tlearn: 0.0364110\ttotal: 12.2s\tremaining: 22.1s\n",
      "355:\tlearn: 0.0363761\ttotal: 12.2s\tremaining: 22.1s\n",
      "356:\tlearn: 0.0363512\ttotal: 12.3s\tremaining: 22.1s\n",
      "357:\tlearn: 0.0363301\ttotal: 12.3s\tremaining: 22s\n",
      "358:\tlearn: 0.0362906\ttotal: 12.3s\tremaining: 22s\n",
      "359:\tlearn: 0.0362721\ttotal: 12.4s\tremaining: 22s\n",
      "360:\tlearn: 0.0362384\ttotal: 12.4s\tremaining: 21.9s\n",
      "361:\tlearn: 0.0362221\ttotal: 12.4s\tremaining: 21.9s\n",
      "362:\tlearn: 0.0361977\ttotal: 12.5s\tremaining: 21.9s\n",
      "363:\tlearn: 0.0361755\ttotal: 12.5s\tremaining: 21.9s\n",
      "364:\tlearn: 0.0361478\ttotal: 12.5s\tremaining: 21.8s\n",
      "365:\tlearn: 0.0361232\ttotal: 12.6s\tremaining: 21.8s\n",
      "366:\tlearn: 0.0361065\ttotal: 12.6s\tremaining: 21.8s\n",
      "367:\tlearn: 0.0360851\ttotal: 12.7s\tremaining: 21.7s\n",
      "368:\tlearn: 0.0360570\ttotal: 12.7s\tremaining: 21.7s\n",
      "369:\tlearn: 0.0360485\ttotal: 12.7s\tremaining: 21.6s\n",
      "370:\tlearn: 0.0360326\ttotal: 12.7s\tremaining: 21.6s\n",
      "371:\tlearn: 0.0360119\ttotal: 12.8s\tremaining: 21.6s\n",
      "372:\tlearn: 0.0359869\ttotal: 12.8s\tremaining: 21.5s\n",
      "373:\tlearn: 0.0359797\ttotal: 12.8s\tremaining: 21.5s\n",
      "374:\tlearn: 0.0359536\ttotal: 12.9s\tremaining: 21.5s\n",
      "375:\tlearn: 0.0359260\ttotal: 12.9s\tremaining: 21.4s\n",
      "376:\tlearn: 0.0359124\ttotal: 12.9s\tremaining: 21.4s\n",
      "377:\tlearn: 0.0358843\ttotal: 13s\tremaining: 21.4s\n",
      "378:\tlearn: 0.0358612\ttotal: 13s\tremaining: 21.3s\n",
      "379:\tlearn: 0.0358189\ttotal: 13s\tremaining: 21.3s\n",
      "380:\tlearn: 0.0357847\ttotal: 13.1s\tremaining: 21.2s\n",
      "381:\tlearn: 0.0357660\ttotal: 13.1s\tremaining: 21.2s\n",
      "382:\tlearn: 0.0357495\ttotal: 13.1s\tremaining: 21.2s\n",
      "383:\tlearn: 0.0357348\ttotal: 13.2s\tremaining: 21.1s\n",
      "384:\tlearn: 0.0357166\ttotal: 13.2s\tremaining: 21.1s\n",
      "385:\tlearn: 0.0357095\ttotal: 13.2s\tremaining: 21s\n",
      "386:\tlearn: 0.0356725\ttotal: 13.3s\tremaining: 21s\n",
      "387:\tlearn: 0.0356478\ttotal: 13.3s\tremaining: 21s\n",
      "388:\tlearn: 0.0356085\ttotal: 13.3s\tremaining: 20.9s\n",
      "389:\tlearn: 0.0355952\ttotal: 13.4s\tremaining: 20.9s\n",
      "390:\tlearn: 0.0355609\ttotal: 13.4s\tremaining: 20.9s\n",
      "391:\tlearn: 0.0355368\ttotal: 13.4s\tremaining: 20.8s\n",
      "392:\tlearn: 0.0355161\ttotal: 13.5s\tremaining: 20.8s\n",
      "393:\tlearn: 0.0354897\ttotal: 13.5s\tremaining: 20.7s\n",
      "394:\tlearn: 0.0354664\ttotal: 13.5s\tremaining: 20.7s\n",
      "395:\tlearn: 0.0354350\ttotal: 13.6s\tremaining: 20.7s\n",
      "396:\tlearn: 0.0354033\ttotal: 13.6s\tremaining: 20.6s\n",
      "397:\tlearn: 0.0353930\ttotal: 13.6s\tremaining: 20.6s\n",
      "398:\tlearn: 0.0353829\ttotal: 13.7s\tremaining: 20.6s\n",
      "399:\tlearn: 0.0353684\ttotal: 13.7s\tremaining: 20.5s\n",
      "400:\tlearn: 0.0353404\ttotal: 13.7s\tremaining: 20.5s\n",
      "401:\tlearn: 0.0353044\ttotal: 13.8s\tremaining: 20.5s\n",
      "402:\tlearn: 0.0352730\ttotal: 13.8s\tremaining: 20.4s\n",
      "403:\tlearn: 0.0352479\ttotal: 13.8s\tremaining: 20.4s\n",
      "404:\tlearn: 0.0352274\ttotal: 13.9s\tremaining: 20.4s\n",
      "405:\tlearn: 0.0352123\ttotal: 13.9s\tremaining: 20.3s\n",
      "406:\tlearn: 0.0351880\ttotal: 13.9s\tremaining: 20.3s\n",
      "407:\tlearn: 0.0351454\ttotal: 14s\tremaining: 20.3s\n",
      "408:\tlearn: 0.0351219\ttotal: 14s\tremaining: 20.2s\n",
      "409:\tlearn: 0.0351074\ttotal: 14s\tremaining: 20.2s\n",
      "410:\tlearn: 0.0350800\ttotal: 14.1s\tremaining: 20.1s\n",
      "411:\tlearn: 0.0350587\ttotal: 14.1s\tremaining: 20.1s\n",
      "412:\tlearn: 0.0350428\ttotal: 14.1s\tremaining: 20.1s\n",
      "413:\tlearn: 0.0350240\ttotal: 14.2s\tremaining: 20s\n",
      "414:\tlearn: 0.0350104\ttotal: 14.2s\tremaining: 20s\n",
      "415:\tlearn: 0.0349906\ttotal: 14.2s\tremaining: 20s\n",
      "416:\tlearn: 0.0349627\ttotal: 14.3s\tremaining: 19.9s\n",
      "417:\tlearn: 0.0349190\ttotal: 14.3s\tremaining: 19.9s\n",
      "418:\tlearn: 0.0349034\ttotal: 14.3s\tremaining: 19.9s\n",
      "419:\tlearn: 0.0348682\ttotal: 14.3s\tremaining: 19.8s\n",
      "420:\tlearn: 0.0348447\ttotal: 14.4s\tremaining: 19.8s\n",
      "421:\tlearn: 0.0348248\ttotal: 14.4s\tremaining: 19.7s\n",
      "422:\tlearn: 0.0347987\ttotal: 14.4s\tremaining: 19.7s\n",
      "423:\tlearn: 0.0347793\ttotal: 14.5s\tremaining: 19.7s\n",
      "424:\tlearn: 0.0347524\ttotal: 14.5s\tremaining: 19.6s\n",
      "425:\tlearn: 0.0347259\ttotal: 14.5s\tremaining: 19.6s\n",
      "426:\tlearn: 0.0346910\ttotal: 14.6s\tremaining: 19.6s\n",
      "427:\tlearn: 0.0346703\ttotal: 14.6s\tremaining: 19.5s\n",
      "428:\tlearn: 0.0346573\ttotal: 14.6s\tremaining: 19.5s\n",
      "429:\tlearn: 0.0346406\ttotal: 14.7s\tremaining: 19.4s\n",
      "430:\tlearn: 0.0346198\ttotal: 14.7s\tremaining: 19.4s\n",
      "431:\tlearn: 0.0345986\ttotal: 14.8s\tremaining: 19.4s\n",
      "432:\tlearn: 0.0345741\ttotal: 14.8s\tremaining: 19.4s\n",
      "433:\tlearn: 0.0345483\ttotal: 14.8s\tremaining: 19.3s\n",
      "434:\tlearn: 0.0345221\ttotal: 14.9s\tremaining: 19.3s\n",
      "435:\tlearn: 0.0345073\ttotal: 14.9s\tremaining: 19.3s\n",
      "436:\tlearn: 0.0345014\ttotal: 14.9s\tremaining: 19.2s\n",
      "437:\tlearn: 0.0344910\ttotal: 15s\tremaining: 19.2s\n",
      "438:\tlearn: 0.0344770\ttotal: 15s\tremaining: 19.2s\n",
      "439:\tlearn: 0.0344640\ttotal: 15s\tremaining: 19.1s\n",
      "440:\tlearn: 0.0344465\ttotal: 15.1s\tremaining: 19.1s\n",
      "441:\tlearn: 0.0344323\ttotal: 15.1s\tremaining: 19s\n",
      "442:\tlearn: 0.0344123\ttotal: 15.1s\tremaining: 19s\n",
      "443:\tlearn: 0.0343890\ttotal: 15.2s\tremaining: 19s\n",
      "444:\tlearn: 0.0343791\ttotal: 15.2s\tremaining: 18.9s\n",
      "445:\tlearn: 0.0343516\ttotal: 15.2s\tremaining: 18.9s\n",
      "446:\tlearn: 0.0343304\ttotal: 15.2s\tremaining: 18.9s\n",
      "447:\tlearn: 0.0342998\ttotal: 15.3s\tremaining: 18.8s\n",
      "448:\tlearn: 0.0342696\ttotal: 15.3s\tremaining: 18.8s\n",
      "449:\tlearn: 0.0342560\ttotal: 15.3s\tremaining: 18.8s\n",
      "450:\tlearn: 0.0342334\ttotal: 15.4s\tremaining: 18.7s\n",
      "451:\tlearn: 0.0341953\ttotal: 15.4s\tremaining: 18.7s\n",
      "452:\tlearn: 0.0341864\ttotal: 15.4s\tremaining: 18.6s\n",
      "453:\tlearn: 0.0341628\ttotal: 15.5s\tremaining: 18.6s\n",
      "454:\tlearn: 0.0341510\ttotal: 15.5s\tremaining: 18.6s\n",
      "455:\tlearn: 0.0341325\ttotal: 15.5s\tremaining: 18.5s\n",
      "456:\tlearn: 0.0340939\ttotal: 15.6s\tremaining: 18.5s\n",
      "457:\tlearn: 0.0340721\ttotal: 15.6s\tremaining: 18.5s\n",
      "458:\tlearn: 0.0340443\ttotal: 15.6s\tremaining: 18.4s\n",
      "459:\tlearn: 0.0340177\ttotal: 15.7s\tremaining: 18.4s\n",
      "460:\tlearn: 0.0339963\ttotal: 15.7s\tremaining: 18.4s\n",
      "461:\tlearn: 0.0339819\ttotal: 15.7s\tremaining: 18.3s\n",
      "462:\tlearn: 0.0339708\ttotal: 15.8s\tremaining: 18.3s\n",
      "463:\tlearn: 0.0339516\ttotal: 15.8s\tremaining: 18.2s\n",
      "464:\tlearn: 0.0339113\ttotal: 15.8s\tremaining: 18.2s\n",
      "465:\tlearn: 0.0338899\ttotal: 15.9s\tremaining: 18.2s\n",
      "466:\tlearn: 0.0338605\ttotal: 15.9s\tremaining: 18.1s\n",
      "467:\tlearn: 0.0338472\ttotal: 15.9s\tremaining: 18.1s\n",
      "468:\tlearn: 0.0338154\ttotal: 15.9s\tremaining: 18.1s\n",
      "469:\tlearn: 0.0337930\ttotal: 16s\tremaining: 18s\n",
      "470:\tlearn: 0.0337781\ttotal: 16s\tremaining: 18s\n",
      "471:\tlearn: 0.0337621\ttotal: 16.1s\tremaining: 18s\n",
      "472:\tlearn: 0.0337406\ttotal: 16.1s\tremaining: 17.9s\n",
      "473:\tlearn: 0.0336966\ttotal: 16.1s\tremaining: 17.9s\n",
      "474:\tlearn: 0.0336780\ttotal: 16.1s\tremaining: 17.8s\n",
      "475:\tlearn: 0.0336687\ttotal: 16.2s\tremaining: 17.8s\n",
      "476:\tlearn: 0.0336414\ttotal: 16.2s\tremaining: 17.8s\n",
      "477:\tlearn: 0.0336242\ttotal: 16.2s\tremaining: 17.7s\n",
      "478:\tlearn: 0.0336186\ttotal: 16.3s\tremaining: 17.7s\n",
      "479:\tlearn: 0.0335989\ttotal: 16.3s\tremaining: 17.7s\n",
      "480:\tlearn: 0.0335886\ttotal: 16.3s\tremaining: 17.6s\n",
      "481:\tlearn: 0.0335532\ttotal: 16.4s\tremaining: 17.6s\n",
      "482:\tlearn: 0.0335386\ttotal: 16.4s\tremaining: 17.6s\n",
      "483:\tlearn: 0.0335111\ttotal: 16.4s\tremaining: 17.5s\n",
      "484:\tlearn: 0.0334871\ttotal: 16.5s\tremaining: 17.5s\n",
      "485:\tlearn: 0.0334747\ttotal: 16.5s\tremaining: 17.5s\n",
      "486:\tlearn: 0.0334441\ttotal: 16.5s\tremaining: 17.4s\n",
      "487:\tlearn: 0.0334146\ttotal: 16.6s\tremaining: 17.4s\n",
      "488:\tlearn: 0.0334010\ttotal: 16.6s\tremaining: 17.4s\n",
      "489:\tlearn: 0.0333899\ttotal: 16.6s\tremaining: 17.3s\n",
      "490:\tlearn: 0.0333628\ttotal: 16.7s\tremaining: 17.3s\n",
      "491:\tlearn: 0.0333358\ttotal: 16.7s\tremaining: 17.3s\n",
      "492:\tlearn: 0.0333211\ttotal: 16.7s\tremaining: 17.2s\n",
      "493:\tlearn: 0.0333056\ttotal: 16.8s\tremaining: 17.2s\n",
      "494:\tlearn: 0.0332914\ttotal: 16.8s\tremaining: 17.1s\n",
      "495:\tlearn: 0.0332676\ttotal: 16.8s\tremaining: 17.1s\n",
      "496:\tlearn: 0.0332462\ttotal: 16.9s\tremaining: 17.1s\n",
      "497:\tlearn: 0.0332338\ttotal: 16.9s\tremaining: 17s\n",
      "498:\tlearn: 0.0332233\ttotal: 16.9s\tremaining: 17s\n",
      "499:\tlearn: 0.0331870\ttotal: 17s\tremaining: 17s\n",
      "500:\tlearn: 0.0331761\ttotal: 17s\tremaining: 16.9s\n",
      "501:\tlearn: 0.0331628\ttotal: 17s\tremaining: 16.9s\n",
      "502:\tlearn: 0.0331393\ttotal: 17.1s\tremaining: 16.9s\n",
      "503:\tlearn: 0.0331318\ttotal: 17.1s\tremaining: 16.8s\n",
      "504:\tlearn: 0.0331230\ttotal: 17.1s\tremaining: 16.8s\n",
      "505:\tlearn: 0.0330917\ttotal: 17.2s\tremaining: 16.8s\n",
      "506:\tlearn: 0.0330739\ttotal: 17.2s\tremaining: 16.7s\n",
      "507:\tlearn: 0.0330577\ttotal: 17.2s\tremaining: 16.7s\n",
      "508:\tlearn: 0.0330477\ttotal: 17.3s\tremaining: 16.7s\n",
      "509:\tlearn: 0.0330269\ttotal: 17.3s\tremaining: 16.6s\n",
      "510:\tlearn: 0.0329979\ttotal: 17.3s\tremaining: 16.6s\n",
      "511:\tlearn: 0.0329820\ttotal: 17.4s\tremaining: 16.6s\n",
      "512:\tlearn: 0.0329635\ttotal: 17.4s\tremaining: 16.5s\n",
      "513:\tlearn: 0.0329333\ttotal: 17.4s\tremaining: 16.5s\n",
      "514:\tlearn: 0.0329271\ttotal: 17.5s\tremaining: 16.5s\n",
      "515:\tlearn: 0.0328969\ttotal: 17.5s\tremaining: 16.4s\n",
      "516:\tlearn: 0.0328853\ttotal: 17.6s\tremaining: 16.4s\n",
      "517:\tlearn: 0.0328535\ttotal: 17.6s\tremaining: 16.4s\n",
      "518:\tlearn: 0.0328364\ttotal: 17.6s\tremaining: 16.3s\n",
      "519:\tlearn: 0.0328282\ttotal: 17.7s\tremaining: 16.3s\n",
      "520:\tlearn: 0.0328099\ttotal: 17.7s\tremaining: 16.3s\n",
      "521:\tlearn: 0.0328005\ttotal: 17.7s\tremaining: 16.2s\n",
      "522:\tlearn: 0.0327721\ttotal: 17.8s\tremaining: 16.2s\n",
      "523:\tlearn: 0.0327535\ttotal: 17.8s\tremaining: 16.2s\n",
      "524:\tlearn: 0.0327293\ttotal: 17.8s\tremaining: 16.1s\n",
      "525:\tlearn: 0.0327131\ttotal: 17.9s\tremaining: 16.1s\n",
      "526:\tlearn: 0.0326925\ttotal: 17.9s\tremaining: 16.1s\n",
      "527:\tlearn: 0.0326739\ttotal: 17.9s\tremaining: 16s\n",
      "528:\tlearn: 0.0326428\ttotal: 17.9s\tremaining: 16s\n",
      "529:\tlearn: 0.0326258\ttotal: 18s\tremaining: 15.9s\n",
      "530:\tlearn: 0.0326023\ttotal: 18s\tremaining: 15.9s\n",
      "531:\tlearn: 0.0325868\ttotal: 18s\tremaining: 15.9s\n",
      "532:\tlearn: 0.0325765\ttotal: 18.1s\tremaining: 15.8s\n",
      "533:\tlearn: 0.0325586\ttotal: 18.1s\tremaining: 15.8s\n",
      "534:\tlearn: 0.0325451\ttotal: 18.1s\tremaining: 15.8s\n",
      "535:\tlearn: 0.0325226\ttotal: 18.2s\tremaining: 15.7s\n",
      "536:\tlearn: 0.0324994\ttotal: 18.2s\tremaining: 15.7s\n",
      "537:\tlearn: 0.0324847\ttotal: 18.2s\tremaining: 15.7s\n",
      "538:\tlearn: 0.0324619\ttotal: 18.3s\tremaining: 15.6s\n",
      "539:\tlearn: 0.0324353\ttotal: 18.3s\tremaining: 15.6s\n",
      "540:\tlearn: 0.0323928\ttotal: 18.3s\tremaining: 15.6s\n",
      "541:\tlearn: 0.0323754\ttotal: 18.4s\tremaining: 15.5s\n",
      "542:\tlearn: 0.0323728\ttotal: 18.4s\tremaining: 15.5s\n",
      "543:\tlearn: 0.0323471\ttotal: 18.4s\tremaining: 15.5s\n",
      "544:\tlearn: 0.0323118\ttotal: 18.5s\tremaining: 15.4s\n",
      "545:\tlearn: 0.0322821\ttotal: 18.5s\tremaining: 15.4s\n",
      "546:\tlearn: 0.0322647\ttotal: 18.5s\tremaining: 15.4s\n",
      "547:\tlearn: 0.0322485\ttotal: 18.6s\tremaining: 15.3s\n",
      "548:\tlearn: 0.0322385\ttotal: 18.6s\tremaining: 15.3s\n",
      "549:\tlearn: 0.0322279\ttotal: 18.6s\tremaining: 15.3s\n",
      "550:\tlearn: 0.0322106\ttotal: 18.7s\tremaining: 15.2s\n",
      "551:\tlearn: 0.0321879\ttotal: 18.7s\tremaining: 15.2s\n",
      "552:\tlearn: 0.0321809\ttotal: 18.7s\tremaining: 15.2s\n",
      "553:\tlearn: 0.0321601\ttotal: 18.8s\tremaining: 15.1s\n",
      "554:\tlearn: 0.0321386\ttotal: 18.8s\tremaining: 15.1s\n",
      "555:\tlearn: 0.0321207\ttotal: 18.8s\tremaining: 15s\n",
      "556:\tlearn: 0.0321059\ttotal: 18.9s\tremaining: 15s\n",
      "557:\tlearn: 0.0320893\ttotal: 18.9s\tremaining: 15s\n",
      "558:\tlearn: 0.0320715\ttotal: 18.9s\tremaining: 14.9s\n",
      "559:\tlearn: 0.0320538\ttotal: 19s\tremaining: 14.9s\n",
      "560:\tlearn: 0.0320491\ttotal: 19s\tremaining: 14.9s\n",
      "561:\tlearn: 0.0320210\ttotal: 19s\tremaining: 14.8s\n",
      "562:\tlearn: 0.0320053\ttotal: 19.1s\tremaining: 14.8s\n",
      "563:\tlearn: 0.0319911\ttotal: 19.1s\tremaining: 14.8s\n",
      "564:\tlearn: 0.0319721\ttotal: 19.2s\tremaining: 14.8s\n",
      "565:\tlearn: 0.0319643\ttotal: 19.2s\tremaining: 14.7s\n",
      "566:\tlearn: 0.0319403\ttotal: 19.2s\tremaining: 14.7s\n",
      "567:\tlearn: 0.0319195\ttotal: 19.3s\tremaining: 14.7s\n",
      "568:\tlearn: 0.0318973\ttotal: 19.3s\tremaining: 14.6s\n",
      "569:\tlearn: 0.0318815\ttotal: 19.3s\tremaining: 14.6s\n",
      "570:\tlearn: 0.0318439\ttotal: 19.4s\tremaining: 14.6s\n",
      "571:\tlearn: 0.0318354\ttotal: 19.4s\tremaining: 14.5s\n",
      "572:\tlearn: 0.0318168\ttotal: 19.5s\tremaining: 14.5s\n",
      "573:\tlearn: 0.0317900\ttotal: 19.5s\tremaining: 14.5s\n",
      "574:\tlearn: 0.0317554\ttotal: 19.5s\tremaining: 14.4s\n",
      "575:\tlearn: 0.0317347\ttotal: 19.6s\tremaining: 14.4s\n",
      "576:\tlearn: 0.0317077\ttotal: 19.6s\tremaining: 14.4s\n",
      "577:\tlearn: 0.0316953\ttotal: 19.6s\tremaining: 14.3s\n",
      "578:\tlearn: 0.0316654\ttotal: 19.7s\tremaining: 14.3s\n",
      "579:\tlearn: 0.0316383\ttotal: 19.7s\tremaining: 14.3s\n",
      "580:\tlearn: 0.0316183\ttotal: 19.7s\tremaining: 14.2s\n",
      "581:\tlearn: 0.0316027\ttotal: 19.8s\tremaining: 14.2s\n",
      "582:\tlearn: 0.0315801\ttotal: 19.8s\tremaining: 14.2s\n",
      "583:\tlearn: 0.0315610\ttotal: 19.9s\tremaining: 14.1s\n",
      "584:\tlearn: 0.0315417\ttotal: 19.9s\tremaining: 14.1s\n",
      "585:\tlearn: 0.0315148\ttotal: 19.9s\tremaining: 14.1s\n",
      "586:\tlearn: 0.0315030\ttotal: 20s\tremaining: 14.1s\n",
      "587:\tlearn: 0.0314882\ttotal: 20s\tremaining: 14s\n",
      "588:\tlearn: 0.0314741\ttotal: 20s\tremaining: 14s\n",
      "589:\tlearn: 0.0314539\ttotal: 20.1s\tremaining: 14s\n",
      "590:\tlearn: 0.0314282\ttotal: 20.1s\tremaining: 13.9s\n",
      "591:\tlearn: 0.0314060\ttotal: 20.2s\tremaining: 13.9s\n",
      "592:\tlearn: 0.0313910\ttotal: 20.2s\tremaining: 13.9s\n",
      "593:\tlearn: 0.0313766\ttotal: 20.2s\tremaining: 13.8s\n",
      "594:\tlearn: 0.0313592\ttotal: 20.3s\tremaining: 13.8s\n",
      "595:\tlearn: 0.0313362\ttotal: 20.3s\tremaining: 13.8s\n",
      "596:\tlearn: 0.0313211\ttotal: 20.3s\tremaining: 13.7s\n",
      "597:\tlearn: 0.0313008\ttotal: 20.4s\tremaining: 13.7s\n",
      "598:\tlearn: 0.0312792\ttotal: 20.4s\tremaining: 13.7s\n",
      "599:\tlearn: 0.0312630\ttotal: 20.4s\tremaining: 13.6s\n",
      "600:\tlearn: 0.0312524\ttotal: 20.5s\tremaining: 13.6s\n",
      "601:\tlearn: 0.0312396\ttotal: 20.5s\tremaining: 13.6s\n",
      "602:\tlearn: 0.0312218\ttotal: 20.6s\tremaining: 13.5s\n",
      "603:\tlearn: 0.0312089\ttotal: 20.6s\tremaining: 13.5s\n",
      "604:\tlearn: 0.0311808\ttotal: 20.6s\tremaining: 13.5s\n",
      "605:\tlearn: 0.0311615\ttotal: 20.7s\tremaining: 13.4s\n",
      "606:\tlearn: 0.0311398\ttotal: 20.7s\tremaining: 13.4s\n",
      "607:\tlearn: 0.0311111\ttotal: 20.7s\tremaining: 13.4s\n",
      "608:\tlearn: 0.0310897\ttotal: 20.8s\tremaining: 13.3s\n",
      "609:\tlearn: 0.0310670\ttotal: 20.8s\tremaining: 13.3s\n",
      "610:\tlearn: 0.0310551\ttotal: 20.8s\tremaining: 13.3s\n",
      "611:\tlearn: 0.0310500\ttotal: 20.9s\tremaining: 13.2s\n",
      "612:\tlearn: 0.0310249\ttotal: 20.9s\tremaining: 13.2s\n",
      "613:\tlearn: 0.0310088\ttotal: 20.9s\tremaining: 13.2s\n",
      "614:\tlearn: 0.0309985\ttotal: 21s\tremaining: 13.1s\n",
      "615:\tlearn: 0.0309884\ttotal: 21s\tremaining: 13.1s\n",
      "616:\tlearn: 0.0309729\ttotal: 21.1s\tremaining: 13.1s\n",
      "617:\tlearn: 0.0309544\ttotal: 21.1s\tremaining: 13s\n",
      "618:\tlearn: 0.0309335\ttotal: 21.1s\tremaining: 13s\n",
      "619:\tlearn: 0.0309159\ttotal: 21.2s\tremaining: 13s\n",
      "620:\tlearn: 0.0308937\ttotal: 21.2s\tremaining: 12.9s\n",
      "621:\tlearn: 0.0308845\ttotal: 21.3s\tremaining: 12.9s\n",
      "622:\tlearn: 0.0308721\ttotal: 21.3s\tremaining: 12.9s\n",
      "623:\tlearn: 0.0308491\ttotal: 21.3s\tremaining: 12.9s\n",
      "624:\tlearn: 0.0308393\ttotal: 21.4s\tremaining: 12.8s\n",
      "625:\tlearn: 0.0308249\ttotal: 21.4s\tremaining: 12.8s\n",
      "626:\tlearn: 0.0308151\ttotal: 21.4s\tremaining: 12.8s\n",
      "627:\tlearn: 0.0307796\ttotal: 21.5s\tremaining: 12.7s\n",
      "628:\tlearn: 0.0307580\ttotal: 21.5s\tremaining: 12.7s\n",
      "629:\tlearn: 0.0307501\ttotal: 21.6s\tremaining: 12.7s\n",
      "630:\tlearn: 0.0307344\ttotal: 21.6s\tremaining: 12.6s\n",
      "631:\tlearn: 0.0307208\ttotal: 21.6s\tremaining: 12.6s\n",
      "632:\tlearn: 0.0307044\ttotal: 21.7s\tremaining: 12.6s\n",
      "633:\tlearn: 0.0306848\ttotal: 21.7s\tremaining: 12.5s\n",
      "634:\tlearn: 0.0306688\ttotal: 21.7s\tremaining: 12.5s\n",
      "635:\tlearn: 0.0306566\ttotal: 21.8s\tremaining: 12.5s\n",
      "636:\tlearn: 0.0306371\ttotal: 21.8s\tremaining: 12.4s\n",
      "637:\tlearn: 0.0306104\ttotal: 21.8s\tremaining: 12.4s\n",
      "638:\tlearn: 0.0305968\ttotal: 21.9s\tremaining: 12.4s\n",
      "639:\tlearn: 0.0305838\ttotal: 21.9s\tremaining: 12.3s\n",
      "640:\tlearn: 0.0305750\ttotal: 21.9s\tremaining: 12.3s\n",
      "641:\tlearn: 0.0305616\ttotal: 22s\tremaining: 12.3s\n",
      "642:\tlearn: 0.0305478\ttotal: 22s\tremaining: 12.2s\n",
      "643:\tlearn: 0.0305370\ttotal: 22.1s\tremaining: 12.2s\n",
      "644:\tlearn: 0.0305175\ttotal: 22.1s\tremaining: 12.2s\n",
      "645:\tlearn: 0.0305051\ttotal: 22.2s\tremaining: 12.1s\n",
      "646:\tlearn: 0.0304928\ttotal: 22.2s\tremaining: 12.1s\n",
      "647:\tlearn: 0.0304716\ttotal: 22.2s\tremaining: 12.1s\n",
      "648:\tlearn: 0.0304545\ttotal: 22.3s\tremaining: 12s\n",
      "649:\tlearn: 0.0304390\ttotal: 22.3s\tremaining: 12s\n",
      "650:\tlearn: 0.0304294\ttotal: 22.3s\tremaining: 12s\n",
      "651:\tlearn: 0.0303936\ttotal: 22.4s\tremaining: 11.9s\n",
      "652:\tlearn: 0.0303685\ttotal: 22.4s\tremaining: 11.9s\n",
      "653:\tlearn: 0.0303496\ttotal: 22.5s\tremaining: 11.9s\n",
      "654:\tlearn: 0.0303172\ttotal: 22.5s\tremaining: 11.8s\n",
      "655:\tlearn: 0.0302950\ttotal: 22.5s\tremaining: 11.8s\n",
      "656:\tlearn: 0.0302790\ttotal: 22.6s\tremaining: 11.8s\n",
      "657:\tlearn: 0.0302670\ttotal: 22.6s\tremaining: 11.8s\n",
      "658:\tlearn: 0.0302462\ttotal: 22.6s\tremaining: 11.7s\n",
      "659:\tlearn: 0.0302354\ttotal: 22.7s\tremaining: 11.7s\n",
      "660:\tlearn: 0.0302157\ttotal: 22.7s\tremaining: 11.7s\n",
      "661:\tlearn: 0.0302076\ttotal: 22.8s\tremaining: 11.6s\n",
      "662:\tlearn: 0.0301924\ttotal: 22.8s\tremaining: 11.6s\n",
      "663:\tlearn: 0.0301765\ttotal: 22.8s\tremaining: 11.5s\n",
      "664:\tlearn: 0.0301456\ttotal: 22.9s\tremaining: 11.5s\n",
      "665:\tlearn: 0.0301345\ttotal: 22.9s\tremaining: 11.5s\n",
      "666:\tlearn: 0.0301128\ttotal: 22.9s\tremaining: 11.5s\n",
      "667:\tlearn: 0.0300928\ttotal: 23s\tremaining: 11.4s\n",
      "668:\tlearn: 0.0300797\ttotal: 23s\tremaining: 11.4s\n",
      "669:\tlearn: 0.0300634\ttotal: 23s\tremaining: 11.3s\n",
      "670:\tlearn: 0.0300484\ttotal: 23.1s\tremaining: 11.3s\n",
      "671:\tlearn: 0.0300340\ttotal: 23.1s\tremaining: 11.3s\n",
      "672:\tlearn: 0.0300156\ttotal: 23.1s\tremaining: 11.2s\n",
      "673:\tlearn: 0.0299978\ttotal: 23.2s\tremaining: 11.2s\n",
      "674:\tlearn: 0.0299862\ttotal: 23.2s\tremaining: 11.2s\n",
      "675:\tlearn: 0.0299735\ttotal: 23.2s\tremaining: 11.1s\n",
      "676:\tlearn: 0.0299576\ttotal: 23.3s\tremaining: 11.1s\n",
      "677:\tlearn: 0.0299354\ttotal: 23.3s\tremaining: 11.1s\n",
      "678:\tlearn: 0.0299215\ttotal: 23.4s\tremaining: 11s\n",
      "679:\tlearn: 0.0298994\ttotal: 23.4s\tremaining: 11s\n",
      "680:\tlearn: 0.0298859\ttotal: 23.4s\tremaining: 11s\n",
      "681:\tlearn: 0.0298799\ttotal: 23.4s\tremaining: 10.9s\n",
      "682:\tlearn: 0.0298752\ttotal: 23.5s\tremaining: 10.9s\n",
      "683:\tlearn: 0.0298550\ttotal: 23.5s\tremaining: 10.9s\n",
      "684:\tlearn: 0.0298460\ttotal: 23.5s\tremaining: 10.8s\n",
      "685:\tlearn: 0.0298393\ttotal: 23.6s\tremaining: 10.8s\n",
      "686:\tlearn: 0.0298231\ttotal: 23.6s\tremaining: 10.8s\n",
      "687:\tlearn: 0.0297982\ttotal: 23.6s\tremaining: 10.7s\n",
      "688:\tlearn: 0.0297757\ttotal: 23.7s\tremaining: 10.7s\n",
      "689:\tlearn: 0.0297702\ttotal: 23.7s\tremaining: 10.7s\n",
      "690:\tlearn: 0.0297572\ttotal: 23.7s\tremaining: 10.6s\n",
      "691:\tlearn: 0.0297290\ttotal: 23.8s\tremaining: 10.6s\n",
      "692:\tlearn: 0.0297054\ttotal: 23.8s\tremaining: 10.5s\n",
      "693:\tlearn: 0.0296972\ttotal: 23.8s\tremaining: 10.5s\n",
      "694:\tlearn: 0.0296776\ttotal: 23.9s\tremaining: 10.5s\n",
      "695:\tlearn: 0.0296646\ttotal: 23.9s\tremaining: 10.4s\n",
      "696:\tlearn: 0.0296448\ttotal: 23.9s\tremaining: 10.4s\n",
      "697:\tlearn: 0.0296351\ttotal: 24s\tremaining: 10.4s\n",
      "698:\tlearn: 0.0296213\ttotal: 24s\tremaining: 10.3s\n",
      "699:\tlearn: 0.0296099\ttotal: 24s\tremaining: 10.3s\n",
      "700:\tlearn: 0.0296002\ttotal: 24.1s\tremaining: 10.3s\n",
      "701:\tlearn: 0.0295866\ttotal: 24.1s\tremaining: 10.2s\n",
      "702:\tlearn: 0.0295732\ttotal: 24.1s\tremaining: 10.2s\n",
      "703:\tlearn: 0.0295680\ttotal: 24.2s\tremaining: 10.2s\n",
      "704:\tlearn: 0.0295455\ttotal: 24.2s\tremaining: 10.1s\n",
      "705:\tlearn: 0.0295287\ttotal: 24.2s\tremaining: 10.1s\n",
      "706:\tlearn: 0.0295134\ttotal: 24.3s\tremaining: 10.1s\n",
      "707:\tlearn: 0.0294953\ttotal: 24.3s\tremaining: 10s\n",
      "708:\tlearn: 0.0294861\ttotal: 24.3s\tremaining: 9.99s\n",
      "709:\tlearn: 0.0294701\ttotal: 24.4s\tremaining: 9.96s\n",
      "710:\tlearn: 0.0294576\ttotal: 24.4s\tremaining: 9.92s\n",
      "711:\tlearn: 0.0294384\ttotal: 24.4s\tremaining: 9.89s\n",
      "712:\tlearn: 0.0294272\ttotal: 24.5s\tremaining: 9.86s\n",
      "713:\tlearn: 0.0294104\ttotal: 24.5s\tremaining: 9.82s\n",
      "714:\tlearn: 0.0293946\ttotal: 24.6s\tremaining: 9.79s\n",
      "715:\tlearn: 0.0293806\ttotal: 24.6s\tremaining: 9.75s\n",
      "716:\tlearn: 0.0293690\ttotal: 24.6s\tremaining: 9.72s\n",
      "717:\tlearn: 0.0293600\ttotal: 24.7s\tremaining: 9.68s\n",
      "718:\tlearn: 0.0293508\ttotal: 24.7s\tremaining: 9.65s\n",
      "719:\tlearn: 0.0293259\ttotal: 24.7s\tremaining: 9.62s\n",
      "720:\tlearn: 0.0293149\ttotal: 24.8s\tremaining: 9.58s\n",
      "721:\tlearn: 0.0292940\ttotal: 24.8s\tremaining: 9.54s\n",
      "722:\tlearn: 0.0292775\ttotal: 24.8s\tremaining: 9.51s\n",
      "723:\tlearn: 0.0292618\ttotal: 24.9s\tremaining: 9.48s\n",
      "724:\tlearn: 0.0292537\ttotal: 24.9s\tremaining: 9.44s\n",
      "725:\tlearn: 0.0292267\ttotal: 24.9s\tremaining: 9.41s\n",
      "726:\tlearn: 0.0292102\ttotal: 25s\tremaining: 9.37s\n",
      "727:\tlearn: 0.0291868\ttotal: 25s\tremaining: 9.34s\n",
      "728:\tlearn: 0.0291736\ttotal: 25s\tremaining: 9.3s\n",
      "729:\tlearn: 0.0291558\ttotal: 25.1s\tremaining: 9.27s\n",
      "730:\tlearn: 0.0291461\ttotal: 25.1s\tremaining: 9.23s\n",
      "731:\tlearn: 0.0291316\ttotal: 25.2s\tremaining: 9.21s\n",
      "732:\tlearn: 0.0291145\ttotal: 25.2s\tremaining: 9.18s\n",
      "733:\tlearn: 0.0291048\ttotal: 25.2s\tremaining: 9.14s\n",
      "734:\tlearn: 0.0290937\ttotal: 25.3s\tremaining: 9.1s\n",
      "735:\tlearn: 0.0290709\ttotal: 25.3s\tremaining: 9.07s\n",
      "736:\tlearn: 0.0290480\ttotal: 25.3s\tremaining: 9.03s\n",
      "737:\tlearn: 0.0290309\ttotal: 25.4s\tremaining: 9s\n",
      "738:\tlearn: 0.0290130\ttotal: 25.4s\tremaining: 8.96s\n",
      "739:\tlearn: 0.0289925\ttotal: 25.4s\tremaining: 8.93s\n",
      "740:\tlearn: 0.0289774\ttotal: 25.4s\tremaining: 8.89s\n",
      "741:\tlearn: 0.0289686\ttotal: 25.5s\tremaining: 8.86s\n",
      "742:\tlearn: 0.0289545\ttotal: 25.5s\tremaining: 8.82s\n",
      "743:\tlearn: 0.0289321\ttotal: 25.5s\tremaining: 8.79s\n",
      "744:\tlearn: 0.0289231\ttotal: 25.6s\tremaining: 8.75s\n",
      "745:\tlearn: 0.0289113\ttotal: 25.6s\tremaining: 8.72s\n",
      "746:\tlearn: 0.0288860\ttotal: 25.6s\tremaining: 8.68s\n",
      "747:\tlearn: 0.0288761\ttotal: 25.7s\tremaining: 8.65s\n",
      "748:\tlearn: 0.0288628\ttotal: 25.7s\tremaining: 8.61s\n",
      "749:\tlearn: 0.0288421\ttotal: 25.7s\tremaining: 8.58s\n",
      "750:\tlearn: 0.0288331\ttotal: 25.8s\tremaining: 8.54s\n",
      "751:\tlearn: 0.0288189\ttotal: 25.8s\tremaining: 8.51s\n",
      "752:\tlearn: 0.0288019\ttotal: 25.8s\tremaining: 8.47s\n",
      "753:\tlearn: 0.0287898\ttotal: 25.9s\tremaining: 8.44s\n",
      "754:\tlearn: 0.0287741\ttotal: 25.9s\tremaining: 8.4s\n",
      "755:\tlearn: 0.0287593\ttotal: 25.9s\tremaining: 8.37s\n",
      "756:\tlearn: 0.0287254\ttotal: 26s\tremaining: 8.33s\n",
      "757:\tlearn: 0.0287073\ttotal: 26s\tremaining: 8.3s\n",
      "758:\tlearn: 0.0286868\ttotal: 26s\tremaining: 8.27s\n",
      "759:\tlearn: 0.0286789\ttotal: 26.1s\tremaining: 8.23s\n",
      "760:\tlearn: 0.0286535\ttotal: 26.1s\tremaining: 8.2s\n",
      "761:\tlearn: 0.0286329\ttotal: 26.1s\tremaining: 8.16s\n",
      "762:\tlearn: 0.0286223\ttotal: 26.2s\tremaining: 8.13s\n",
      "763:\tlearn: 0.0286109\ttotal: 26.2s\tremaining: 8.09s\n",
      "764:\tlearn: 0.0285908\ttotal: 26.2s\tremaining: 8.06s\n",
      "765:\tlearn: 0.0285794\ttotal: 26.3s\tremaining: 8.02s\n",
      "766:\tlearn: 0.0285579\ttotal: 26.3s\tremaining: 7.99s\n",
      "767:\tlearn: 0.0285423\ttotal: 26.3s\tremaining: 7.96s\n",
      "768:\tlearn: 0.0285236\ttotal: 26.4s\tremaining: 7.92s\n",
      "769:\tlearn: 0.0285018\ttotal: 26.4s\tremaining: 7.89s\n",
      "770:\tlearn: 0.0284850\ttotal: 26.4s\tremaining: 7.85s\n",
      "771:\tlearn: 0.0284705\ttotal: 26.5s\tremaining: 7.82s\n",
      "772:\tlearn: 0.0284531\ttotal: 26.5s\tremaining: 7.78s\n",
      "773:\tlearn: 0.0284432\ttotal: 26.5s\tremaining: 7.75s\n",
      "774:\tlearn: 0.0284317\ttotal: 26.6s\tremaining: 7.71s\n",
      "775:\tlearn: 0.0284194\ttotal: 26.6s\tremaining: 7.68s\n",
      "776:\tlearn: 0.0284058\ttotal: 26.6s\tremaining: 7.65s\n",
      "777:\tlearn: 0.0283910\ttotal: 26.7s\tremaining: 7.61s\n",
      "778:\tlearn: 0.0283700\ttotal: 26.7s\tremaining: 7.58s\n",
      "779:\tlearn: 0.0283615\ttotal: 26.7s\tremaining: 7.54s\n",
      "780:\tlearn: 0.0283557\ttotal: 26.8s\tremaining: 7.51s\n",
      "781:\tlearn: 0.0283430\ttotal: 26.8s\tremaining: 7.47s\n",
      "782:\tlearn: 0.0283331\ttotal: 26.8s\tremaining: 7.44s\n",
      "783:\tlearn: 0.0283193\ttotal: 26.9s\tremaining: 7.41s\n",
      "784:\tlearn: 0.0283082\ttotal: 26.9s\tremaining: 7.37s\n",
      "785:\tlearn: 0.0282901\ttotal: 27s\tremaining: 7.34s\n",
      "786:\tlearn: 0.0282825\ttotal: 27s\tremaining: 7.3s\n",
      "787:\tlearn: 0.0282610\ttotal: 27s\tremaining: 7.27s\n",
      "788:\tlearn: 0.0282457\ttotal: 27.1s\tremaining: 7.24s\n",
      "789:\tlearn: 0.0282362\ttotal: 27.1s\tremaining: 7.21s\n",
      "790:\tlearn: 0.0282212\ttotal: 27.1s\tremaining: 7.17s\n",
      "791:\tlearn: 0.0282137\ttotal: 27.2s\tremaining: 7.14s\n",
      "792:\tlearn: 0.0281900\ttotal: 27.2s\tremaining: 7.1s\n",
      "793:\tlearn: 0.0281838\ttotal: 27.3s\tremaining: 7.07s\n",
      "794:\tlearn: 0.0281814\ttotal: 27.3s\tremaining: 7.04s\n",
      "795:\tlearn: 0.0281623\ttotal: 27.3s\tremaining: 7s\n",
      "796:\tlearn: 0.0281350\ttotal: 27.4s\tremaining: 6.97s\n",
      "797:\tlearn: 0.0281196\ttotal: 27.4s\tremaining: 6.93s\n",
      "798:\tlearn: 0.0281022\ttotal: 27.4s\tremaining: 6.9s\n",
      "799:\tlearn: 0.0280860\ttotal: 27.5s\tremaining: 6.87s\n",
      "800:\tlearn: 0.0280721\ttotal: 27.5s\tremaining: 6.83s\n",
      "801:\tlearn: 0.0280668\ttotal: 27.5s\tremaining: 6.8s\n",
      "802:\tlearn: 0.0280532\ttotal: 27.6s\tremaining: 6.76s\n",
      "803:\tlearn: 0.0280433\ttotal: 27.6s\tremaining: 6.73s\n",
      "804:\tlearn: 0.0280372\ttotal: 27.6s\tremaining: 6.7s\n",
      "805:\tlearn: 0.0280164\ttotal: 27.7s\tremaining: 6.66s\n",
      "806:\tlearn: 0.0280080\ttotal: 27.7s\tremaining: 6.63s\n",
      "807:\tlearn: 0.0279970\ttotal: 27.8s\tremaining: 6.59s\n",
      "808:\tlearn: 0.0279721\ttotal: 27.8s\tremaining: 6.56s\n",
      "809:\tlearn: 0.0279540\ttotal: 27.8s\tremaining: 6.53s\n",
      "810:\tlearn: 0.0279356\ttotal: 27.9s\tremaining: 6.49s\n",
      "811:\tlearn: 0.0279287\ttotal: 27.9s\tremaining: 6.46s\n",
      "812:\tlearn: 0.0279087\ttotal: 27.9s\tremaining: 6.42s\n",
      "813:\tlearn: 0.0278918\ttotal: 28s\tremaining: 6.39s\n",
      "814:\tlearn: 0.0278735\ttotal: 28s\tremaining: 6.36s\n",
      "815:\tlearn: 0.0278659\ttotal: 28s\tremaining: 6.32s\n",
      "816:\tlearn: 0.0278480\ttotal: 28.1s\tremaining: 6.29s\n",
      "817:\tlearn: 0.0278280\ttotal: 28.1s\tremaining: 6.25s\n",
      "818:\tlearn: 0.0278203\ttotal: 28.1s\tremaining: 6.22s\n",
      "819:\tlearn: 0.0277941\ttotal: 28.2s\tremaining: 6.19s\n",
      "820:\tlearn: 0.0277776\ttotal: 28.2s\tremaining: 6.15s\n",
      "821:\tlearn: 0.0277665\ttotal: 28.2s\tremaining: 6.12s\n",
      "822:\tlearn: 0.0277553\ttotal: 28.3s\tremaining: 6.08s\n",
      "823:\tlearn: 0.0277333\ttotal: 28.3s\tremaining: 6.05s\n",
      "824:\tlearn: 0.0277236\ttotal: 28.3s\tremaining: 6.01s\n",
      "825:\tlearn: 0.0277120\ttotal: 28.4s\tremaining: 5.98s\n",
      "826:\tlearn: 0.0276984\ttotal: 28.4s\tremaining: 5.94s\n",
      "827:\tlearn: 0.0276913\ttotal: 28.4s\tremaining: 5.91s\n",
      "828:\tlearn: 0.0276837\ttotal: 28.5s\tremaining: 5.87s\n",
      "829:\tlearn: 0.0276695\ttotal: 28.5s\tremaining: 5.84s\n",
      "830:\tlearn: 0.0276466\ttotal: 28.5s\tremaining: 5.8s\n",
      "831:\tlearn: 0.0276212\ttotal: 28.6s\tremaining: 5.77s\n",
      "832:\tlearn: 0.0276122\ttotal: 28.6s\tremaining: 5.74s\n",
      "833:\tlearn: 0.0275985\ttotal: 28.6s\tremaining: 5.7s\n",
      "834:\tlearn: 0.0275913\ttotal: 28.7s\tremaining: 5.67s\n",
      "835:\tlearn: 0.0275815\ttotal: 28.7s\tremaining: 5.63s\n",
      "836:\tlearn: 0.0275637\ttotal: 28.8s\tremaining: 5.6s\n",
      "837:\tlearn: 0.0275536\ttotal: 28.8s\tremaining: 5.56s\n",
      "838:\tlearn: 0.0275322\ttotal: 28.8s\tremaining: 5.53s\n",
      "839:\tlearn: 0.0275271\ttotal: 28.9s\tremaining: 5.5s\n",
      "840:\tlearn: 0.0275200\ttotal: 28.9s\tremaining: 5.46s\n",
      "841:\tlearn: 0.0275100\ttotal: 28.9s\tremaining: 5.43s\n",
      "842:\tlearn: 0.0274904\ttotal: 29s\tremaining: 5.39s\n",
      "843:\tlearn: 0.0274748\ttotal: 29s\tremaining: 5.36s\n",
      "844:\tlearn: 0.0274636\ttotal: 29s\tremaining: 5.33s\n",
      "845:\tlearn: 0.0274463\ttotal: 29.1s\tremaining: 5.29s\n",
      "846:\tlearn: 0.0274221\ttotal: 29.1s\tremaining: 5.26s\n",
      "847:\tlearn: 0.0274080\ttotal: 29.1s\tremaining: 5.22s\n",
      "848:\tlearn: 0.0273953\ttotal: 29.2s\tremaining: 5.19s\n",
      "849:\tlearn: 0.0273794\ttotal: 29.2s\tremaining: 5.16s\n",
      "850:\tlearn: 0.0273657\ttotal: 29.3s\tremaining: 5.12s\n",
      "851:\tlearn: 0.0273424\ttotal: 29.3s\tremaining: 5.09s\n",
      "852:\tlearn: 0.0273222\ttotal: 29.3s\tremaining: 5.06s\n",
      "853:\tlearn: 0.0273144\ttotal: 29.4s\tremaining: 5.02s\n",
      "854:\tlearn: 0.0273015\ttotal: 29.4s\tremaining: 4.99s\n",
      "855:\tlearn: 0.0272891\ttotal: 29.4s\tremaining: 4.95s\n",
      "856:\tlearn: 0.0272784\ttotal: 29.5s\tremaining: 4.92s\n",
      "857:\tlearn: 0.0272676\ttotal: 29.5s\tremaining: 4.88s\n",
      "858:\tlearn: 0.0272524\ttotal: 29.6s\tremaining: 4.85s\n",
      "859:\tlearn: 0.0272363\ttotal: 29.6s\tremaining: 4.82s\n",
      "860:\tlearn: 0.0272202\ttotal: 29.6s\tremaining: 4.78s\n",
      "861:\tlearn: 0.0272106\ttotal: 29.7s\tremaining: 4.75s\n",
      "862:\tlearn: 0.0272034\ttotal: 29.7s\tremaining: 4.71s\n",
      "863:\tlearn: 0.0271951\ttotal: 29.7s\tremaining: 4.68s\n",
      "864:\tlearn: 0.0271796\ttotal: 29.8s\tremaining: 4.64s\n",
      "865:\tlearn: 0.0271657\ttotal: 29.8s\tremaining: 4.61s\n",
      "866:\tlearn: 0.0271499\ttotal: 29.8s\tremaining: 4.58s\n",
      "867:\tlearn: 0.0271409\ttotal: 29.9s\tremaining: 4.54s\n",
      "868:\tlearn: 0.0271306\ttotal: 29.9s\tremaining: 4.51s\n",
      "869:\tlearn: 0.0271190\ttotal: 30s\tremaining: 4.47s\n",
      "870:\tlearn: 0.0271058\ttotal: 30s\tremaining: 4.44s\n",
      "871:\tlearn: 0.0270858\ttotal: 30s\tremaining: 4.41s\n",
      "872:\tlearn: 0.0270731\ttotal: 30.1s\tremaining: 4.37s\n",
      "873:\tlearn: 0.0270592\ttotal: 30.1s\tremaining: 4.34s\n",
      "874:\tlearn: 0.0270544\ttotal: 30.1s\tremaining: 4.3s\n",
      "875:\tlearn: 0.0270353\ttotal: 30.2s\tremaining: 4.27s\n",
      "876:\tlearn: 0.0270275\ttotal: 30.2s\tremaining: 4.24s\n",
      "877:\tlearn: 0.0270168\ttotal: 30.2s\tremaining: 4.2s\n",
      "878:\tlearn: 0.0270098\ttotal: 30.3s\tremaining: 4.17s\n",
      "879:\tlearn: 0.0269949\ttotal: 30.3s\tremaining: 4.13s\n",
      "880:\tlearn: 0.0269753\ttotal: 30.3s\tremaining: 4.1s\n",
      "881:\tlearn: 0.0269565\ttotal: 30.4s\tremaining: 4.06s\n",
      "882:\tlearn: 0.0269424\ttotal: 30.4s\tremaining: 4.03s\n",
      "883:\tlearn: 0.0269321\ttotal: 30.4s\tremaining: 4s\n",
      "884:\tlearn: 0.0269184\ttotal: 30.5s\tremaining: 3.96s\n",
      "885:\tlearn: 0.0269036\ttotal: 30.5s\tremaining: 3.92s\n",
      "886:\tlearn: 0.0268922\ttotal: 30.5s\tremaining: 3.89s\n",
      "887:\tlearn: 0.0268756\ttotal: 30.6s\tremaining: 3.86s\n",
      "888:\tlearn: 0.0268599\ttotal: 30.6s\tremaining: 3.82s\n",
      "889:\tlearn: 0.0268443\ttotal: 30.7s\tremaining: 3.79s\n",
      "890:\tlearn: 0.0268371\ttotal: 30.7s\tremaining: 3.75s\n",
      "891:\tlearn: 0.0268362\ttotal: 30.7s\tremaining: 3.72s\n",
      "892:\tlearn: 0.0268279\ttotal: 30.8s\tremaining: 3.69s\n",
      "893:\tlearn: 0.0268088\ttotal: 30.8s\tremaining: 3.65s\n",
      "894:\tlearn: 0.0268033\ttotal: 30.8s\tremaining: 3.62s\n",
      "895:\tlearn: 0.0267929\ttotal: 30.9s\tremaining: 3.58s\n",
      "896:\tlearn: 0.0267861\ttotal: 30.9s\tremaining: 3.55s\n",
      "897:\tlearn: 0.0267778\ttotal: 30.9s\tremaining: 3.51s\n",
      "898:\tlearn: 0.0267547\ttotal: 31s\tremaining: 3.48s\n",
      "899:\tlearn: 0.0267469\ttotal: 31s\tremaining: 3.44s\n",
      "900:\tlearn: 0.0267427\ttotal: 31s\tremaining: 3.41s\n",
      "901:\tlearn: 0.0267365\ttotal: 31.1s\tremaining: 3.38s\n",
      "902:\tlearn: 0.0267223\ttotal: 31.1s\tremaining: 3.34s\n",
      "903:\tlearn: 0.0267015\ttotal: 31.2s\tremaining: 3.31s\n",
      "904:\tlearn: 0.0266891\ttotal: 31.2s\tremaining: 3.27s\n",
      "905:\tlearn: 0.0266855\ttotal: 31.2s\tremaining: 3.24s\n",
      "906:\tlearn: 0.0266742\ttotal: 31.3s\tremaining: 3.21s\n",
      "907:\tlearn: 0.0266626\ttotal: 31.3s\tremaining: 3.17s\n",
      "908:\tlearn: 0.0266546\ttotal: 31.4s\tremaining: 3.14s\n",
      "909:\tlearn: 0.0266441\ttotal: 31.4s\tremaining: 3.1s\n",
      "910:\tlearn: 0.0266313\ttotal: 31.4s\tremaining: 3.07s\n",
      "911:\tlearn: 0.0266143\ttotal: 31.5s\tremaining: 3.04s\n",
      "912:\tlearn: 0.0266088\ttotal: 31.5s\tremaining: 3s\n",
      "913:\tlearn: 0.0265895\ttotal: 31.5s\tremaining: 2.97s\n",
      "914:\tlearn: 0.0265788\ttotal: 31.6s\tremaining: 2.93s\n",
      "915:\tlearn: 0.0265719\ttotal: 31.6s\tremaining: 2.9s\n",
      "916:\tlearn: 0.0265505\ttotal: 31.6s\tremaining: 2.86s\n",
      "917:\tlearn: 0.0265294\ttotal: 31.7s\tremaining: 2.83s\n",
      "918:\tlearn: 0.0265218\ttotal: 31.7s\tremaining: 2.79s\n",
      "919:\tlearn: 0.0265114\ttotal: 31.7s\tremaining: 2.76s\n",
      "920:\tlearn: 0.0265070\ttotal: 31.8s\tremaining: 2.73s\n",
      "921:\tlearn: 0.0264977\ttotal: 31.8s\tremaining: 2.69s\n",
      "922:\tlearn: 0.0264915\ttotal: 31.8s\tremaining: 2.66s\n",
      "923:\tlearn: 0.0264782\ttotal: 31.9s\tremaining: 2.62s\n",
      "924:\tlearn: 0.0264665\ttotal: 31.9s\tremaining: 2.59s\n",
      "925:\tlearn: 0.0264582\ttotal: 31.9s\tremaining: 2.55s\n",
      "926:\tlearn: 0.0264454\ttotal: 32s\tremaining: 2.52s\n",
      "927:\tlearn: 0.0264356\ttotal: 32s\tremaining: 2.48s\n",
      "928:\tlearn: 0.0264224\ttotal: 32.1s\tremaining: 2.45s\n",
      "929:\tlearn: 0.0264092\ttotal: 32.1s\tremaining: 2.42s\n",
      "930:\tlearn: 0.0263966\ttotal: 32.1s\tremaining: 2.38s\n",
      "931:\tlearn: 0.0263797\ttotal: 32.2s\tremaining: 2.35s\n",
      "932:\tlearn: 0.0263681\ttotal: 32.2s\tremaining: 2.31s\n",
      "933:\tlearn: 0.0263548\ttotal: 32.2s\tremaining: 2.28s\n",
      "934:\tlearn: 0.0263482\ttotal: 32.3s\tremaining: 2.24s\n",
      "935:\tlearn: 0.0263328\ttotal: 32.3s\tremaining: 2.21s\n",
      "936:\tlearn: 0.0263319\ttotal: 32.3s\tremaining: 2.17s\n",
      "937:\tlearn: 0.0263283\ttotal: 32.4s\tremaining: 2.14s\n",
      "938:\tlearn: 0.0263079\ttotal: 32.4s\tremaining: 2.1s\n",
      "939:\tlearn: 0.0262991\ttotal: 32.4s\tremaining: 2.07s\n",
      "940:\tlearn: 0.0262860\ttotal: 32.5s\tremaining: 2.04s\n",
      "941:\tlearn: 0.0262829\ttotal: 32.5s\tremaining: 2s\n",
      "942:\tlearn: 0.0262692\ttotal: 32.5s\tremaining: 1.97s\n",
      "943:\tlearn: 0.0262632\ttotal: 32.6s\tremaining: 1.93s\n",
      "944:\tlearn: 0.0262460\ttotal: 32.6s\tremaining: 1.9s\n",
      "945:\tlearn: 0.0262395\ttotal: 32.6s\tremaining: 1.86s\n",
      "946:\tlearn: 0.0262313\ttotal: 32.7s\tremaining: 1.83s\n",
      "947:\tlearn: 0.0262173\ttotal: 32.7s\tremaining: 1.79s\n",
      "948:\tlearn: 0.0262049\ttotal: 32.7s\tremaining: 1.76s\n",
      "949:\tlearn: 0.0261972\ttotal: 32.8s\tremaining: 1.72s\n",
      "950:\tlearn: 0.0261885\ttotal: 32.8s\tremaining: 1.69s\n",
      "951:\tlearn: 0.0261774\ttotal: 32.8s\tremaining: 1.66s\n",
      "952:\tlearn: 0.0261676\ttotal: 32.9s\tremaining: 1.62s\n",
      "953:\tlearn: 0.0261558\ttotal: 32.9s\tremaining: 1.59s\n",
      "954:\tlearn: 0.0261521\ttotal: 32.9s\tremaining: 1.55s\n",
      "955:\tlearn: 0.0261345\ttotal: 33s\tremaining: 1.52s\n",
      "956:\tlearn: 0.0261201\ttotal: 33s\tremaining: 1.48s\n",
      "957:\tlearn: 0.0261070\ttotal: 33s\tremaining: 1.45s\n",
      "958:\tlearn: 0.0260955\ttotal: 33.1s\tremaining: 1.41s\n",
      "959:\tlearn: 0.0260744\ttotal: 33.1s\tremaining: 1.38s\n",
      "960:\tlearn: 0.0260607\ttotal: 33.1s\tremaining: 1.34s\n",
      "961:\tlearn: 0.0260598\ttotal: 33.2s\tremaining: 1.31s\n",
      "962:\tlearn: 0.0260486\ttotal: 33.2s\tremaining: 1.27s\n",
      "963:\tlearn: 0.0260328\ttotal: 33.2s\tremaining: 1.24s\n",
      "964:\tlearn: 0.0260235\ttotal: 33.3s\tremaining: 1.21s\n",
      "965:\tlearn: 0.0260163\ttotal: 33.3s\tremaining: 1.17s\n",
      "966:\tlearn: 0.0260059\ttotal: 33.3s\tremaining: 1.14s\n",
      "967:\tlearn: 0.0259963\ttotal: 33.4s\tremaining: 1.1s\n",
      "968:\tlearn: 0.0259813\ttotal: 33.4s\tremaining: 1.07s\n",
      "969:\tlearn: 0.0259732\ttotal: 33.4s\tremaining: 1.03s\n",
      "970:\tlearn: 0.0259538\ttotal: 33.5s\tremaining: 1000ms\n",
      "971:\tlearn: 0.0259450\ttotal: 33.5s\tremaining: 965ms\n",
      "972:\tlearn: 0.0259329\ttotal: 33.5s\tremaining: 931ms\n",
      "973:\tlearn: 0.0259323\ttotal: 33.6s\tremaining: 896ms\n",
      "974:\tlearn: 0.0259241\ttotal: 33.6s\tremaining: 862ms\n",
      "975:\tlearn: 0.0259086\ttotal: 33.6s\tremaining: 827ms\n",
      "976:\tlearn: 0.0259018\ttotal: 33.7s\tremaining: 793ms\n",
      "977:\tlearn: 0.0258895\ttotal: 33.7s\tremaining: 758ms\n",
      "978:\tlearn: 0.0258816\ttotal: 33.7s\tremaining: 724ms\n",
      "979:\tlearn: 0.0258725\ttotal: 33.8s\tremaining: 690ms\n",
      "980:\tlearn: 0.0258494\ttotal: 33.8s\tremaining: 655ms\n",
      "981:\tlearn: 0.0258285\ttotal: 33.9s\tremaining: 620ms\n",
      "982:\tlearn: 0.0258084\ttotal: 33.9s\tremaining: 586ms\n",
      "983:\tlearn: 0.0257930\ttotal: 33.9s\tremaining: 552ms\n",
      "984:\tlearn: 0.0257832\ttotal: 34s\tremaining: 517ms\n",
      "985:\tlearn: 0.0257701\ttotal: 34s\tremaining: 483ms\n",
      "986:\tlearn: 0.0257593\ttotal: 34s\tremaining: 448ms\n",
      "987:\tlearn: 0.0257507\ttotal: 34.1s\tremaining: 414ms\n",
      "988:\tlearn: 0.0257402\ttotal: 34.1s\tremaining: 379ms\n",
      "989:\tlearn: 0.0257219\ttotal: 34.1s\tremaining: 345ms\n",
      "990:\tlearn: 0.0256975\ttotal: 34.2s\tremaining: 310ms\n",
      "991:\tlearn: 0.0256850\ttotal: 34.2s\tremaining: 276ms\n",
      "992:\tlearn: 0.0256788\ttotal: 34.2s\tremaining: 241ms\n",
      "993:\tlearn: 0.0256681\ttotal: 34.3s\tremaining: 207ms\n",
      "994:\tlearn: 0.0256549\ttotal: 34.3s\tremaining: 172ms\n",
      "995:\tlearn: 0.0256366\ttotal: 34.4s\tremaining: 138ms\n",
      "996:\tlearn: 0.0256263\ttotal: 34.4s\tremaining: 103ms\n",
      "997:\tlearn: 0.0256148\ttotal: 34.4s\tremaining: 69ms\n",
      "998:\tlearn: 0.0256042\ttotal: 34.5s\tremaining: 34.5ms\n",
      "999:\tlearn: 0.0255910\ttotal: 34.5s\tremaining: 0us\n"
     ]
    },
    {
     "data": {
      "text/plain": [
       "<catboost.core.CatBoostRegressor at 0x1cf05802850>"
      ]
     },
     "execution_count": 91,
     "metadata": {},
     "output_type": "execute_result"
    }
   ],
   "source": [
    "model.fit(X_train, y_train)#, eval_set = (X_val, y_val))"
   ]
  },
  {
   "cell_type": "code",
   "execution_count": 92,
   "id": "efd45067",
   "metadata": {},
   "outputs": [],
   "source": [
    "y_pred = model.predict(X_test)"
   ]
  },
  {
   "cell_type": "code",
   "execution_count": 95,
   "id": "e7aa1956",
   "metadata": {},
   "outputs": [
    {
     "data": {
      "text/plain": [
       "0.7418344809429056"
      ]
     },
     "execution_count": 95,
     "metadata": {},
     "output_type": "execute_result"
    }
   ],
   "source": [
    "r2_score(y_test, y_pred)"
   ]
  },
  {
   "cell_type": "code",
   "execution_count": 96,
   "id": "88cf0fcd",
   "metadata": {},
   "outputs": [
    {
     "data": {
      "text/plain": [
       "0.043872930689280464"
      ]
     },
     "execution_count": 96,
     "metadata": {},
     "output_type": "execute_result"
    }
   ],
   "source": [
    "rms = mean_squared_error(y_test, y_pred)**0.5\n",
    "rms"
   ]
  },
  {
   "cell_type": "markdown",
   "id": "a575af5a",
   "metadata": {},
   "source": [
    "Catboost показал лучший результат"
   ]
  },
  {
   "cell_type": "code",
   "execution_count": null,
   "id": "a251f0b6",
   "metadata": {},
   "outputs": [],
   "source": []
  }
 ],
 "metadata": {
  "kernelspec": {
   "display_name": "Python 3 (ipykernel)",
   "language": "python",
   "name": "python3"
  },
  "language_info": {
   "codemirror_mode": {
    "name": "ipython",
    "version": 3
   },
   "file_extension": ".py",
   "mimetype": "text/x-python",
   "name": "python",
   "nbconvert_exporter": "python",
   "pygments_lexer": "ipython3",
   "version": "3.9.7"
  },
  "toc": {
   "base_numbering": 1,
   "nav_menu": {},
   "number_sections": true,
   "sideBar": true,
   "skip_h1_title": false,
   "title_cell": "Table of Contents",
   "title_sidebar": "Contents",
   "toc_cell": false,
   "toc_position": {},
   "toc_section_display": true,
   "toc_window_display": false
  }
 },
 "nbformat": 4,
 "nbformat_minor": 5
}
