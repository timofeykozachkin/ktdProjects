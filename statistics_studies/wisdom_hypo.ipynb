{
 "cells": [
  {
   "cell_type": "markdown",
   "id": "bf237359",
   "metadata": {},
   "source": [
    "## Мудрость \n",
    "\n",
    "> Помните, что для человека звук его имени является самым сладким и самым важным звуком человеческой речи. (Дейл Карнеги)\n",
    "\n",
    "Доверяй, но проверяй. Решим задачку по психологии! Все цитаты в пабликах вконтакте делятся на два вида: мудрые и недостаточно мудрые. Если цитата мудрая, то её можно лайкнуть. Поговаривают, что если в цитате есть личные местоимения, то пользователь автоматически сопоставляет себя автору этой цитаты и вероятность того, что она будет лайкнута, повышается. Например, цитату \n",
    "\n",
    "> Можно простить человеку все, кроме отсутствия. (Экзюпери) \n",
    "\n",
    "мне не очень хотелось бы лайкать. А вот цитата \n",
    "\n",
    "> Мне наплевать, что вы обо мне думаете. Я о вас вообще не думаю. (Булгаков) \n",
    "\n",
    "совершенно другое дело. \n",
    "\n",
    "В табличке `df_vk_wise` лежат данные о мудрых цитатах из [мудрого паблика.](https://vk.com/ooioioioioioo) В колонке `I` находится переменная, которая принимает значение `True`, когда в тексте цитаты было личное местоимение \"Я\".\n",
    "\n",
    "Срежем первые $50$ постов, так как под ними количество репостов и лайков ещё окончательно не выставлено, и будем работать с остатками. "
   ]
  },
  {
   "cell_type": "code",
   "execution_count": 1,
   "id": "d1ae8fb5",
   "metadata": {},
   "outputs": [
    {
     "data": {
      "text/html": [
       "<div>\n",
       "<style scoped>\n",
       "    .dataframe tbody tr th:only-of-type {\n",
       "        vertical-align: middle;\n",
       "    }\n",
       "\n",
       "    .dataframe tbody tr th {\n",
       "        vertical-align: top;\n",
       "    }\n",
       "\n",
       "    .dataframe thead th {\n",
       "        text-align: right;\n",
       "    }\n",
       "</style>\n",
       "<table border=\"1\" class=\"dataframe\">\n",
       "  <thead>\n",
       "    <tr style=\"text-align: right;\">\n",
       "      <th></th>\n",
       "      <th>likes</th>\n",
       "      <th>reposts</th>\n",
       "      <th>text</th>\n",
       "      <th>I</th>\n",
       "    </tr>\n",
       "  </thead>\n",
       "  <tbody>\n",
       "    <tr>\n",
       "      <th>50</th>\n",
       "      <td>549</td>\n",
       "      <td>25</td>\n",
       "      <td>Я, говорит, люблю человечество, но дивлюсь на ...</td>\n",
       "      <td>True</td>\n",
       "    </tr>\n",
       "    <tr>\n",
       "      <th>51</th>\n",
       "      <td>607</td>\n",
       "      <td>22</td>\n",
       "      <td>Нельзя любить то, что я люблю, да ещё так, как...</td>\n",
       "      <td>True</td>\n",
       "    </tr>\n",
       "    <tr>\n",
       "      <th>52</th>\n",
       "      <td>914</td>\n",
       "      <td>37</td>\n",
       "      <td>Если испытываешь по-настоящему глубокое чувств...</td>\n",
       "      <td>False</td>\n",
       "    </tr>\n",
       "    <tr>\n",
       "      <th>53</th>\n",
       "      <td>989</td>\n",
       "      <td>34</td>\n",
       "      <td>— Я тебя люблю, — сказал я. \\r\\n— Это пройдет,...</td>\n",
       "      <td>True</td>\n",
       "    </tr>\n",
       "    <tr>\n",
       "      <th>54</th>\n",
       "      <td>1229</td>\n",
       "      <td>32</td>\n",
       "      <td>Он очаровательно рассказывает мне о том, как о...</td>\n",
       "      <td>False</td>\n",
       "    </tr>\n",
       "  </tbody>\n",
       "</table>\n",
       "</div>"
      ],
      "text/plain": [
       "    likes  reposts                                               text      I\n",
       "50    549       25  Я, говорит, люблю человечество, но дивлюсь на ...   True\n",
       "51    607       22  Нельзя любить то, что я люблю, да ещё так, как...   True\n",
       "52    914       37  Если испытываешь по-настоящему глубокое чувств...  False\n",
       "53    989       34  — Я тебя люблю, — сказал я. \\r\\n— Это пройдет,...   True\n",
       "54   1229       32  Он очаровательно рассказывает мне о том, как о...  False"
      ]
     },
     "execution_count": 1,
     "metadata": {},
     "output_type": "execute_result"
    }
   ],
   "source": [
    "import numpy as np\n",
    "import pandas as pd\n",
    "\n",
    "from scipy import stats as sts\n",
    "\n",
    "import seaborn as sns\n",
    "import matplotlib.pyplot as plt\n",
    "\n",
    "plt.style.use('ggplot')\n",
    "%matplotlib inline\n",
    "\n",
    "df = pd.read_csv('data/df_vk_wise.csv')[50:]\n",
    "df.head()"
   ]
  },
  {
   "cell_type": "markdown",
   "id": "2a3e8f04",
   "metadata": {},
   "source": [
    "Гистограммы для числа лайков постов, содержащих личные местоимения и не содержащих:"
   ]
  },
  {
   "cell_type": "code",
   "execution_count": 2,
   "id": "d308809f",
   "metadata": {},
   "outputs": [
    {
     "data": {
      "image/png": "[encoded data removed]",
      "text/plain": [
       "<Figure size 720x360 with 1 Axes>"
      ]
     },
     "metadata": {
      "needs_background": "light"
     },
     "output_type": "display_data"
    }
   ],
   "source": [
    "plt.figure(figsize=(10, 5))\n",
    "plt.hist(df.loc[df['I'], 'reposts'].values, density=True, bins=50, alpha=0.5, label='with I')\n",
    "plt.hist(df.loc[~df['I'], 'reposts'].values, density=True, bins=50, alpha=0.5, label='without I');\n",
    "plt.title('Распределение репостов', size=15)\n",
    "plt.xlabel('Кол-во репостов', size=10)\n",
    "plt.ylabel('Кол-во наблюдений', size=10);"
   ]
  },
  {
   "cell_type": "code",
   "execution_count": 3,
   "id": "23afcd74",
   "metadata": {},
   "outputs": [
    {
     "data": {
      "image/png": "[encoded data removed]",
      "text/plain": [
       "<Figure size 720x360 with 1 Axes>"
      ]
     },
     "metadata": {
      "needs_background": "light"
     },
     "output_type": "display_data"
    }
   ],
   "source": [
    "plt.figure(figsize=(10, 5))\n",
    "plt.hist(df.loc[df['I'], 'likes'].values, density=True, bins=50, alpha=0.5, label='with I')\n",
    "plt.hist(df.loc[~df['I'], 'likes'].values, density=True, bins=50, alpha=0.5, label='without I');\n",
    "plt.title('Распределение лайков', size=15)\n",
    "plt.xlabel('Кол-во лайков', size=10)\n",
    "plt.ylabel('Кол-во наблюдений', size=10);"
   ]
  },
  {
   "cell_type": "markdown",
   "id": "b9542acd",
   "metadata": {},
   "source": [
    "Да, проблемы есть. Это выбросы. Хвосты на гистограммах оказываются очень длинными. Найдем медианы и средние для числа лайков. "
   ]
  },
  {
   "cell_type": "code",
   "execution_count": 4,
   "id": "68a61899",
   "metadata": {},
   "outputs": [
    {
     "name": "stdout",
     "output_type": "stream",
     "text": [
      "mean number of likes: 2810.76 > median number of likes: 2524\n"
     ]
    }
   ],
   "source": [
    "likes = df['likes'].values\n",
    "mean_likes = df['likes'].mean()\n",
    "median_likes = df['likes'].median()\n",
    "\n",
    "print(f\"mean number of likes: {mean_likes:.2f} > median number of likes: {median_likes:.0f}\")"
   ]
  },
  {
   "cell_type": "markdown",
   "id": "363e8837",
   "metadata": {},
   "source": [
    "Проверим гипотезу о равенстве среднего числа лайков. Используем для этого $z$-тест, основанный на ЦПТ. Дисперсию расчитываем по выборке, используя несмещённую оценку `(ddof=1)`."
   ]
  },
  {
   "cell_type": "markdown",
   "id": "baa82ea0",
   "metadata": {},
   "source": [
    "Гипотеза:\n",
    "\n",
    "$H_0: \\mu_{withI} - \\mu_{withoutI} = 0$\n",
    "\n",
    "$H_a: \\mu_{withI} - \\mu_{withoutI} \\neq 0$\n",
    "\n"
   ]
  },
  {
   "cell_type": "code",
   "execution_count": 5,
   "id": "dfa05f20",
   "metadata": {},
   "outputs": [],
   "source": [
    "alpha = 0.05\n",
    "\n",
    "withI = df.loc[df['I'], 'likes'].values\n",
    "n_withI = withI.size\n",
    "mean_withI = withI.mean()\n",
    "var_withI = withI.var(ddof=1)\n",
    "\n",
    "withoutI = df.loc[~df['I'], 'likes'].values\n",
    "mean_withoutI = withoutI.mean()\n",
    "n_withoutI = withoutI.size\n",
    "var_withoutI = withoutI.var(ddof=1)\n",
    "\n",
    "z_obs = (mean_withI - mean_withoutI - 0) / np.sqrt((var_withI / n_withI) + (var_withoutI / n_withoutI))"
   ]
  },
  {
   "cell_type": "code",
   "execution_count": 6,
   "id": "afffe274",
   "metadata": {},
   "outputs": [
    {
     "name": "stdout",
     "output_type": "stream",
     "text": [
      "Наблюдаемое значение 2.66 больше критического 1.64 (эквивалентно: p-value = 0.01 < 0.05) => \n",
      "=> нулевая гипотеза отвергается\n"
     ]
    }
   ],
   "source": [
    "z_crit = sts.norm.ppf(1 - alpha)\n",
    "pval = 2 * (1 - sts.norm().cdf(np.abs(z_obs)))\n",
    "\n",
    "print(f'''Наблюдаемое значение {z_obs:.2f} больше критического {z_crit:.2f} (эквивалентно: p-value = {pval:.2f} < 0.05) => \n",
    "=> нулевая гипотеза отвергается''')\n"
   ]
  },
  {
   "cell_type": "markdown",
   "id": "0699b431",
   "metadata": {},
   "source": [
    "**Вывод:** нулевую гипотезу о равенстве средних с \"Я\" и без \"Я\" можно отвергнуть. Следовательно, действительно в среднем количество лайков у цитат с Я отличается от количества лайков у цитат без Я. "
   ]
  },
  {
   "cell_type": "markdown",
   "id": "fb72f53a",
   "metadata": {},
   "source": [
    "Можно заметить, что у распределения числа репостов длинные хвосты. В данных есть выбросы, которые завышают среднее значение. Если выбросы сильные, то ЦПТ может ломаться. Из-за этого имеет смысл в данном случае использовать другой критерий. Например, критерий Манна-Уитни.\n"
   ]
  },
  {
   "cell_type": "markdown",
   "id": "d58ebf00",
   "metadata": {},
   "source": [
    "$H_0: f_{withI}(x) = f_{withoutI}(x)$\n",
    "\n",
    "$H_a: f_{withI}(x) = f_{withoutI}(x + \\Delta), \\Delta > 0$"
   ]
  },
  {
   "cell_type": "code",
   "execution_count": 7,
   "id": "47db495f",
   "metadata": {},
   "outputs": [
    {
     "name": "stdout",
     "output_type": "stream",
     "text": [
      "наблюдаемое значение статистики Манна-Уитни: 8604129.50\n",
      "p-value критерия Манна-Уитни: 0.01\n"
     ]
    }
   ],
   "source": [
    "u_obs = sts.mannwhitneyu(withI, withoutI)[0]\n",
    "pvalMW = sts.mannwhitneyu(withI, withoutI)[1]\n",
    "\n",
    "print(f\"наблюдаемое значение статистики Манна-Уитни: {u_obs:.2f}\")\n",
    "print(f\"p-value критерия Манна-Уитни: {pvalMW:.2f}\")\n",
    "\n"
   ]
  },
  {
   "cell_type": "markdown",
   "id": "4d2bcdea",
   "metadata": {},
   "source": [
    "**Вывод:** нулевую гипотезу об отсутствии сдвига распределения количества лайков с \"Я\" и без \"Я\" можно отвергнуть. Следовательно, действительнов в среднем количество лайков у цитат с Я отличается от количества лайков у цитат без Я. Результат тот же, что получился у z-теста, вероятно потому что выбросы присутствовали в обоих выборках, а значит среднее завышалось +- одинаково из-за них. В критерии Манна-Уитни мы сделали предположение об одинаковом распределении выборок, однако этот факт тоже необходимо бы статистически проверить.\n",
    "\n",
    "*Тест М-У очень быстро сходится по вероятности к стандартному нормальному распределению. В самом тесте сравнивается не $U$-статистика, указанная в первой строке выше, а $\\frac{U - E(U)}{\\sqrt{Var(U)}}$ с критическим значением, которая в реализации sts.mannwhitneyu берется из нормального*"
   ]
  },
  {
   "cell_type": "markdown",
   "id": "ec557ac8",
   "metadata": {},
   "source": [
    "Проверим гипотезу о мудрости с помощью бутстрапа"
   ]
  },
  {
   "cell_type": "markdown",
   "id": "0efff14a",
   "metadata": {},
   "source": [
    "Гипотеза:\n",
    "\n",
    "$H_0: Med_{withI}(x) - Med_{withoutI}(x) = 0$\n",
    "\n",
    "$H_a: Med_{withI}(x) - Med_{withoutI}(x) \\neq 0$\n",
    "\n"
   ]
  },
  {
   "cell_type": "code",
   "execution_count": 8,
   "id": "038829cf",
   "metadata": {},
   "outputs": [],
   "source": [
    "def get_bootstrap_sample(x, B=1):\n",
    "    N = x.size\n",
    "    sample = np.random.choice(x, size=(N, B), replace=True)\n",
    "    \n",
    "    if B == 1:\n",
    "        sample = sample.T[0]\n",
    "        \n",
    "    return sample\n",
    "\n",
    "withI_boot = get_bootstrap_sample(withI, B=10000)\n",
    "withoutI_boot = get_bootstrap_sample(withoutI, B=10000)\n",
    "\n",
    "withI_boot_med = np.median(withI_boot, axis=0)\n",
    "withoutI_boot_med = np.median(withoutI_boot, axis=0)"
   ]
  },
  {
   "cell_type": "code",
   "execution_count": 9,
   "id": "421da581",
   "metadata": {},
   "outputs": [
    {
     "name": "stdout",
     "output_type": "stream",
     "text": [
      "95%-ный доверительный интервал: (12.0, 172.0)\n"
     ]
    }
   ],
   "source": [
    "def stat_intervals(boot, alpha=0.05):\n",
    "    left = np.quantile(boot, alpha/2)\n",
    "    right = np.quantile(boot, 1-alpha/2)\n",
    "    return left, right\n",
    "\n",
    "print(f\"95%-ный доверительный интервал: {stat_intervals(withI_boot_med - withoutI_boot_med)}\")"
   ]
  },
  {
   "cell_type": "markdown",
   "id": "802e3905",
   "metadata": {},
   "source": [
    "**Ответ:**\n",
    "\n",
    "Нулевая разница между медианами не принадлежит построенному доверительному интервалу => значит  отличия между медианами лайков с Я и без Я статистически значимы на 5%-м уровне значимости => бутстрап подтведил гипотезу о мудрости цитат с Я\n"
   ]
  }
 ],
 "metadata": {
  "kernelspec": {
   "display_name": "Python 3 (ipykernel)",
   "language": "python",
   "name": "python3"
  },
  "language_info": {
   "codemirror_mode": {
    "name": "ipython",
    "version": 3
   },
   "file_extension": ".py",
   "mimetype": "text/x-python",
   "name": "python",
   "nbconvert_exporter": "python",
   "pygments_lexer": "ipython3",
   "version": "3.9.7"
  },
  "toc": {
   "base_numbering": 1,
   "nav_menu": {},
   "number_sections": true,
   "sideBar": true,
   "skip_h1_title": false,
   "title_cell": "Table of Contents",
   "title_sidebar": "Contents",
   "toc_cell": false,
   "toc_position": {},
   "toc_section_display": true,
   "toc_window_display": false
  }
 },
 "nbformat": 4,
 "nbformat_minor": 5
}
