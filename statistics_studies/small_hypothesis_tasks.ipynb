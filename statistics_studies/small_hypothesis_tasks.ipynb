{
 "cells": [
  {
   "cell_type": "code",
   "execution_count": 1,
   "id": "154ad6fa",
   "metadata": {},
   "outputs": [],
   "source": [
    "import numpy as np\n",
    "import pandas as pd\n",
    "\n",
    "from scipy import stats as sts\n",
    "\n",
    "import seaborn as sns\n",
    "import matplotlib.pyplot as plt\n",
    "\n",
    "plt.style.use('ggplot')\n",
    "%matplotlib inline"
   ]
  },
  {
   "cell_type": "markdown",
   "id": "b4a9c38f",
   "metadata": {},
   "source": [
    "## Задание 1 (рейтинги президентов) \n",
    "\n",
    "В таблице `presidents.csv` представлены рейтинги различных президентов США (интересно, почему не российских). Социальные опросы проводились раз в квартал. Опрашивалась случайная выборка граждан. У каждого спрашивалось одобряет ли он деятельность президента.\n",
    "\n",
    "Ричард Никсон был президентом США с 20 января 1969 года по 9 августа 1974 года. 17 июня 1972 года произошёл Уотергейтский скандал. Давайте проанализируем, что при этом произошло с его рейтингом."
   ]
  },
  {
   "cell_type": "code",
   "execution_count": 2,
   "id": "82891bdd",
   "metadata": {},
   "outputs": [
    {
     "data": {
      "text/html": [
       "<div>\n",
       "<style scoped>\n",
       "    .dataframe tbody tr th:only-of-type {\n",
       "        vertical-align: middle;\n",
       "    }\n",
       "\n",
       "    .dataframe tbody tr th {\n",
       "        vertical-align: top;\n",
       "    }\n",
       "\n",
       "    .dataframe thead th {\n",
       "        text-align: right;\n",
       "    }\n",
       "</style>\n",
       "<table border=\"1\" class=\"dataframe\">\n",
       "  <thead>\n",
       "    <tr style=\"text-align: right;\">\n",
       "      <th></th>\n",
       "      <th>year</th>\n",
       "      <th>Qtr1</th>\n",
       "      <th>Qtr2</th>\n",
       "      <th>Qtr3</th>\n",
       "      <th>Qtr4</th>\n",
       "    </tr>\n",
       "  </thead>\n",
       "  <tbody>\n",
       "    <tr>\n",
       "      <th>0</th>\n",
       "      <td>1945</td>\n",
       "      <td>NaN</td>\n",
       "      <td>87</td>\n",
       "      <td>82.0</td>\n",
       "      <td>75.0</td>\n",
       "    </tr>\n",
       "    <tr>\n",
       "      <th>1</th>\n",
       "      <td>1946</td>\n",
       "      <td>63.0</td>\n",
       "      <td>50</td>\n",
       "      <td>43.0</td>\n",
       "      <td>32.0</td>\n",
       "    </tr>\n",
       "    <tr>\n",
       "      <th>2</th>\n",
       "      <td>1947</td>\n",
       "      <td>35.0</td>\n",
       "      <td>60</td>\n",
       "      <td>54.0</td>\n",
       "      <td>55.0</td>\n",
       "    </tr>\n",
       "    <tr>\n",
       "      <th>3</th>\n",
       "      <td>1948</td>\n",
       "      <td>36.0</td>\n",
       "      <td>39</td>\n",
       "      <td>NaN</td>\n",
       "      <td>NaN</td>\n",
       "    </tr>\n",
       "    <tr>\n",
       "      <th>4</th>\n",
       "      <td>1949</td>\n",
       "      <td>69.0</td>\n",
       "      <td>57</td>\n",
       "      <td>57.0</td>\n",
       "      <td>51.0</td>\n",
       "    </tr>\n",
       "  </tbody>\n",
       "</table>\n",
       "</div>"
      ],
      "text/plain": [
       "   year  Qtr1  Qtr2  Qtr3  Qtr4\n",
       "0  1945   NaN    87  82.0  75.0\n",
       "1  1946  63.0    50  43.0  32.0\n",
       "2  1947  35.0    60  54.0  55.0\n",
       "3  1948  36.0    39   NaN   NaN\n",
       "4  1949  69.0    57  57.0  51.0"
      ]
     },
     "execution_count": 2,
     "metadata": {},
     "output_type": "execute_result"
    }
   ],
   "source": [
    "df = pd.read_csv('data/presidents.csv')\n",
    "df.head()"
   ]
  },
  {
   "cell_type": "markdown",
   "id": "c87d176d",
   "metadata": {},
   "source": [
    "Чтобы привести таблицу к удобному виду используйте функцию `pd.melt`. Вытащите из таблички рейтинг Никсона с 1 квартала 1969 года по 2 квартал 1972 года (включая его). Запишите эти данные в переменную `x`. Рейтинг с 3 квартала 1972 года по 2 квартал 1974 года поместите в переменную `y`. Пропуски в данных удалите из выборки."
   ]
  },
  {
   "cell_type": "code",
   "execution_count": 3,
   "id": "abcb7a68",
   "metadata": {},
   "outputs": [],
   "source": [
    "df1 = pd.melt(df, \n",
    "              id_vars=['year'], \n",
    "              value_vars=['Qtr1', 'Qtr2', 'Qtr3', 'Qtr4'],\n",
    "              value_name='rating',\n",
    "              var_name='quarter').sort_values(['year', 'quarter']).reset_index(drop=True)\n",
    "\n",
    "x = df1.loc[(df1['year'] >= 1969) & \n",
    "                     (df1['year'] <= 1972) & \n",
    "                     (df1['rating'].notna()), 'rating'].values\n",
    "\n",
    "# 1972-Qtr3 и 1972-Qtr4 - пропуски в данных, поэтому просто беру с 1973\n",
    "y = df1.loc[(df1['year'] > 1972) &\n",
    "                     (df1['year'] <= 1974), 'rating'].iloc[:-2].values\n"
   ]
  },
  {
   "cell_type": "markdown",
   "id": "fd439aca",
   "metadata": {},
   "source": [
    "Правда ли, что после скандала средний рейтинг Никсона рухнул? Предполагайте, что рейтинг распределён нормально, а также, что дисперсия рейтинга не изменилась из-за скандала. Наблюдаемое значение статистики запишите в переменную `obs`, в переменную `pval` запишите $p$-значение."
   ]
  },
  {
   "cell_type": "code",
   "execution_count": 4,
   "id": "0a597358",
   "metadata": {},
   "outputs": [
    {
     "name": "stdout",
     "output_type": "stream",
     "text": [
      "p-value: 0.0011\n"
     ]
    }
   ],
   "source": [
    "obs = sts.ttest_ind(x, y, alternative='greater')[0]\n",
    "pval = sts.ttest_ind(x, y, alternative='greater')[1]\n",
    "print(f\"p-value: {pval:.4f}\")"
   ]
  },
  {
   "cell_type": "markdown",
   "id": "5eb8fd45",
   "metadata": {},
   "source": [
    "**Почему вы выбрали именно этот критерий для проверки гипотезы? Какие выводы вы сделали?**\n",
    "\n",
    "**Ответ:** \n",
    "\n",
    "* Выборки независимы (опрашиваем каждый раз случайных граждан)\n",
    "* Дисперсии равны, но неизвестны\n",
    "* Нормальность распределения X и Y: $N(μ_x, σ^2), N(μ_y, σ^2)$\n",
    "\n",
    "Поэтому я выбрал тест Стюдента о разности средних.\n",
    "\n",
    "Гипотезы следующие: \n",
    "\n",
    "$H_0: μ_x - μ_y = 0$\n",
    "\n",
    "$H_a: μ_x - μ_y > 0$\n",
    "\n",
    "Правосторонняя критическая область, значение p-value = 0.0011. На 5% уровне значимости можно отвергнуть нулевую гипотезу и сделать вывод, что ДА - средний рейтинг Никсона упал после скандала."
   ]
  },
  {
   "cell_type": "markdown",
   "id": "3ead1a50",
   "metadata": {},
   "source": [
    "## Задание 2 (доктор сон)\n",
    "\n",
    "Проводится эксперимент о пользе нового снотворного. Для его проведения используется группа из $10$ студентов. В первый день каждый из них ложится спать. На утро измеряется, сколько он проспал. Из результата вычитают $8$ (нормальное число часов сна). На второй день каждому дают таблетку. Утром снова измеряют, сколько человек проспал, и вычитают $8$. Результаты эксперимента записаны в табличку `sleep.csv`."
   ]
  },
  {
   "cell_type": "code",
   "execution_count": 6,
   "id": "e6be5698",
   "metadata": {},
   "outputs": [
    {
     "data": {
      "text/html": [
       "<div>\n",
       "<style scoped>\n",
       "    .dataframe tbody tr th:only-of-type {\n",
       "        vertical-align: middle;\n",
       "    }\n",
       "\n",
       "    .dataframe tbody tr th {\n",
       "        vertical-align: top;\n",
       "    }\n",
       "\n",
       "    .dataframe thead th {\n",
       "        text-align: right;\n",
       "    }\n",
       "</style>\n",
       "<table border=\"1\" class=\"dataframe\">\n",
       "  <thead>\n",
       "    <tr style=\"text-align: right;\">\n",
       "      <th></th>\n",
       "      <th>extra</th>\n",
       "      <th>group</th>\n",
       "      <th>ID</th>\n",
       "    </tr>\n",
       "  </thead>\n",
       "  <tbody>\n",
       "    <tr>\n",
       "      <th>0</th>\n",
       "      <td>0.7</td>\n",
       "      <td>1</td>\n",
       "      <td>1</td>\n",
       "    </tr>\n",
       "    <tr>\n",
       "      <th>1</th>\n",
       "      <td>-1.6</td>\n",
       "      <td>1</td>\n",
       "      <td>2</td>\n",
       "    </tr>\n",
       "    <tr>\n",
       "      <th>2</th>\n",
       "      <td>-0.2</td>\n",
       "      <td>1</td>\n",
       "      <td>3</td>\n",
       "    </tr>\n",
       "    <tr>\n",
       "      <th>3</th>\n",
       "      <td>-1.2</td>\n",
       "      <td>1</td>\n",
       "      <td>4</td>\n",
       "    </tr>\n",
       "    <tr>\n",
       "      <th>4</th>\n",
       "      <td>-0.1</td>\n",
       "      <td>1</td>\n",
       "      <td>5</td>\n",
       "    </tr>\n",
       "  </tbody>\n",
       "</table>\n",
       "</div>"
      ],
      "text/plain": [
       "   extra  group  ID\n",
       "0    0.7      1   1\n",
       "1   -1.6      1   2\n",
       "2   -0.2      1   3\n",
       "3   -1.2      1   4\n",
       "4   -0.1      1   5"
      ]
     },
     "execution_count": 6,
     "metadata": {},
     "output_type": "execute_result"
    }
   ],
   "source": [
    "df = pd.read_csv('data/sleep.csv')\n",
    "df.head()"
   ]
  },
  {
   "cell_type": "markdown",
   "id": "563eb4c7",
   "metadata": {},
   "source": [
    "Правда ли, что сон студентов до приёма снотворного не отличается от нормы (отклонение от 8 часов равно нулю). Проверьте эту гипотезу на $5\\%$ уровне значимости, в переменную `pval1` запишите p-значение. "
   ]
  },
  {
   "cell_type": "code",
   "execution_count": 7,
   "id": "77ef90e5",
   "metadata": {},
   "outputs": [
    {
     "name": "stdout",
     "output_type": "stream",
     "text": [
      "p-value: 0.2176\n"
     ]
    }
   ],
   "source": [
    "x_before = df.loc[df['group'] == 1, 'extra'].values\n",
    "\n",
    "tobs1 = sts.ttest_1samp(x_before, 0)[0]\n",
    "pval1 = sts.ttest_1samp(x_before, 0)[1]\n",
    "\n",
    "print(f\"p-value: {pval1:.4f}\")"
   ]
  },
  {
   "cell_type": "markdown",
   "id": "84bae0e9",
   "metadata": {},
   "source": [
    "**Ответ:**\n",
    "\n",
    "$H_0: μ_{before} = 0$\n",
    "\n",
    "$H_a: μ_{before} \\neq 0$\n",
    "\n",
    ", где $μ_{before}$ - отклонение от нормы до приема снотворного. p-value > 0.05 => нулевую гипотезу не отвергаем, т.е. сон студентов до приема лекарства не отличался от нормы\n"
   ]
  },
  {
   "cell_type": "markdown",
   "id": "b979e7e1",
   "metadata": {},
   "source": [
    "Правда ли, что благодаря таблеткам студенты стали спать больше (односторонняя альтернатива)? Запишите в переменную `pval2` соотвествующее p-значение. "
   ]
  },
  {
   "cell_type": "code",
   "execution_count": 8,
   "id": "dea8f470",
   "metadata": {},
   "outputs": [
    {
     "name": "stdout",
     "output_type": "stream",
     "text": [
      "p-value: 0.0014\n"
     ]
    }
   ],
   "source": [
    "x_after = df.loc[df['group'] == 2, 'extra'].values\n",
    "d = x_after - x_before\n",
    "\n",
    "tobs2 = sts.ttest_1samp(d, 0, alternative='greater')[0]\n",
    "pval2 = sts.ttest_1samp(d, 0, alternative='greater')[1]\n",
    "\n",
    "print(f\"p-value: {pval2:.4f}\")"
   ]
  },
  {
   "cell_type": "markdown",
   "id": "20d4a20f",
   "metadata": {},
   "source": [
    "**Почему вы выбрали именно этот критерий для проверки гипотезы? Какие выводы вы сделали?**\n",
    "\n",
    "**Ответ:** \n",
    "\n",
    "Использовал критерий Стьюдента для разницы мат. ожиданий в двух связанных выборках. Кажется, что реакция испытуемых до и после - являются связанными наблюдениями + испытуемые не менялись, поэтому выборки зависимы. Также дисперсия ген. совокупности (т.е. дисперсия всех реакций на препарат) неизестна, поэтому используем критерий Стьюдента.\n",
    "\n",
    "$d = x_{after} - x_{before}$ \n",
    "\n",
    "$H_0: d = 0$\n",
    "\n",
    "$H_a: d \\neq 0$\n",
    "\n",
    "Полученное p-value < 0.05 => нужно отвергнуть нулевую гипотезу и сделать вывод, что благодаря таблеткам действительно наблюдается увеличение длительности сна у студентов"
   ]
  },
  {
   "cell_type": "markdown",
   "id": "bd399171",
   "metadata": {},
   "source": [
    "## Задание 3 (мыши и зеркало)\n",
    "\n",
    "$16$ лабораторных мышей были помещены в двухкомнатные клетки, в одной из комнат висело зеркало. С целью установить, есть ли у мышей какие-то предпочтения насчет зеркал, измерялась доля времени, которое каждая мышь проводила в каждой из своих двух клеток.\n",
    "\n",
    "![](https://ars.els-cdn.com/content/image/1-s2.0-S0168159104000061-gr1.gif)\n",
    "\n",
    "В файле `mouses_mirror.txt` лежит информация о том, какую долю времени мышка проводила в клетке с зеркалом. "
   ]
  },
  {
   "cell_type": "code",
   "execution_count": 19,
   "id": "8796d379",
   "metadata": {},
   "outputs": [
    {
     "data": {
      "image/png": "[encoded data removed]",
      "text/plain": [
       "<Figure size 432x288 with 1 Axes>"
      ]
     },
     "metadata": {
      "needs_background": "light"
     },
     "output_type": "display_data"
    }
   ],
   "source": [
    "x = pd.read_csv('data/mouses_mirror.txt', header = None)[0].values\n",
    "plt.hist(x, density=True);"
   ]
  },
  {
   "cell_type": "markdown",
   "id": "a6e7a678",
   "metadata": {},
   "source": [
    "Проверьте гипотезу о том, что мышкам безразлично в какой комнате проводить время с помощью критерия знаков. Сформулируйте нулевую гипотезу, перечислите основные особенности этого критерия. Запишите в переменную `pvalue_1` получившееся в результате этого $p$-значение. "
   ]
  },
  {
   "cell_type": "markdown",
   "id": "c5c46ab6",
   "metadata": {},
   "source": [
    "Гипотеза:\n",
    "\n",
    "$H_0: Med(x) = 0.5$\n",
    "\n",
    "$H_a: Med(x) \\neq 0.5$\n",
    "\n",
    "Т.к. у нас доли времени, то нужно проверить гипотезу, что мышь проводила ровно половину времени в комнате с зеркалом. Особенность непараметрических критериев в том, что мы отказываемся от предположений о виде распределения времени в комнатах мышей, что позволяет лояльнее относится к выбросам, т.к. на вид распределения они повлиять не могут. Особенность критерия знаков в том, что мы превращаем выборку в 0 и 1, из-за чего выборка становится распределена биномиально и благодаря биномиальному распределению мы можем проверять гипотезы о параметрах. Проблема критерия в том, что теряется часть информации из наблюдений, потому что разметка налюдений на 0 и 1 не отражает насколько сильно отклонились от параметра наблюдаемые значения, а значит этот тест подойдет не в любой ситуации, но в ситуации когда точность измерений низкая тест подходит"
   ]
  },
  {
   "cell_type": "code",
   "execution_count": 20,
   "id": "922a754d",
   "metadata": {},
   "outputs": [
    {
     "data": {
      "text/plain": [
       "0.021270751953125"
      ]
     },
     "execution_count": 20,
     "metadata": {},
     "output_type": "execute_result"
    }
   ],
   "source": [
    "from statsmodels.stats.descriptivestats import sign_test\n",
    "pvalue_1 = sign_test(x, mu0=0.5)[1]\n",
    "pvalue_1"
   ]
  },
  {
   "cell_type": "markdown",
   "id": "9dcc265d",
   "metadata": {},
   "source": [
    "p-value оказался меньше 0.05 => можно отвергнуть нулевую гипотезу => по данном критерию мышам есть дело, в какой комнате проводить время"
   ]
  },
  {
   "cell_type": "markdown",
   "id": "a696207c",
   "metadata": {},
   "source": [
    "Проверьте гипотезу о том, что мышкам безразлично в какой комнате проводить время с помощью теста Вилкоксона. Сформулируйте нулевую гипотезу, перечислите основные особенности этого критерия.  Запишите в переменную `pvalue_2` получившееся в результате этого $p$-значение. "
   ]
  },
  {
   "cell_type": "markdown",
   "id": "0eabaf5f",
   "metadata": {},
   "source": [
    "Гипотеза:\n",
    "\n",
    "$H_0: Med(x) = 0.5$\n",
    "\n",
    "$H_a: Med(x) \\neq 0.5$\n",
    "\n",
    "Это также непараметрический криетрий, который отказывается от предпосылок о виде распределения. Особенность его в том, что он работает для связанных выборок и является ранговым, т.е. упорядочивает выборку и присваивает каждому наблюдению ранг (порядковый номер). Эти сдвиги суммируются и домножаются на знак (т.е. на направление изменений по сравнению со сравниваемым $\\mu_{0}$) - так получается W-критерий Уилкоксона. Таким образом, сопоставляются абсолютные величины выраженности сдвигов в том или ином направлении. Если сдвиги имеют случайный характер, то суммы рангов окажутся примерно равны, а W будет близко к 0. Если же сдвиги имеют большую направленность в одну из сторон, то тогда сможем увидеть перекос в одну из сторон по направлению изменений.\n",
    "\n",
    "Еще из особенностей: данный критерий лучше всего применять к небольшим выборкам, т.к. асимптотически W-критерий будет сходится к нормальному распределению, а значит там уже будут более применимы z-тесты"
   ]
  },
  {
   "cell_type": "code",
   "execution_count": 21,
   "id": "49371478",
   "metadata": {},
   "outputs": [
    {
     "data": {
      "text/plain": [
       "0.09344482421875"
      ]
     },
     "execution_count": 21,
     "metadata": {},
     "output_type": "execute_result"
    }
   ],
   "source": [
    "pvalue_2 = sts.wilcoxon(x - 0.5)[1] \n",
    "pvalue_2"
   ]
  },
  {
   "cell_type": "markdown",
   "id": "195c3f35",
   "metadata": {},
   "source": [
    "p-value > 0.05 => не отвергаем нудевую гипотезу => мышам скорее всего нет дела, есть ли в их комнате зеркало или нет"
   ]
  },
  {
   "cell_type": "markdown",
   "id": "c86523d5",
   "metadata": {},
   "source": [
    "Проверьте гипотезу о том, что мышкам безразлично в какой комнате проводить время с помощью асимптотического $z$-теста. Сформулируйте нулевую гипотезу, перечислите основные особенности этого критерия.  Запишите в переменную `pvalue_3` получившееся в результате этого $p$-значение. "
   ]
  },
  {
   "cell_type": "markdown",
   "id": "82ef9cd6",
   "metadata": {},
   "source": [
    "Гипотеза:\n",
    "\n",
    "$H_0: \\mu_{x} = 0.5$\n",
    "\n",
    "$H_a: \\mu_{x} \\neq 0.5$\n",
    "\n",
    "Данный критерий является параметрическим и для его применения необходимо, чтобы исходные данные имели нормальное распределение, а также была известна дисперсия генеральной совокупности. Критерий уже лучше работает со средним, а не медианой, но и становится более чувствителен к выбросам"
   ]
  },
  {
   "cell_type": "code",
   "execution_count": 22,
   "id": "1a1a6be6",
   "metadata": {},
   "outputs": [
    {
     "name": "stdout",
     "output_type": "stream",
     "text": [
      "0.13460721078205806\n"
     ]
    },
    {
     "data": {
      "text/plain": [
       "(-0.05708216782644818, 0.00765995532644817)"
      ]
     },
     "execution_count": 22,
     "metadata": {},
     "output_type": "execute_result"
    }
   ],
   "source": [
    "from statsmodels.stats.weightstats import ztest, zconfint\n",
    "\n",
    "pvalue_3 = ztest(x, value=0.5)[1]\n",
    "\n",
    "print(pvalue_3)\n",
    "zconfint(x, value=0.5)"
   ]
  },
  {
   "cell_type": "markdown",
   "id": "13b27ac4",
   "metadata": {},
   "source": [
    "Объясните, почему `pvalue` от теста к тесту ведёт себя именно так. Подробнее про опыт с мышками читайте [в оригинальном исследовании.](https://www.sciencedirect.com/science/article/abs/pii/S0168159104000061)\n",
    "\n",
    "__Ответ:__ Разные предпосылки, разные ограничения/особенности критериев, разные результаты. Если нам не важна информация о том, сколько конкретно мышь провела в другой комнате, а важно проверить, что именно неравное количество времени в разных комнатах, тогда можно воспользоваться критерием знаков и понять, что да, действительно разное. Но насколько это разница велика, данный критерий не оценит, т.к. этой информацией он принебрегает. Тест Уилкоксона уже лучше оценит разницу, т.к. ставит не просто знак наблюдению, а оценивает его, т.е. насколько он больше/меньше других наблюдений, давая ему ранг. Поэтому по нему мы делаем вывод, что разницы между временами нет на 5%-м уровне значимости. Z-тест использует предпосылки нормального распределения и лучше всего работает с большим количеством данных. На него я бы наверное особо не ориентировался в принципе в данном эксперименте. \n",
    "\n",
    "Поэтому если нас интересует есть ли хоть какая-то разница во времени в комнатах - тест знаков ответит да.\n",
    "\n",
    "Если нас интересует насколько это разница большая - пользуемся тестом Уилкоксона и понимаем, что это разница недалеко ушла от разделения 50/50 между комнатами\n",
    "\n",
    "А для z-теста набираем больше мышей"
   ]
  }
 ],
 "metadata": {
  "kernelspec": {
   "display_name": "Python 3 (ipykernel)",
   "language": "python",
   "name": "python3"
  },
  "language_info": {
   "codemirror_mode": {
    "name": "ipython",
    "version": 3
   },
   "file_extension": ".py",
   "mimetype": "text/x-python",
   "name": "python",
   "nbconvert_exporter": "python",
   "pygments_lexer": "ipython3",
   "version": "3.9.7"
  },
  "toc": {
   "base_numbering": 1,
   "nav_menu": {},
   "number_sections": true,
   "sideBar": true,
   "skip_h1_title": false,
   "title_cell": "Table of Contents",
   "title_sidebar": "Contents",
   "toc_cell": false,
   "toc_position": {},
   "toc_section_display": true,
   "toc_window_display": false
  }
 },
 "nbformat": 4,
 "nbformat_minor": 5
}
