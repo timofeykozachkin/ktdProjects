{
 "cells": [
  {
   "cell_type": "markdown",
   "metadata": {},
   "source": [
    "# Результаты A-B теста\n",
    "\n",
    "В данном задании буду изучать АБ тест, проведенный на реальных пользователях Яндекса.\n",
    "\n",
    "### Описание данных:\n",
    "\n",
    "* `userID` — уникальный идентификатор пользователя\n",
    "* `browser` — браузер, который использовал userID\n",
    "* `slot` — в каком статусе пользователь участвовал в исследовании (exp = видел измененную страницу, control = видел неизменную страницу)\n",
    "* `n_clicks` — количество кликов, которые пользоваль совершил за n_queries\n",
    "* `n_queries` — количество запросов, который совершил userID, пользуясь браузером browser\n",
    "* `n_nonclk_queries` — количество запросов пользователя, в которых им не было совершено ни одного клика\n"
   ]
  },
  {
   "cell_type": "code",
   "execution_count": 1,
   "metadata": {},
   "outputs": [],
   "source": [
    "import numpy as np\n",
    "import pandas as pd\n",
    "from scipy import stats as sts\n",
    "import seaborn as sns\n",
    "import matplotlib.pyplot as plt\n",
    "plt.style.use('ggplot')\n",
    "%matplotlib inline"
   ]
  },
  {
   "cell_type": "code",
   "execution_count": 2,
   "metadata": {},
   "outputs": [
    {
     "name": "stdout",
     "output_type": "stream",
     "text": [
      "(566134, 8)\n"
     ]
    },
    {
     "data": {
      "text/html": [
       "<div>\n",
       "<style scoped>\n",
       "    .dataframe tbody tr th:only-of-type {\n",
       "        vertical-align: middle;\n",
       "    }\n",
       "\n",
       "    .dataframe tbody tr th {\n",
       "        vertical-align: top;\n",
       "    }\n",
       "\n",
       "    .dataframe thead th {\n",
       "        text-align: right;\n",
       "    }\n",
       "</style>\n",
       "<table border=\"1\" class=\"dataframe\">\n",
       "  <thead>\n",
       "    <tr style=\"text-align: right;\">\n",
       "      <th></th>\n",
       "      <th>userID</th>\n",
       "      <th>browser</th>\n",
       "      <th>slot</th>\n",
       "      <th>n_clicks</th>\n",
       "      <th>n_queries</th>\n",
       "      <th>n_nonclk_queries</th>\n",
       "      <th>click_per_queries</th>\n",
       "      <th>empty_query_share</th>\n",
       "    </tr>\n",
       "  </thead>\n",
       "  <tbody>\n",
       "    <tr>\n",
       "      <th>0</th>\n",
       "      <td>1</td>\n",
       "      <td>Browser #2</td>\n",
       "      <td>exp</td>\n",
       "      <td>23</td>\n",
       "      <td>32</td>\n",
       "      <td>19</td>\n",
       "      <td>0.718750</td>\n",
       "      <td>0.593750</td>\n",
       "    </tr>\n",
       "    <tr>\n",
       "      <th>1</th>\n",
       "      <td>3</td>\n",
       "      <td>Browser #4</td>\n",
       "      <td>exp</td>\n",
       "      <td>3</td>\n",
       "      <td>4</td>\n",
       "      <td>2</td>\n",
       "      <td>0.750000</td>\n",
       "      <td>0.500000</td>\n",
       "    </tr>\n",
       "    <tr>\n",
       "      <th>2</th>\n",
       "      <td>5</td>\n",
       "      <td>Browser #4</td>\n",
       "      <td>exp</td>\n",
       "      <td>29</td>\n",
       "      <td>35</td>\n",
       "      <td>16</td>\n",
       "      <td>0.828571</td>\n",
       "      <td>0.457143</td>\n",
       "    </tr>\n",
       "    <tr>\n",
       "      <th>3</th>\n",
       "      <td>6</td>\n",
       "      <td>Browser #4</td>\n",
       "      <td>control</td>\n",
       "      <td>12</td>\n",
       "      <td>6</td>\n",
       "      <td>0</td>\n",
       "      <td>2.000000</td>\n",
       "      <td>0.000000</td>\n",
       "    </tr>\n",
       "    <tr>\n",
       "      <th>4</th>\n",
       "      <td>7</td>\n",
       "      <td>Browser #4</td>\n",
       "      <td>exp</td>\n",
       "      <td>54</td>\n",
       "      <td>68</td>\n",
       "      <td>30</td>\n",
       "      <td>0.794118</td>\n",
       "      <td>0.441176</td>\n",
       "    </tr>\n",
       "  </tbody>\n",
       "</table>\n",
       "</div>"
      ],
      "text/plain": [
       "   userID     browser     slot  n_clicks  n_queries  n_nonclk_queries  \\\n",
       "0       1  Browser #2      exp        23         32                19   \n",
       "1       3  Browser #4      exp         3          4                 2   \n",
       "2       5  Browser #4      exp        29         35                16   \n",
       "3       6  Browser #4  control        12          6                 0   \n",
       "4       7  Browser #4      exp        54         68                30   \n",
       "\n",
       "   click_per_queries  empty_query_share  \n",
       "0           0.718750           0.593750  \n",
       "1           0.750000           0.500000  \n",
       "2           0.828571           0.457143  \n",
       "3           2.000000           0.000000  \n",
       "4           0.794118           0.441176  "
      ]
     },
     "execution_count": 2,
     "metadata": {},
     "output_type": "execute_result"
    }
   ],
   "source": [
    "df = pd.read_csv('data/ab_browser_test.csv',sep=',')\n",
    "\n",
    "df['click_per_queries'] = df['n_clicks']/df['n_queries']\n",
    "df['empty_query_share'] = df['n_nonclk_queries']/df['n_queries']\n",
    "\n",
    "print(df.shape)\n",
    "df.head()"
   ]
  },
  {
   "cell_type": "markdown",
   "metadata": {},
   "source": [
    "Будем работать с числом кликов на количество пользовательских сессий. \n",
    "\n",
    "> Вообще, это ratio-метрика. Из-за этого у неё будут довольно тяжёлые хвосты. Мы увидим это ниже в пункте про бутстрэп. И к ней нужен особый подход. Пока что будем это игнорировать. В целом, можно откатиться к кликам и работать с их средним, но методологически правильнее отнормировать их на число сессий."
   ]
  },
  {
   "cell_type": "markdown",
   "metadata": {},
   "source": [
    "Насколько в группе exp больше пользовательских кликов по сравнению с группой control в процентах от числа кликов в контрольной группе:"
   ]
  },
  {
   "cell_type": "code",
   "execution_count": 3,
   "metadata": {},
   "outputs": [
    {
     "name": "stdout",
     "output_type": "stream",
     "text": [
      "Число кликов у экспериментальной группы на 1.61% больше, чем у контрольной\n",
      "Число кликов на кол-во пользовательских сессий у экспериментальной группы на 6.37% больше, чем у контрольной\n"
     ]
    }
   ],
   "source": [
    "exp = df.loc[df['slot'] == 'exp', 'n_clicks'].sum() \n",
    "control = df.loc[df['slot'] == 'control', 'n_clicks'].sum()\n",
    "print(f\"Число кликов у экспериментальной группы на {(exp-control)/control * 100:.2f}% больше, чем у контрольной\")\n",
    "\n",
    "# дальшеработать буду с этим\n",
    "exp = df.loc[df['slot'] == 'exp', 'click_per_queries']\n",
    "control = df.loc[df['slot'] == 'control', 'click_per_queries']\n",
    "print(f\"Число кликов на кол-во пользовательских сессий у экспериментальной группы на {(exp.sum()-control.sum())/control.sum() * 100:.2f}% больше, чем у контрольной\")\n"
   ]
  },
  {
   "cell_type": "markdown",
   "metadata": {},
   "source": [
    "Поскольку данных достаточно много (порядка полумиллиона уникальных пользователей), отличие в несколько процентов может быть не только практически значимым, но и значимым статистически. Последнее утверждение нуждается в дополнительной проверке."
   ]
  },
  {
   "cell_type": "markdown",
   "metadata": {},
   "source": [
    "## Часть 1: анализ АБ-теста"
   ]
  },
  {
   "cell_type": "markdown",
   "metadata": {},
   "source": [
    "Посмотрим на клики в наших пользовательских сессиях. "
   ]
  },
  {
   "cell_type": "markdown",
   "metadata": {},
   "source": [
    "**Ответы:**\n",
    "\n",
    "- Выбросы есть, видно по boxplot и длинному хвосту на гистограмме\n",
    "- Похоже, что полученные выборки пришли из одного распределения, т.к. гистограммы распределений очень похожи. Квантили распределения имеют похожие границы, при этом по медиане (50% персентиле) виден сдвиг у экспериментальной группы в сравнении с контрольной\n",
    "- Какие тесты можно использовать - точно непараметрические, чтобы не делать спорных предположений о виде распределения (Манна-Уитни, т.к. распределения похожи и можно проверить сдвиг, Уилкоксона). Возможно параметрические тесты можно попробовать, но точно нужно делать предобработку данных (смотреть на влияние выбросов, возможно данные стандартизировать, проводить какие-либо действия с ними) "
   ]
  },
  {
   "cell_type": "code",
   "execution_count": 4,
   "metadata": {},
   "outputs": [
    {
     "data": {
      "image/png": "[encoded data removed]",
      "text/plain": [
       "<Figure size 432x288 with 1 Axes>"
      ]
     },
     "metadata": {
      "needs_background": "light"
     },
     "output_type": "display_data"
    }
   ],
   "source": [
    "plt.boxplot([exp, control], labels=['exp', 'control'])\n",
    "plt.title('Box-plot кликов на сессию', size=15);"
   ]
  },
  {
   "cell_type": "code",
   "execution_count": 5,
   "metadata": {},
   "outputs": [
    {
     "data": {
      "image/png": "[encoded data removed]",
      "text/plain": [
       "<Figure size 720x360 with 1 Axes>"
      ]
     },
     "metadata": {
      "needs_background": "light"
     },
     "output_type": "display_data"
    }
   ],
   "source": [
    "plt.figure(figsize=(10, 5))\n",
    "plt.hist(exp, density=True, bins=100, alpha=0.5, label='exp')\n",
    "plt.hist(control, density=True, bins=100, alpha=0.5, label='control')\n",
    "plt.title('Распределение кликов на сессию', size=15)\n",
    "plt.xlabel('Кол-во кликов', size=10)\n",
    "plt.ylabel('Кол-во наблюдений', size=10)\n",
    "plt.legend();"
   ]
  },
  {
   "cell_type": "code",
   "execution_count": 6,
   "metadata": {},
   "outputs": [
    {
     "data": {
      "image/png": "[encoded data removed]",
      "text/plain": [
       "<Figure size 720x360 with 1 Axes>"
      ]
     },
     "metadata": {
      "needs_background": "light"
     },
     "output_type": "display_data"
    }
   ],
   "source": [
    "plt.figure(figsize=(10, 5))\n",
    "plt.hist(exp[exp > 0].apply(lambda x: np.log(x)), density=True, bins=50, alpha=0.5, label='exp')\n",
    "plt.hist(control[control > 0].apply(lambda x: np.log(x)), density=True, bins=50, alpha=0.5, label='control')\n",
    "plt.title('Прологарифмированное распределение кликов на сессию', size=15)\n",
    "plt.xlabel('Кол-во кликов', size=10)\n",
    "plt.ylabel('Кол-во наблюдений', size=10)\n",
    "plt.legend();"
   ]
  },
  {
   "cell_type": "code",
   "execution_count": 7,
   "metadata": {},
   "outputs": [
    {
     "name": "stdout",
     "output_type": "stream",
     "text": [
      "1-й квантиль - exp: 0.0000, control: 0.0000\n",
      "2-й квантиль - exp: 0.4000, control: 0.3000\n",
      "3-й квантиль - exp: 0.6000, control: 0.5000\n",
      "4-й квантиль - exp: 0.8000, control: 0.7059\n",
      "5-й квантиль - exp: 1.0000, control: 0.9231\n",
      "6-й квантиль - exp: 1.0000, control: 1.0000\n",
      "7-й квантиль - exp: 1.2353, control: 1.1429\n",
      "8-й квантиль - exp: 1.5238, control: 1.5000\n",
      "9-й квантиль - exp: 2.0000, control: 2.0000\n",
      "10-й квантиль - exp: 52.0000, control: 60.0000\n"
     ]
    }
   ],
   "source": [
    "exp_quantiles = []\n",
    "control_quantiles = []\n",
    "\n",
    "for i in np.arange(0.1, 1.1, 0.1):\n",
    "    exp_quantiles.append(exp.quantile(i))\n",
    "    control_quantiles.append(control.quantile(i))\n",
    "    \n",
    "for i in range(len(exp_quantiles)):\n",
    "    print(f\"{i+1}-й квантиль - exp: {exp_quantiles[i]:.4f}, control: {control_quantiles[i]:.4f}\")"
   ]
  },
  {
   "cell_type": "code",
   "execution_count": 8,
   "metadata": {},
   "outputs": [
    {
     "data": {
      "image/png": "[encoded data removed]",
      "text/plain": [
       "<Figure size 720x360 with 1 Axes>"
      ]
     },
     "metadata": {
      "needs_background": "light"
     },
     "output_type": "display_data"
    }
   ],
   "source": [
    "plt.figure(figsize=(10, 5))\n",
    "plt.hist(exp[exp <= 5], density=True, bins=50, alpha=0.5, label='exp')\n",
    "plt.hist(control[control <= 5], density=True, bins=50, alpha=0.5, label='control')\n",
    "plt.title('Распределение кликов на сессию ( <5 )', size=15)\n",
    "plt.xlabel('Кол-во кликов', size=10)\n",
    "plt.ylabel('Кол-во наблюдений', size=10)\n",
    "for line in exp_quantiles[:-1]:\n",
    "    plt.axvline(line, alpha=0.8, ls='dotted')\n",
    "for line in control_quantiles[:-1]:\n",
    "    plt.axvline(line, alpha=0.8, color='orange', ls='dotted')\n",
    "\n",
    "plt.legend();"
   ]
  },
  {
   "cell_type": "markdown",
   "metadata": {},
   "source": [
    "$z$-тест нам не подходит из-за выбросов. Однако, мы не можем наверняка знать, насколько серьёзное влияние эти выбросы оказали на ЦПТ и сломали ли они её. Если посчитать по выброкам средние и медианы, они окажутся очень похожими.\n",
    "\n",
    "Проведем бутстрап на контрольной группе, т.к. мы не знаем истинного распределения генеральной совокупности. Поймем, как распределена z-статистика и сравним её распределение с нормальным. \n",
    "\n",
    "Поскольку мы знаем, что $\\text{Var}(\\bar X_n) = \\frac{\\sigma^2}{n}$, нам не надо будет делать бутстрэп в бутстрэпе.\n",
    "\n",
    "1. Получаем из данных `n_boot_samples` псевдовыборок,\n",
    "2. По каждой из этих выборок посчитаем среднее и его дисперсию,\n",
    "3. Рассчитаем значение $z$-статистики,\n",
    "4. Для получившегося вектора из $z$-статистик построим `qq-plot` с помощью ` scipy.stats.probplot` для нормального распределения.\n"
   ]
  },
  {
   "cell_type": "code",
   "execution_count": 9,
   "metadata": {},
   "outputs": [
    {
     "data": {
      "image/png": "[encoded data removed]",
      "text/plain": [
       "<Figure size 432x288 with 1 Axes>"
      ]
     },
     "metadata": {
      "needs_background": "light"
     },
     "output_type": "display_data"
    }
   ],
   "source": [
    "n_boot_samples = 500\n",
    "\n",
    "def get_bootstrap_sample(x, B=1):\n",
    "    N = x.size\n",
    "    sample = np.random.choice(x, size=(N, B), replace=True)\n",
    "    if B == 1:\n",
    "        sample = sample.T[0]\n",
    "    return sample\n",
    "\n",
    "boot_samples = get_bootstrap_sample(control, B=n_boot_samples)\n",
    "\n",
    "boot_samples_mean = np.mean(boot_samples, axis=0)\n",
    "boot_samples_var = np.var(boot_samples, axis=0)\n",
    "\n",
    "z_stats = (boot_samples_mean - control.mean()) / np.sqrt(boot_samples_var)\n",
    "sts.probplot(z_stats, plot=plt);"
   ]
  },
  {
   "cell_type": "markdown",
   "metadata": {},
   "source": [
    "*Получилось распределение с хвостами более тяжелыми, чем у нормального распределения. Вероятно, выбросы продолжают оказывать свое влияние и, попадая в бутстрапированные выборки, немного отклоняют распределение от нормального*"
   ]
  },
  {
   "cell_type": "markdown",
   "metadata": {},
   "source": [
    "Не очень хорошо, но все-таки ради интереса проверим гипотезу о равенстве средних между группами с помощью $z-$теста на уровне значимости $1\\%$."
   ]
  },
  {
   "cell_type": "markdown",
   "metadata": {},
   "source": [
    "Гипотеза:\n",
    "\n",
    "$H_0: \\mu_{exp} - \\mu_{control} = 0$\n",
    "\n",
    "$H_a: \\mu_{exp} - \\mu_{control} \\neq 0$\n",
    "\n"
   ]
  },
  {
   "cell_type": "code",
   "execution_count": 10,
   "metadata": {},
   "outputs": [
    {
     "name": "stdout",
     "output_type": "stream",
     "text": [
      "Наблюдаемое значение 27.56 больше критического 2.33 (эквивалентно: p-value = 0.00 < 0.01) => \n",
      "=> нулевая гипотеза отвергается на 1% уровне значимости\n"
     ]
    }
   ],
   "source": [
    "alpha = 0.01\n",
    "mean_control = control.mean()\n",
    "mean_exp = exp.mean()\n",
    "var_control = control.var(ddof=1)\n",
    "var_exp = exp.var(ddof=1)\n",
    "\n",
    "z_obs = (mean_exp - mean_control - 0) / np.sqrt((var_control / control.size) + (var_exp / exp.size))\n",
    "\n",
    "z_crit = sts.norm.ppf(1 - alpha)\n",
    "pval = 2 * (1 - sts.norm().cdf(np.abs(z_obs)))\n",
    "\n",
    "print(f'''Наблюдаемое значение {z_obs:.2f} больше критического {z_crit:.2f} (эквивалентно: p-value = {pval:.2f} < 0.01) => \n",
    "=> нулевая гипотеза отвергается на 1% уровне значимости''')\n"
   ]
  },
  {
   "cell_type": "code",
   "execution_count": 11,
   "metadata": {},
   "outputs": [
    {
     "name": "stdout",
     "output_type": "stream",
     "text": [
      "Наблюдаемое значение 27.56 больше критического 2.33 (эквивалентно: p-value = 0.00 < 0.01) => \n",
      "=> нулевая гипотеза отвергается на 1% уровне значимости\n"
     ]
    }
   ],
   "source": [
    "# На всякий - проверка себя через statsmodels\n",
    "from statsmodels.stats.weightstats import ztest\n",
    "\n",
    "print(f'''Наблюдаемое значение {ztest(exp, control)[0]:.2f} больше критического {z_crit:.2f} (эквивалентно: p-value = {ztest(exp, control)[1]:.2f} < 0.01) => \n",
    "=> нулевая гипотеза отвергается на 1% уровне значимости''')"
   ]
  },
  {
   "cell_type": "markdown",
   "metadata": {},
   "source": [
    "Попробуем понять, какими при таких объёмах выборки оказываются MDE и ошибка второго рода. Конечно, же сделать это надо до проведения АБ-теста. Но мы анализируем АБ-тест, а не готовим его! \n",
    "\n",
    "Формула для расчета числа наблюдений __для одной группы:__\n",
    "\n",
    "$$\n",
    "n_{\\text{one group}} = \\frac{(\\sigma_A^2 + \\sigma_B^2) \\cdot (z_{1-\\frac{\\alpha}{2}} + z_{1-\\beta})^2}{MDE^2},\n",
    "$$"
   ]
  },
  {
   "cell_type": "code",
   "execution_count": 12,
   "metadata": {},
   "outputs": [
    {
     "name": "stdout",
     "output_type": "stream",
     "text": [
      "exp_beta = 0.1424\n",
      "control_beta = 0.1381\n",
      "total beta = 0.2805\n"
     ]
    }
   ],
   "source": [
    "MDE = 0.01\n",
    "\n",
    "def get_beta(n, MDE, var_a, var_b, alpha):\n",
    "    za = sts.norm.ppf(1 - alpha / 2)\n",
    "    zb = MDE * np.sqrt(n / (var_a + var_b)) - za\n",
    "    return 1 - sts.norm.cdf(zb)\n",
    "\n",
    "beta_exp = get_beta(exp.size, MDE, var_control, var_exp, alpha)\n",
    "beta_control = get_beta(control.size, MDE, var_control, var_exp, alpha)\n",
    "print(f\"exp_beta = {beta_exp:.4f}\")\n",
    "print(f\"control_beta = {beta_control:.4f}\")\n",
    "print(f\"total beta = {beta_exp + beta_control:.4f}\")"
   ]
  },
  {
   "cell_type": "markdown",
   "metadata": {},
   "source": [
    " Хвосты отличаются от стандартного нормального. По хорошему, для проверки гипотезы нужно использовать бутстрап. В контексте средних, на бутстрап можно смотреть как на технику, которая уточняет, насколько сильно хвосты распределения стали тяжелее по сравнению с ЦПТ. \n",
    "\n",
    "Проверим гипотезу с помощью бутстрапа!\n",
    "\n",
    "1. Посчитаем наблюдаемое значение статистики.\n",
    "2. Пусть $\\bar h$ - это среднее посчитанное по обеим выборкам вместе. Создаем две новые выборки $$x'_i = x_i - \\bar x + \\bar h \\\\ y'_i = y_i - \\bar y + \\bar h.$$ Такое рецентрирование сдвигает обе выборки к общему среднему и  позволит заложить в симуляцию информацию о верности нулевой гипотезы. \n",
    "3. Сбутстрапируйте выборки $x^{*}$ и $y^{*}$ из $x'$ и $y'$. Рассчитаем значение z-статистики. Повторим процедуру $B$ раз.\n",
    "4. Для оценки `p-value` воспользуемся формулой:\n",
    "\n",
    "$$\n",
    "\\frac{1}{B} \\sum_{i=1}^B [z_i^{*} \\ge z_{obs}]\n",
    "$$"
   ]
  },
  {
   "cell_type": "code",
   "execution_count": 13,
   "metadata": {},
   "outputs": [
    {
     "name": "stdout",
     "output_type": "stream",
     "text": [
      "pvalue = 0.0\n"
     ]
    }
   ],
   "source": [
    "h_mean = np.append(control, exp).mean()\n",
    "exp_shift = exp - mean_exp + h_mean\n",
    "control_shift = control - mean_control + h_mean\n",
    "exp_shift_mean = exp_shift.mean()\n",
    "exp_shift_var = exp_shift.var()\n",
    "control_shift_mean = control_shift.mean()\n",
    "control_shift_var = control_shift.var()\n",
    "\n",
    "# бутстрап из x' и y'\n",
    "B = 1000\n",
    "exp_boot = get_bootstrap_sample(exp_shift, B)\n",
    "control_boot = get_bootstrap_sample(control_shift, B)\n",
    "\n",
    "exp_boot_mean = np.mean(exp_boot, axis=0)\n",
    "control_boot_mean = np.mean(control_boot, axis=0)\n",
    "exp_boot_var = np.var(exp_boot, axis=0)\n",
    "control_boot_var = np.var(control_boot, axis=0)\n",
    "\n",
    "z_stats = (exp_boot_mean - control_boot_mean - 0) / \\\n",
    "            np.sqrt((exp_boot_var / exp.size) + (control_boot_var / control.size))\n",
    "# z_obs = считал выше\n",
    "\n",
    "pval = (z_stats >= z_obs).sum() / B\n",
    "print(f\"pvalue = {pval}\")"
   ]
  },
  {
   "cell_type": "code",
   "execution_count": 14,
   "metadata": {},
   "outputs": [
    {
     "name": "stdout",
     "output_type": "stream",
     "text": [
      "критическое значение норм. расп.: 2.3263\n",
      "критическое значения бутстреп-статистики: 2.1617\n"
     ]
    }
   ],
   "source": [
    "print(f\"критическое значение норм. расп.: {z_crit:.4f}\") \n",
    "print(f\"критическое значения бутстреп-статистики: {pd.Series(z_stats).quantile(1 - alpha):.4f}\")"
   ]
  },
  {
   "cell_type": "markdown",
   "metadata": {},
   "source": [
    " - Выводы АБ-теста изменились. Теперь мы не отвергаем нулевую гипотезу о равенстве средних между контролем и экспериментом, хотя z-тест показал, что разница между ними есть.\n",
    " - Заметим, что чаще будет совершатся ошибка 1-го рода, т.к. в критической области распределения (в хвостах) вероятностная масса будет больше, а значит вероятность того, что нам попадется экстремальное значение также больше. Хвосты норм. расп-я меньше, а значит мы недооцениваем вероятность появления экстремальных значений и чаще отвергаем нулевую гипотезу в пользу альтернативной. Эта ошибка будет возникать настолько чаще, насколько критическая область распределения с хвостами больше критической области нормального распределения на одинаковом уровне значимости alpha. "
   ]
  },
  {
   "cell_type": "markdown",
   "metadata": {},
   "source": [
    "Насколько больше наблюдений нам необходимо для проверки гипотезы по сравнению с z-тестом? \n",
    "\n",
    "\n",
    "$$\n",
    "n_{\\text{one group}} = \\frac{(\\sigma_A^2 + \\sigma_B^2) \\cdot (z_{1-\\frac{\\alpha}{2}} + z_{1-\\beta})^2}{MDE^2},\n",
    "$$"
   ]
  },
  {
   "cell_type": "code",
   "execution_count": 15,
   "metadata": {},
   "outputs": [
    {
     "name": "stdout",
     "output_type": "stream",
     "text": [
      "Число наблюдений для проверки гипотезы бутстрапом: 445105\n",
      "Число наблюдений для z-теста: 566134\n"
     ]
    }
   ],
   "source": [
    "z_boot = pd.Series(z_stats).quantile(1 - alpha)\n",
    "\n",
    "def get_n_obs(MDE, var_a, var_b, z_boot, beta):\n",
    "    zb = sts.norm.ppf(1 - beta)\n",
    "    n = (var_a + var_b) * ((z_boot + zb) ** 2) / (MDE ** 2)\n",
    "    return round(n)\n",
    "\n",
    "n_exp_boot = get_n_obs(MDE, var_control, var_exp, z_boot, beta_exp)\n",
    "n_control_boot = get_n_obs(MDE, var_control, var_exp, z_boot, beta_control)\n",
    "\n",
    "n_exp_z = get_n_obs(MDE, var_control, var_exp, sts.norm.ppf(1 - alpha / 2), beta_exp)\n",
    "n_control_z = get_n_obs(MDE, var_control, var_exp, sts.norm.ppf(1 - alpha / 2), beta_control)\n",
    "\n",
    "\n",
    "print(f'Число наблюдений для проверки гипотезы бутстрапом: {n_exp_boot + n_control_boot}')\n",
    "print(f'Число наблюдений для z-теста: {n_exp_z + n_control_z}')"
   ]
  },
  {
   "cell_type": "code",
   "execution_count": 16,
   "metadata": {},
   "outputs": [
    {
     "data": {
      "image/png": "[encoded data removed]",
      "text/plain": [
       "<Figure size 432x288 with 1 Axes>"
      ]
     },
     "metadata": {
      "needs_background": "light"
     },
     "output_type": "display_data"
    }
   ],
   "source": [
    "pd.Series(z_stats).hist(bins=100, density=True);"
   ]
  },
  {
   "cell_type": "markdown",
   "metadata": {},
   "source": [
    "*Получилось, что наблюдений для бутстрапа нужно меньше. Если посмотреть на распределение получившихся оценок, то видно, что распределение немного скошено - правый хвост (т.е. квантиль, который мы смотрим) меньше и больше сдвинут внутрь основного распределения, а не вне*"
   ]
  },
  {
   "cell_type": "markdown",
   "metadata": {},
   "source": [
    "Проверим гипотезу тестом Манна-Уитни. Используем для этого функцию `scipy.stats.mannwhitneyu`."
   ]
  },
  {
   "cell_type": "code",
   "execution_count": 17,
   "metadata": {},
   "outputs": [
    {
     "name": "stdout",
     "output_type": "stream",
     "text": [
      "наблюдаемое значение статистики Манна-Уитни: 37765830709.50\n",
      "p-value критерия Манна-Уитни: 0.00\n"
     ]
    }
   ],
   "source": [
    "u, pval_mw = sts.mannwhitneyu(control, exp)\n",
    "\n",
    "print(f\"наблюдаемое значение статистики Манна-Уитни: {u:.2f}\")\n",
    "print(f\"p-value критерия Манна-Уитни: {pval_mw:.2f}\")"
   ]
  },
  {
   "cell_type": "markdown",
   "metadata": {},
   "source": [
    "*p-value < 0 => принимаем альтернативную гипотезу о наличии сдвига между 2мя одинаковыми распределениями контрольной и экспериментальной групп*"
   ]
  },
  {
   "cell_type": "markdown",
   "metadata": {},
   "source": [
    "Вместо теста Манна-Уитни на сдвиг распределения, мы можем попробовать проверить гипотезу о том, что наше распределение, в принципе, как-то поменялось. Для таких гипотез обычно используются критерии согласия. Проверим гипотезу о том, что распределения тестовой и контрольной групп совпадают с помощью теста Колмогорова-Смирнова `scipy.stats.ks_2sam`."
   ]
  },
  {
   "cell_type": "code",
   "execution_count": 18,
   "metadata": {},
   "outputs": [
    {
     "name": "stdout",
     "output_type": "stream",
     "text": [
      "p-value = 0.00 < 0.01) => нулевая гипотеза отвергается на 1% уровне значимости\n",
      "Делаем вывод, что выборки теста и контроля не однородны\n"
     ]
    }
   ],
   "source": [
    "ks_val, pval_ks = sts.ks_2samp(exp, control)\n",
    "\n",
    "print(f'''p-value = {pval_ks:.2f} < 0.01) => нулевая гипотеза отвергается на 1% уровне значимости''')\n",
    "print(\"Делаем вывод, что выборки теста и контроля не однородны\")"
   ]
  },
  {
   "cell_type": "markdown",
   "metadata": {},
   "source": [
    "P-value большинства проводимых тестов (кроме бутстрэпа) близки к нулю. Наблюдаемое значение статистик значительно привосходит критическое, т.е. с лихвой попадает в критическую область. Возможно, по тестам становится понятно, что распределения контроля и теста сильно различаются и ставить гипотезы о параметрах этих распределений нужно тщательно и аккуратно (например, смотреть на прочие параметры медианы, хвосты, избавиться все-таки от выбросов, добивать однородности распределений). В общем, надо подумать (над метриками, гипотезами, тестах) и что-то сделать с данными, перед тем, как делать AB-тесты."
   ]
  },
  {
   "cell_type": "markdown",
   "metadata": {},
   "source": [
    "## Часть 2: CUPED\n",
    "\n",
    "Рассчитаем значение стандартной ошибки для $z$-статистики по второй части выборки. С помощью CUPED мы будем пытаться уменьшить значение этой ошибки."
   ]
  },
  {
   "cell_type": "code",
   "execution_count": 19,
   "metadata": {},
   "outputs": [],
   "source": [
    "df['treat'] = np.where(df['slot'] == 'exp', 1, 0)\n",
    "df_before = df.iloc[:len(df) // 2, :]\n",
    "df_after = df.iloc[len(df) // 2:, :]\n",
    "tr = df_after.loc[df_after['treat'] == 1, 'click_per_queries']\n",
    "cntrl = df_after.loc[df_after['treat'] == 0, 'click_per_queries']\n",
    "\n",
    "z_val = (tr.mean() - cntrl.mean()) / np.sqrt((tr.var() / tr.size) + (cntrl.var() / cntrl.size))\n"
   ]
  },
  {
   "cell_type": "markdown",
   "metadata": {},
   "source": [
    "*Как понимаю, нужно смотреть на $se(\\bar{y}_{treat} - \\bar{y}_{control})$, т.е. на знаменатель при расчете z-статистики*\n",
    "\n",
    "*Поэтому буду сравнивать уменьшение ст. ошибки с этой величиной*"
   ]
  },
  {
   "cell_type": "code",
   "execution_count": 20,
   "metadata": {},
   "outputs": [
    {
     "data": {
      "text/plain": [
       "0.0044424060716200765"
      ]
     },
     "execution_count": 20,
     "metadata": {},
     "output_type": "execute_result"
    }
   ],
   "source": [
    "z_std = np.sqrt((tr.var() / tr.size) + (cntrl.var() / cntrl.size))\n",
    "z_std"
   ]
  },
  {
   "cell_type": "markdown",
   "metadata": {},
   "source": [
    "CUPED: но будем использовать как независимую переменную другую известную нам переменную (т.к. в прямом смысле до/после нам не дано)\n"
   ]
  },
  {
   "cell_type": "markdown",
   "metadata": {},
   "source": [
    "*Буду использовать `empty_query_share`, т.к. размерность похожая, может поможет (но главное, конечно, независимость переменных)*\n",
    "\n",
    "*Просто посмотрим на график*"
   ]
  },
  {
   "cell_type": "code",
   "execution_count": 21,
   "metadata": {},
   "outputs": [
    {
     "data": {
      "image/png": "[encoded data removed]",
      "text/plain": [
       "<Figure size 576x576 with 1 Axes>"
      ]
     },
     "metadata": {
      "needs_background": "light"
     },
     "output_type": "display_data"
    }
   ],
   "source": [
    "gr = sns.pairplot(df_after, \n",
    "                    y_vars=('empty_query_share'), \n",
    "                    x_vars=('click_per_queries'), \n",
    "                    height=8,\n",
    "                    kind='reg');\n",
    "gr.set(ylim=(0,1));"
   ]
  },
  {
   "cell_type": "code",
   "execution_count": 23,
   "metadata": {},
   "outputs": [
    {
     "name": "stderr",
     "output_type": "stream",
     "text": [
      "C:\\Users\\User\\AppData\\Local\\Temp\\ipykernel_12448\\4287520012.py:5: SettingWithCopyWarning: \n",
      "A value is trying to be set on a copy of a slice from a DataFrame.\n",
      "Try using .loc[row_indexer,col_indexer] = value instead\n",
      "\n",
      "See the caveats in the documentation: https://pandas.pydata.org/pandas-docs/stable/user_guide/indexing.html#returning-a-view-versus-a-copy\n",
      "  df_after['covariant_y_hat'] = res.resid\n"
     ]
    },
    {
     "name": "stdout",
     "output_type": "stream",
     "text": [
      "                            OLS Regression Results                            \n",
      "==============================================================================\n",
      "Dep. Variable:        covariant_y_hat   R-squared:                       0.000\n",
      "Model:                            OLS   Adj. R-squared:                  0.000\n",
      "Method:                 Least Squares   F-statistic:                     12.51\n",
      "Date:                Wed, 21 Jun 2023   Prob (F-statistic):           0.000405\n",
      "Time:                        14:30:03   Log-Likelihood:            -3.8743e+05\n",
      "No. Observations:              283067   AIC:                         7.749e+05\n",
      "Df Residuals:                  283065   BIC:                         7.749e+05\n",
      "Df Model:                           1                                         \n",
      "Covariance Type:                  HC3                                         \n",
      "==============================================================================\n",
      "                 coef    std err          z      P>|z|      [0.025      0.975]\n",
      "------------------------------------------------------------------------------\n",
      "Intercept     -0.0063      0.002     -2.562      0.010      -0.011      -0.001\n",
      "treat          0.0126      0.004      3.537      0.000       0.006       0.020\n",
      "==============================================================================\n",
      "Omnibus:                   421230.039   Durbin-Watson:                   1.998\n",
      "Prob(Omnibus):                  0.000   Jarque-Bera (JB):        495686759.423\n",
      "Skew:                           8.768   Prob(JB):                         0.00\n",
      "Kurtosis:                     207.254   Cond. No.                         2.61\n",
      "==============================================================================\n",
      "\n",
      "Notes:\n",
      "[1] Standard Errors are heteroscedasticity robust (HC3)\n"
     ]
    }
   ],
   "source": [
    "import statsmodels.formula.api as smf\n",
    "\n",
    "model = smf.ols('click_per_queries ~ empty_query_share', data=df_after)\n",
    "res = model.fit(cov_type='HC3')\n",
    "df_after['covariant_y_hat'] = res.resid\n",
    "\n",
    "model2 = smf.ols('covariant_y_hat ~ treat', data=df_after)\n",
    "res_cuped = model2.fit(cov_type='HC3')\n",
    "\n",
    "print(res_cuped.summary())"
   ]
  },
  {
   "cell_type": "code",
   "execution_count": 24,
   "metadata": {},
   "outputs": [
    {
     "name": "stdout",
     "output_type": "stream",
     "text": [
      "стандартная ошибка до CUPED: 0.0044\n",
      "стандартная ошибка после CUPED: 0.0036\n",
      "ст. ошибка уменьшилась в 1.2 раз\n"
     ]
    }
   ],
   "source": [
    "print(f\"стандартная ошибка до CUPED: {z_std:.4f}\")\n",
    "print(f\"стандартная ошибка после CUPED: {res_cuped.HC3_se[1]:.4f}\")\n",
    "print(f\"ст. ошибка уменьшилась в {z_std / res_cuped.HC3_se[1]:.1f} раз\")"
   ]
  },
  {
   "cell_type": "markdown",
   "metadata": {},
   "source": [
    "*p-value в обоих случаях у переменной treat < 0.05, значит полученные коэффициенты при $d_i$ (treat) - значимые + еще и с уменьшенной дисперсией*"
   ]
  },
  {
   "cell_type": "markdown",
   "metadata": {},
   "source": [
    "**Ну а вообще конечно надо делать так:** \n",
    "\n",
    "*ПУСТЬ click_per_queries в df_before - это $y_{t-1}$, а в df_after - это $y_t$*\n",
    "\n",
    "*И строить регрессионную модель: $y_{t} = b_0 + w_1*y_{t-1}$*"
   ]
  },
  {
   "cell_type": "markdown",
   "metadata": {},
   "source": [
    "Попробуем CUPAC. В качестве базовой модели возьмем градиентный бустинг. "
   ]
  },
  {
   "cell_type": "code",
   "execution_count": 25,
   "metadata": {},
   "outputs": [],
   "source": [
    "from sklearn.ensemble import GradientBoostingRegressor\n",
    "df_before = df.iloc[:len(df) // 2, :]\n",
    "df_after = df.iloc[len(df) // 2:, :]\n",
    "\n",
    "# x_train = pd.get_dummies(df_before.loc[:, ~df_before.columns.isin(['userID', 'slot', 'click_per_queries'])])\n",
    "x_train = df_before.loc[:, ~df_before.columns.isin(['userID', 'slot', 'click_per_queries', 'browser'])]\n",
    "y_train = df_before['click_per_queries']\n",
    "\n",
    "# x_test = pd.get_dummies(df_after.loc[:, ~df_after.columns.isin(['userID', 'slot', 'click_per_queries'])])\n",
    "x_test = df_after.loc[:, ~df_after.columns.isin(['userID', 'slot', 'click_per_queries', 'browser'])]\n",
    "y_hat = df_after['click_per_queries']\n",
    "\n",
    "\n",
    "ml_model = GradientBoostingRegressor(random_state=24)\n",
    "ml_model.fit(x_train, y_train)\n",
    "\n",
    "y_pred = ml_model.predict(x_test)"
   ]
  },
  {
   "cell_type": "code",
   "execution_count": 26,
   "metadata": {},
   "outputs": [
    {
     "name": "stderr",
     "output_type": "stream",
     "text": [
      "C:\\Users\\User\\AppData\\Local\\Temp\\ipykernel_12448\\2204837294.py:1: SettingWithCopyWarning: \n",
      "A value is trying to be set on a copy of a slice from a DataFrame.\n",
      "Try using .loc[row_indexer,col_indexer] = value instead\n",
      "\n",
      "See the caveats in the documentation: https://pandas.pydata.org/pandas-docs/stable/user_guide/indexing.html#returning-a-view-versus-a-copy\n",
      "  df_after['predicted_clicks'] = y_pred\n",
      "C:\\Users\\User\\AppData\\Local\\Temp\\ipykernel_12448\\2204837294.py:5: SettingWithCopyWarning: \n",
      "A value is trying to be set on a copy of a slice from a DataFrame.\n",
      "Try using .loc[row_indexer,col_indexer] = value instead\n",
      "\n",
      "See the caveats in the documentation: https://pandas.pydata.org/pandas-docs/stable/user_guide/indexing.html#returning-a-view-versus-a-copy\n",
      "  df_after['covariant_y_hat'] = res.resid\n"
     ]
    },
    {
     "name": "stdout",
     "output_type": "stream",
     "text": [
      "                            OLS Regression Results                            \n",
      "==============================================================================\n",
      "Dep. Variable:        covariant_y_hat   R-squared:                       0.000\n",
      "Model:                            OLS   Adj. R-squared:                  0.000\n",
      "Method:                 Least Squares   F-statistic:                     69.26\n",
      "Date:                Wed, 21 Jun 2023   Prob (F-statistic):           8.69e-17\n",
      "Time:                        14:31:06   Log-Likelihood:             1.2503e+05\n",
      "No. Observations:              283067   AIC:                        -2.501e+05\n",
      "Df Residuals:                  283065   BIC:                        -2.500e+05\n",
      "Df Model:                           1                                         \n",
      "Covariance Type:                  HC3                                         \n",
      "==============================================================================\n",
      "                 coef    std err          z      P>|z|      [0.025      0.975]\n",
      "------------------------------------------------------------------------------\n",
      "Intercept      0.0024      0.000      6.793      0.000       0.002       0.003\n",
      "treat         -0.0049      0.001     -8.322      0.000      -0.006      -0.004\n",
      "==============================================================================\n",
      "Omnibus:                   925230.554   Durbin-Watson:                   1.978\n",
      "Prob(Omnibus):                  0.000   Jarque-Bera (JB):    1638091902763.840\n",
      "Skew:                          54.649   Prob(JB):                         0.00\n",
      "Kurtosis:                   11787.508   Cond. No.                         2.61\n",
      "==============================================================================\n",
      "\n",
      "Notes:\n",
      "[1] Standard Errors are heteroscedasticity robust (HC3)\n"
     ]
    }
   ],
   "source": [
    "df_after['predicted_clicks'] = y_pred\n",
    "\n",
    "model = smf.ols('click_per_queries ~ predicted_clicks', data=df_after)\n",
    "res = model.fit(cov_type='HC3')\n",
    "df_after['covariant_y_hat'] = res.resid\n",
    "\n",
    "model2 = smf.ols('covariant_y_hat ~ treat', data=df_after)\n",
    "res_cupac = model2.fit(cov_type='HC3')\n",
    "\n",
    "print(res_cupac.summary())"
   ]
  },
  {
   "cell_type": "code",
   "execution_count": 27,
   "metadata": {},
   "outputs": [
    {
     "name": "stdout",
     "output_type": "stream",
     "text": [
      "стандартная ошибка до CUPAC: 0.0044\n",
      "стандартная ошибка после CUPAC: 0.0006\n",
      "ст. ошибка уменьшилась в 7.6 раз\n"
     ]
    }
   ],
   "source": [
    "print(f\"стандартная ошибка до CUPAC: {z_std:.4f}\")\n",
    "print(f\"стандартная ошибка после CUPAC: {res_cupac.HC3_se[1]:.4f}\")\n",
    "print(f\"ст. ошибка уменьшилась в {z_std / res_cupac.HC3_se[1]:.1f} раз\")"
   ]
  },
  {
   "cell_type": "markdown",
   "metadata": {},
   "source": [
    "*Ошибка стала еще меньше!!*"
   ]
  },
  {
   "cell_type": "markdown",
   "metadata": {},
   "source": [
    "*CUPAC - сильно уменьшил стандартную ошибку, однако АБ-тест он развалил, т.к. модель, в которой считалось `y_pred` никак не калибровалось. Т.е. мы предсказываем очень плохо в модели ML, поэтому эта нелинейность все портит. Если поподбирать модель и использовать не только имеющиеся данные, то потенциально CUPAC прибавит в мощности и убавит кол-во необходимых наблюдений*\n",
    "\n",
    "*CUPED же показал, что теперь нам нужно меньше наблюдений и мощность довольно приемлимая на уровне 95%*"
   ]
  }
 ],
 "metadata": {
  "kernelspec": {
   "display_name": "Python 3 (ipykernel)",
   "language": "python",
   "name": "python3"
  },
  "language_info": {
   "codemirror_mode": {
    "name": "ipython",
    "version": 3
   },
   "file_extension": ".py",
   "mimetype": "text/x-python",
   "name": "python",
   "nbconvert_exporter": "python",
   "pygments_lexer": "ipython3",
   "version": "3.9.7"
  },
  "toc": {
   "base_numbering": 1,
   "nav_menu": {},
   "number_sections": true,
   "sideBar": true,
   "skip_h1_title": false,
   "title_cell": "Table of Contents",
   "title_sidebar": "Contents",
   "toc_cell": false,
   "toc_position": {},
   "toc_section_display": true,
   "toc_window_display": false
  }
 },
 "nbformat": 4,
 "nbformat_minor": 1
}
