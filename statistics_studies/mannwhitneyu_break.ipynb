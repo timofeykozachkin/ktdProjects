{
 "cells": [
  {
   "cell_type": "markdown",
   "id": "699c5fc7",
   "metadata": {},
   "source": [
    "## Ломаем тест Манна-Уитни\n",
    "\n",
    "Придумаем пример, на котором тест Манна-Уитни не будет работать. \n",
    "\n",
    "__Hint:__ Главная предпосылка теста заключается в том, что распределение не меняется, но у него происходит сдвиг. Воспользуйтесь этим. \n",
    "\n",
    "\\begin{equation*}\n",
    "    \\begin{aligned}\n",
    "    & H_0: F_X(x) = F_Y(y) \\\\\n",
    "    & H_A: F_X(x) = F_Y(y + m), m \\ne 0\n",
    "    \\end{aligned}\n",
    "\\end{equation*}\n"
   ]
  },
  {
   "cell_type": "code",
   "execution_count": 1,
   "id": "c68a9a3c",
   "metadata": {},
   "outputs": [],
   "source": [
    "import numpy as np\n",
    "import pandas as pd\n",
    "\n",
    "from scipy import stats as sts\n",
    "\n",
    "import seaborn as sns\n",
    "import matplotlib.pyplot as plt\n",
    "\n",
    "plt.style.use('ggplot')\n",
    "%matplotlib inline"
   ]
  },
  {
   "cell_type": "code",
   "execution_count": 2,
   "id": "9e282f13",
   "metadata": {},
   "outputs": [
    {
     "name": "stdout",
     "output_type": "stream",
     "text": [
      "Результаты тесты Манна-Уитни: MannwhitneyuResult(statistic=22822.0, pvalue=0.0)\n"
     ]
    },
    {
     "data": {
      "image/png": "[encoded data removed]",
      "text/plain": [
       "<Figure size 432x288 with 1 Axes>"
      ]
     },
     "metadata": {
      "needs_background": "light"
     },
     "output_type": "display_data"
    }
   ],
   "source": [
    "norm1 = sts.norm()\n",
    "x1 = norm1.rvs(10000, random_state=42)\n",
    "\n",
    "norm2 = sts.norm(loc=5)\n",
    "x2 = norm2.rvs(10000, random_state=42)\n",
    "\n",
    "\n",
    "plt.hist(x1, alpha=0.5, bins=15, density=True, color='blue')\n",
    "plt.hist(x2, alpha=0.5, bins=15, density=True, color='red');\n",
    "\n",
    "print(f\"Результаты тесты Манна-Уитни: {sts.mannwhitneyu(x1, x2)}\")"
   ]
  },
  {
   "cell_type": "markdown",
   "id": "a8c44c10",
   "metadata": {},
   "source": [
    "**Все ОК. Распределения одинаковые, только есть сдвиг. p-value < 0.05 => принимаем альтернативную гипотезу о наличии сдвига между распределениями**"
   ]
  },
  {
   "cell_type": "code",
   "execution_count": 3,
   "id": "fdf7d39b",
   "metadata": {},
   "outputs": [
    {
     "name": "stdout",
     "output_type": "stream",
     "text": [
      "Результаты тесты Манна-Уитни: MannwhitneyuResult(statistic=49997863.0, pvalue=0.9958245263778471)\n"
     ]
    },
    {
     "data": {
      "image/png": "[encoded data removed]",
      "text/plain": [
       "<Figure size 432x288 with 1 Axes>"
      ]
     },
     "metadata": {
      "needs_background": "light"
     },
     "output_type": "display_data"
    }
   ],
   "source": [
    "norm11 = sts.norm(loc=-5)\n",
    "norm22 = sts.norm(loc=5)\n",
    "x11 = norm11.rvs(5000, random_state=42)\n",
    "x22 = norm22.rvs(5000, random_state=42)\n",
    "\n",
    "x12 = np.concatenate([x11, x22])\n",
    "\n",
    "plt.hist(x1, alpha=0.5, bins=15, density=True, color='blue')\n",
    "plt.hist(x12, alpha=0.5, bins=30, density=True, color='green');\n",
    "\n",
    "print(f\"Результаты тесты Манна-Уитни: {sts.mannwhitneyu(x1, x12)}\")"
   ]
  },
  {
   "cell_type": "markdown",
   "id": "4774bd38",
   "metadata": {},
   "source": [
    "**НЕ ОК. Второе распределение имеет те же параметры, но сдвиги, которые поляризовали наблюдения.**\n",
    "\n",
    "\n",
    "**p-value > 0.05 => принимаем основную гипотезу об отсутствии сдвига между распределениями, т.е. распределения абсолютно идентичны. Но распределения имеют сдвиг, просто в разные стороны. Тест Манна-Уитни нам это не показал и сломался**"
   ]
  }
 ],
 "metadata": {
  "kernelspec": {
   "display_name": "Python 3 (ipykernel)",
   "language": "python",
   "name": "python3"
  },
  "language_info": {
   "codemirror_mode": {
    "name": "ipython",
    "version": 3
   },
   "file_extension": ".py",
   "mimetype": "text/x-python",
   "name": "python",
   "nbconvert_exporter": "python",
   "pygments_lexer": "ipython3",
   "version": "3.9.7"
  },
  "toc": {
   "base_numbering": 1,
   "nav_menu": {},
   "number_sections": true,
   "sideBar": true,
   "skip_h1_title": false,
   "title_cell": "Table of Contents",
   "title_sidebar": "Contents",
   "toc_cell": false,
   "toc_position": {},
   "toc_section_display": true,
   "toc_window_display": false
  }
 },
 "nbformat": 4,
 "nbformat_minor": 5
}
