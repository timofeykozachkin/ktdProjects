{
 "cells": [
  {
   "cell_type": "markdown",
   "id": "b1376cb2",
   "metadata": {},
   "source": [
    "## АБ-тест: задача нужен / не нужен \n",
    "\n",
    "Эта задача на то, что ты выигрываешь или проигрываешь, если отказываешься от АБ-тестов и просто принимаешь решение об изенениях по среднему. Задание довольно творческое, так как способ симуляции можно придумать разный.\n",
    "\n",
    "У Аделины и Беллы есть аккаунты на сайте с \"топ-контентом\" с конверсией $p=0.2\\%$. Они меняют вёрстки и смотрят, как дела с деньгами. Белла нанаяла аналитика и принимает решения об изменениях по $p-value < 0.05,$ а Аделина просто смотрит на среднее и катит по нему. Например, если на старом дизайне из тысячи посетителей только $299$ оставило копеечку, а на новом — $300$, берём новый. Если наоборот — оставляем старый.\n",
    "\n",
    "Пусть у каждой было $100$ правочек. Правочки одинаковые для обеих девушек. На них работает один и тот же фронтендер. Будем считать, что правочки независимы друг от друга. То есть, в какой бы момент мы не выкатили правочку, у нас всегда от неё будет одинаковое воздействие на конверсию. У каждой девушки было $100$ правочек. Кто после сотни правочек вырвется вперёд по конверсии? "
   ]
  },
  {
   "cell_type": "code",
   "execution_count": 1,
   "id": "bc4d7c69",
   "metadata": {},
   "outputs": [],
   "source": [
    "import numpy as np\n",
    "import pandas as pd\n",
    "\n",
    "from scipy import stats as sts\n",
    "\n",
    "import seaborn as sns\n",
    "import matplotlib.pyplot as plt\n",
    "\n",
    "from statsmodels.stats.proportion import proportions_ztest\n",
    "\n",
    "plt.style.use('ggplot')\n",
    "%matplotlib inline"
   ]
  },
  {
   "cell_type": "code",
   "execution_count": 2,
   "id": "5765eb24",
   "metadata": {},
   "outputs": [
    {
     "name": "stdout",
     "output_type": "stream",
     "text": [
      "Конверсия Аделины без АБ-теста: 0.4249\n",
      "Конверсия Беллы с АБ-тестом: 0.3078\n"
     ]
    }
   ],
   "source": [
    "n = 1000\n",
    "p_adelina, p_bella = 0.2, 0.2\n",
    "\n",
    "pravki = sts.norm().rvs(100)\n",
    "\n",
    "conv_adelina = []\n",
    "conv_bella = []\n",
    "\n",
    "for i in range(len(pravki)):\n",
    "    # АДЕЛИНА - просто по среднему\n",
    "    p_new = p_adelina + pravki[i] / 100\n",
    "    sample = sts.bernoulli(p_new).rvs(1000)\n",
    "    if sample.mean() > p_adelina:\n",
    "        p_adelina = p_new\n",
    "        conv_adelina.append(p_new)\n",
    "    else:\n",
    "        conv_adelina.append(p_adelina)\n",
    "\n",
    "    # БЕЛЛА - через АБ-тест\n",
    "    p_new = p_bella + pravki[i] / 100\n",
    "    sample_control = sts.bernoulli(p_bella).rvs(1000)\n",
    "    sample_treat = sts.bernoulli(p_new).rvs(1000)\n",
    "    \n",
    "    p_control = sample_control.sum()\n",
    "    p_treat = sample_treat.sum()\n",
    "    \n",
    "    pval = proportions_ztest([p_treat, p_control],\n",
    "                             [1000, 1000],\n",
    "                             value = 0,\n",
    "                             alternative = 'larger')[1]\n",
    "    if pval < 0.05:\n",
    "        p_bella = p_new\n",
    "        conv_bella.append(p_new)\n",
    "    else:\n",
    "        conv_bella.append(p_bella)\n",
    "    \n",
    "print(f\"Конверсия Аделины без АБ-теста: {conv_adelina[-1]:.4f}\")\n",
    "print(f\"Конверсия Беллы с АБ-тестом: {conv_bella[-1]:.4f}\")"
   ]
  },
  {
   "cell_type": "code",
   "execution_count": 3,
   "id": "afd9dc88",
   "metadata": {},
   "outputs": [
    {
     "data": {
      "image/png": "[encoded data removed]",
      "text/plain": [
       "<Figure size 432x288 with 1 Axes>"
      ]
     },
     "metadata": {
      "needs_background": "light"
     },
     "output_type": "display_data"
    }
   ],
   "source": [
    "plt.plot(conv_bella)\n",
    "plt.plot(conv_adelina)\n",
    "plt.title('Изменение конверсии при правках')\n",
    "plt.xlabel('правки')\n",
    "plt.xlabel('конверсия');"
   ]
  },
  {
   "cell_type": "markdown",
   "id": "081ea347",
   "metadata": {},
   "source": [
    "*Если распределение правочек - стандартное нормальное, то принимая любую положительную правочку, Аделина вырвется вперед. Но при этом негативные эффекты от правочек она может не заметить, т.к. после правочки случайно могло случится так, что пользователи начали больше донатить (контент стал лучше или сарафанное радио пользователей) и причиной этому не правочка, а что-то иное. Но т.к. эта случайность статистически ей не проверяется, она принимает все подряд.*\n",
    "\n",
    "*Другими словами, у Аделины гораздо больше шанс допустить ошибку первого рода, т.е. когда она правку оставила, а на самом деле эффект, на который она смотрела, оказался случайным, что равно отвержению нулевой гипотезы, в то время как реальных изменений правочка не приносит. А, например, Белла, если и оставляет правочку, то она точно принесет ей положительный эффект, т.к. она статистически через АБ-тест проверила, что эта правочка рабочая.*\n",
    "\n",
    "*Сломать логику Аделины можно так:*"
   ]
  },
  {
   "cell_type": "code",
   "execution_count": 4,
   "id": "ef82a51f",
   "metadata": {},
   "outputs": [
    {
     "name": "stdout",
     "output_type": "stream",
     "text": [
      "Конверсия Аделины без АБ-теста: 0.1313\n",
      "Конверсия Беллы с АБ-тестом: 0.2029\n"
     ]
    }
   ],
   "source": [
    "n = 1000\n",
    "p_adelina, p_bella = 0.2, 0.2\n",
    "\n",
    "pravki = sts.norm(loc=-1).rvs(100)\n",
    "\n",
    "conv_adelina = []\n",
    "conv_bella = []\n",
    "\n",
    "for i in range(len(pravki)):\n",
    "    # АДЕЛИНА - просто по среднему\n",
    "    p_new = p_adelina + pravki[i] / 100\n",
    "    sample = sts.bernoulli(p_new).rvs(1000)\n",
    "    if sample.mean() > p_adelina:\n",
    "        p_adelina = p_new\n",
    "        conv_adelina.append(p_new)\n",
    "    else:\n",
    "        conv_adelina.append(p_adelina)\n",
    "\n",
    "    # БЕЛЛА - через АБ-тест\n",
    "    p_new = p_bella + pravki[i] / 100\n",
    "    sample_control = sts.bernoulli(p_bella).rvs(1000)\n",
    "    sample_treat = sts.bernoulli(p_new).rvs(1000)\n",
    "    \n",
    "    p_control = sample_control.sum()\n",
    "    p_treat = sample_treat.sum()\n",
    "    \n",
    "    pval = proportions_ztest([p_treat, p_control],\n",
    "                             [1000, 1000],\n",
    "                             value = 0,\n",
    "                             alternative = 'larger')[1]\n",
    "    if pval < 0.05:\n",
    "        p_bella = p_new\n",
    "        conv_bella.append(p_new)\n",
    "    else:\n",
    "        conv_bella.append(p_bella)\n",
    "    \n",
    "print(f\"Конверсия Аделины без АБ-теста: {conv_adelina[-1]:.4f}\")\n",
    "print(f\"Конверсия Беллы с АБ-тестом: {conv_bella[-1]:.4f}\")"
   ]
  },
  {
   "cell_type": "code",
   "execution_count": 5,
   "id": "e1b75d19",
   "metadata": {},
   "outputs": [
    {
     "data": {
      "image/png": "[encoded data removed]",
      "text/plain": [
       "<Figure size 432x288 with 1 Axes>"
      ]
     },
     "metadata": {
      "needs_background": "light"
     },
     "output_type": "display_data"
    }
   ],
   "source": [
    "plt.plot(conv_bella)\n",
    "plt.plot(conv_adelina)\n",
    "plt.title('Изменение конверсии при правках')\n",
    "plt.xlabel('правки')\n",
    "plt.xlabel('конверсия');"
   ]
  },
  {
   "cell_type": "markdown",
   "id": "1ffbf2af",
   "metadata": {},
   "source": [
    "*Если правочки будут распределены по-другому - например, со нормально со средним -1 (такое может быть, если страница актрисы с новой правочкой становится слишком яркой, аляпистой, отвлекающей от сути дела) - то Аделина может опять же поймать случайный эффект от правочки и подумать, что она ей нужна, хотя она вносит негативный эффект в конверсию*\n",
    "\n",
    "*Белла же очень осторожна в своих решениях и берет только те правочки, которые вносят положительный вклад, проверяя через АБ-тест этот положительный эффект*\n",
    "\n",
    "*Итог такой: все зависит от того, как распределены эти правочки и как работает это на онлифансе. Могу предложить 2 варианта развития бизнеса актрис, которые требуют изучения работы рынка. Если нам без разницы на аккуратное, выдержанное содержание страницы и чем больше правочек на страничке, тем лучше, то и без АБ-тестов можно в целом обойтись. Если же страница должна быть выдержана, user-friendly и правочка работает на актрису не всегда, то можно смело нанимать аналитика, на которого в таком бизнесе думаю деньги есть!*"
   ]
  }
 ],
 "metadata": {
  "kernelspec": {
   "display_name": "Python 3 (ipykernel)",
   "language": "python",
   "name": "python3"
  },
  "language_info": {
   "codemirror_mode": {
    "name": "ipython",
    "version": 3
   },
   "file_extension": ".py",
   "mimetype": "text/x-python",
   "name": "python",
   "nbconvert_exporter": "python",
   "pygments_lexer": "ipython3",
   "version": "3.9.7"
  },
  "toc": {
   "base_numbering": 1,
   "nav_menu": {},
   "number_sections": true,
   "sideBar": true,
   "skip_h1_title": false,
   "title_cell": "Table of Contents",
   "title_sidebar": "Contents",
   "toc_cell": false,
   "toc_position": {},
   "toc_section_display": true,
   "toc_window_display": false
  }
 },
 "nbformat": 4,
 "nbformat_minor": 5
}
