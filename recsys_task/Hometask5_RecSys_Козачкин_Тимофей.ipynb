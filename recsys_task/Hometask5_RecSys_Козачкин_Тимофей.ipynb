{
  "cells": [
    {
      "cell_type": "markdown",
      "metadata": {
        "id": "ef6180WvQbD-"
      },
      "source": [
        "# Введение\n",
        "\n",
        "В этом задании Вы продолжите работать с данными из семинара [Articles Sharing and Reading from CI&T Deskdrop](https://www.kaggle.com/gspmoreira/articles-sharing-reading-from-cit-deskdrop)."
      ]
    },
    {
      "cell_type": "markdown",
      "metadata": {
        "id": "nSV_mxD9TciM"
      },
      "source": [
        "# Загрузка и предобработка данных"
      ]
    },
    {
      "cell_type": "code",
      "execution_count": null,
      "metadata": {
        "id": "M5mH3ZolSlcm"
      },
      "outputs": [],
      "source": [
        "import math\n",
        "\n",
        "import numpy as np\n",
        "import pandas as pd"
      ]
    },
    {
      "cell_type": "markdown",
      "metadata": {
        "id": "PRQVuRvER0hd"
      },
      "source": [
        "Загрузим данные и проведем предобраотку данных как на семинаре."
      ]
    },
    {
      "cell_type": "code",
      "execution_count": null,
      "metadata": {
        "id": "8E837g9kQTbb"
      },
      "outputs": [],
      "source": [
        "!kaggle datasets download -d gspmoreira/articles-sharing-reading-from-cit-deskdrop\n",
        "!unzip articles-sharing-reading-from-cit-deskdrop.zip -d articles"
      ]
    },
    {
      "cell_type": "code",
      "execution_count": null,
      "metadata": {
        "id": "hdM1xSchR9jt",
        "colab": {
          "base_uri": "https://localhost:8080/",
          "height": 436
        },
        "outputId": "fe69f310-5d84-4582-8d8b-7f1d675037dd"
      },
      "outputs": [
        {
          "output_type": "execute_result",
          "data": {
            "text/plain": [
              "    timestamp       eventType            contentId       authorPersonId  \\\n",
              "1  1459193988  CONTENT SHARED -4110354420726924665  4340306774493623681   \n",
              "2  1459194146  CONTENT SHARED -7292285110016212249  4340306774493623681   \n",
              "\n",
              "       authorSessionId authorUserAgent authorRegion authorCountry contentType  \\\n",
              "1  8940341205206233829             NaN          NaN           NaN        HTML   \n",
              "2  8940341205206233829             NaN          NaN           NaN        HTML   \n",
              "\n",
              "                                                 url  \\\n",
              "1  http://www.nytimes.com/2016/03/28/business/dea...   \n",
              "2  http://cointelegraph.com/news/bitcoin-future-w...   \n",
              "\n",
              "                                               title  \\\n",
              "1  Ethereum, a Virtual Currency, Enables Transact...   \n",
              "2  Bitcoin Future: When GBPcoin of Branson Wins O...   \n",
              "\n",
              "                                                text lang  \n",
              "1  All of this work is still very early. The firs...   en  \n",
              "2  The alarm clock wakes me at 8:00 with stream o...   en  "
            ],
            "text/html": [
              "\n",
              "  <div id=\"df-6f74eb0f-33ad-4586-970f-59512904ab21\">\n",
              "    <div class=\"colab-df-container\">\n",
              "      <div>\n",
              "<style scoped>\n",
              "    .dataframe tbody tr th:only-of-type {\n",
              "        vertical-align: middle;\n",
              "    }\n",
              "\n",
              "    .dataframe tbody tr th {\n",
              "        vertical-align: top;\n",
              "    }\n",
              "\n",
              "    .dataframe thead th {\n",
              "        text-align: right;\n",
              "    }\n",
              "</style>\n",
              "<table border=\"1\" class=\"dataframe\">\n",
              "  <thead>\n",
              "    <tr style=\"text-align: right;\">\n",
              "      <th></th>\n",
              "      <th>timestamp</th>\n",
              "      <th>eventType</th>\n",
              "      <th>contentId</th>\n",
              "      <th>authorPersonId</th>\n",
              "      <th>authorSessionId</th>\n",
              "      <th>authorUserAgent</th>\n",
              "      <th>authorRegion</th>\n",
              "      <th>authorCountry</th>\n",
              "      <th>contentType</th>\n",
              "      <th>url</th>\n",
              "      <th>title</th>\n",
              "      <th>text</th>\n",
              "      <th>lang</th>\n",
              "    </tr>\n",
              "  </thead>\n",
              "  <tbody>\n",
              "    <tr>\n",
              "      <th>1</th>\n",
              "      <td>1459193988</td>\n",
              "      <td>CONTENT SHARED</td>\n",
              "      <td>-4110354420726924665</td>\n",
              "      <td>4340306774493623681</td>\n",
              "      <td>8940341205206233829</td>\n",
              "      <td>NaN</td>\n",
              "      <td>NaN</td>\n",
              "      <td>NaN</td>\n",
              "      <td>HTML</td>\n",
              "      <td>http://www.nytimes.com/2016/03/28/business/dea...</td>\n",
              "      <td>Ethereum, a Virtual Currency, Enables Transact...</td>\n",
              "      <td>All of this work is still very early. The firs...</td>\n",
              "      <td>en</td>\n",
              "    </tr>\n",
              "    <tr>\n",
              "      <th>2</th>\n",
              "      <td>1459194146</td>\n",
              "      <td>CONTENT SHARED</td>\n",
              "      <td>-7292285110016212249</td>\n",
              "      <td>4340306774493623681</td>\n",
              "      <td>8940341205206233829</td>\n",
              "      <td>NaN</td>\n",
              "      <td>NaN</td>\n",
              "      <td>NaN</td>\n",
              "      <td>HTML</td>\n",
              "      <td>http://cointelegraph.com/news/bitcoin-future-w...</td>\n",
              "      <td>Bitcoin Future: When GBPcoin of Branson Wins O...</td>\n",
              "      <td>The alarm clock wakes me at 8:00 with stream o...</td>\n",
              "      <td>en</td>\n",
              "    </tr>\n",
              "  </tbody>\n",
              "</table>\n",
              "</div>\n",
              "      <button class=\"colab-df-convert\" onclick=\"convertToInteractive('df-6f74eb0f-33ad-4586-970f-59512904ab21')\"\n",
              "              title=\"Convert this dataframe to an interactive table.\"\n",
              "              style=\"display:none;\">\n",
              "        \n",
              "  <svg xmlns=\"http://www.w3.org/2000/svg\" height=\"24px\"viewBox=\"0 0 24 24\"\n",
              "       width=\"24px\">\n",
              "    <path d=\"M0 0h24v24H0V0z\" fill=\"none\"/>\n",
              "    <path d=\"M18.56 5.44l.94 2.06.94-2.06 2.06-.94-2.06-.94-.94-2.06-.94 2.06-2.06.94zm-11 1L8.5 8.5l.94-2.06 2.06-.94-2.06-.94L8.5 2.5l-.94 2.06-2.06.94zm10 10l.94 2.06.94-2.06 2.06-.94-2.06-.94-.94-2.06-.94 2.06-2.06.94z\"/><path d=\"M17.41 7.96l-1.37-1.37c-.4-.4-.92-.59-1.43-.59-.52 0-1.04.2-1.43.59L10.3 9.45l-7.72 7.72c-.78.78-.78 2.05 0 2.83L4 21.41c.39.39.9.59 1.41.59.51 0 1.02-.2 1.41-.59l7.78-7.78 2.81-2.81c.8-.78.8-2.07 0-2.86zM5.41 20L4 18.59l7.72-7.72 1.47 1.35L5.41 20z\"/>\n",
              "  </svg>\n",
              "      </button>\n",
              "      \n",
              "  <style>\n",
              "    .colab-df-container {\n",
              "      display:flex;\n",
              "      flex-wrap:wrap;\n",
              "      gap: 12px;\n",
              "    }\n",
              "\n",
              "    .colab-df-convert {\n",
              "      background-color: #E8F0FE;\n",
              "      border: none;\n",
              "      border-radius: 50%;\n",
              "      cursor: pointer;\n",
              "      display: none;\n",
              "      fill: #1967D2;\n",
              "      height: 32px;\n",
              "      padding: 0 0 0 0;\n",
              "      width: 32px;\n",
              "    }\n",
              "\n",
              "    .colab-df-convert:hover {\n",
              "      background-color: #E2EBFA;\n",
              "      box-shadow: 0px 1px 2px rgba(60, 64, 67, 0.3), 0px 1px 3px 1px rgba(60, 64, 67, 0.15);\n",
              "      fill: #174EA6;\n",
              "    }\n",
              "\n",
              "    [theme=dark] .colab-df-convert {\n",
              "      background-color: #3B4455;\n",
              "      fill: #D2E3FC;\n",
              "    }\n",
              "\n",
              "    [theme=dark] .colab-df-convert:hover {\n",
              "      background-color: #434B5C;\n",
              "      box-shadow: 0px 1px 3px 1px rgba(0, 0, 0, 0.15);\n",
              "      filter: drop-shadow(0px 1px 2px rgba(0, 0, 0, 0.3));\n",
              "      fill: #FFFFFF;\n",
              "    }\n",
              "  </style>\n",
              "\n",
              "      <script>\n",
              "        const buttonEl =\n",
              "          document.querySelector('#df-6f74eb0f-33ad-4586-970f-59512904ab21 button.colab-df-convert');\n",
              "        buttonEl.style.display =\n",
              "          google.colab.kernel.accessAllowed ? 'block' : 'none';\n",
              "\n",
              "        async function convertToInteractive(key) {\n",
              "          const element = document.querySelector('#df-6f74eb0f-33ad-4586-970f-59512904ab21');\n",
              "          const dataTable =\n",
              "            await google.colab.kernel.invokeFunction('convertToInteractive',\n",
              "                                                     [key], {});\n",
              "          if (!dataTable) return;\n",
              "\n",
              "          const docLinkHtml = 'Like what you see? Visit the ' +\n",
              "            '<a target=\"_blank\" href=https://colab.research.google.com/notebooks/data_table.ipynb>data table notebook</a>'\n",
              "            + ' to learn more about interactive tables.';\n",
              "          element.innerHTML = '';\n",
              "          dataTable['output_type'] = 'display_data';\n",
              "          await google.colab.output.renderOutput(dataTable, element);\n",
              "          const docLink = document.createElement('div');\n",
              "          docLink.innerHTML = docLinkHtml;\n",
              "          element.appendChild(docLink);\n",
              "        }\n",
              "      </script>\n",
              "    </div>\n",
              "  </div>\n",
              "  "
            ]
          },
          "metadata": {},
          "execution_count": 4
        }
      ],
      "source": [
        "articles_df = pd.read_csv(\"articles/shared_articles.csv\")\n",
        "articles_df = articles_df[articles_df[\"eventType\"] == \"CONTENT SHARED\"]\n",
        "articles_df.head(2)"
      ]
    },
    {
      "cell_type": "code",
      "execution_count": null,
      "metadata": {
        "id": "KK9wMAkvSjbk",
        "colab": {
          "base_uri": "https://localhost:8080/",
          "height": 156
        },
        "outputId": "2f51de2a-d818-4f21-bc3d-54193378d658"
      },
      "outputs": [
        {
          "output_type": "execute_result",
          "data": {
            "text/plain": [
              "    timestamp eventType            contentId             personId  \\\n",
              "0  1465413032      VIEW -3499919498720038879 -8845298781299428018   \n",
              "1  1465412560      VIEW  8890720798209849691 -1032019229384696495   \n",
              "\n",
              "             sessionId                                          userAgent  \\\n",
              "0  1264196770339959068                                                NaN   \n",
              "1  3621737643587579081  Mozilla/5.0 (Macintosh; Intel Mac OS X 10_11_2...   \n",
              "\n",
              "  userRegion userCountry  \n",
              "0        NaN         NaN  \n",
              "1         NY          US  "
            ],
            "text/html": [
              "\n",
              "  <div id=\"df-515943f9-b8da-476e-b9b1-ef0c9acdda60\">\n",
              "    <div class=\"colab-df-container\">\n",
              "      <div>\n",
              "<style scoped>\n",
              "    .dataframe tbody tr th:only-of-type {\n",
              "        vertical-align: middle;\n",
              "    }\n",
              "\n",
              "    .dataframe tbody tr th {\n",
              "        vertical-align: top;\n",
              "    }\n",
              "\n",
              "    .dataframe thead th {\n",
              "        text-align: right;\n",
              "    }\n",
              "</style>\n",
              "<table border=\"1\" class=\"dataframe\">\n",
              "  <thead>\n",
              "    <tr style=\"text-align: right;\">\n",
              "      <th></th>\n",
              "      <th>timestamp</th>\n",
              "      <th>eventType</th>\n",
              "      <th>contentId</th>\n",
              "      <th>personId</th>\n",
              "      <th>sessionId</th>\n",
              "      <th>userAgent</th>\n",
              "      <th>userRegion</th>\n",
              "      <th>userCountry</th>\n",
              "    </tr>\n",
              "  </thead>\n",
              "  <tbody>\n",
              "    <tr>\n",
              "      <th>0</th>\n",
              "      <td>1465413032</td>\n",
              "      <td>VIEW</td>\n",
              "      <td>-3499919498720038879</td>\n",
              "      <td>-8845298781299428018</td>\n",
              "      <td>1264196770339959068</td>\n",
              "      <td>NaN</td>\n",
              "      <td>NaN</td>\n",
              "      <td>NaN</td>\n",
              "    </tr>\n",
              "    <tr>\n",
              "      <th>1</th>\n",
              "      <td>1465412560</td>\n",
              "      <td>VIEW</td>\n",
              "      <td>8890720798209849691</td>\n",
              "      <td>-1032019229384696495</td>\n",
              "      <td>3621737643587579081</td>\n",
              "      <td>Mozilla/5.0 (Macintosh; Intel Mac OS X 10_11_2...</td>\n",
              "      <td>NY</td>\n",
              "      <td>US</td>\n",
              "    </tr>\n",
              "  </tbody>\n",
              "</table>\n",
              "</div>\n",
              "      <button class=\"colab-df-convert\" onclick=\"convertToInteractive('df-515943f9-b8da-476e-b9b1-ef0c9acdda60')\"\n",
              "              title=\"Convert this dataframe to an interactive table.\"\n",
              "              style=\"display:none;\">\n",
              "        \n",
              "  <svg xmlns=\"http://www.w3.org/2000/svg\" height=\"24px\"viewBox=\"0 0 24 24\"\n",
              "       width=\"24px\">\n",
              "    <path d=\"M0 0h24v24H0V0z\" fill=\"none\"/>\n",
              "    <path d=\"M18.56 5.44l.94 2.06.94-2.06 2.06-.94-2.06-.94-.94-2.06-.94 2.06-2.06.94zm-11 1L8.5 8.5l.94-2.06 2.06-.94-2.06-.94L8.5 2.5l-.94 2.06-2.06.94zm10 10l.94 2.06.94-2.06 2.06-.94-2.06-.94-.94-2.06-.94 2.06-2.06.94z\"/><path d=\"M17.41 7.96l-1.37-1.37c-.4-.4-.92-.59-1.43-.59-.52 0-1.04.2-1.43.59L10.3 9.45l-7.72 7.72c-.78.78-.78 2.05 0 2.83L4 21.41c.39.39.9.59 1.41.59.51 0 1.02-.2 1.41-.59l7.78-7.78 2.81-2.81c.8-.78.8-2.07 0-2.86zM5.41 20L4 18.59l7.72-7.72 1.47 1.35L5.41 20z\"/>\n",
              "  </svg>\n",
              "      </button>\n",
              "      \n",
              "  <style>\n",
              "    .colab-df-container {\n",
              "      display:flex;\n",
              "      flex-wrap:wrap;\n",
              "      gap: 12px;\n",
              "    }\n",
              "\n",
              "    .colab-df-convert {\n",
              "      background-color: #E8F0FE;\n",
              "      border: none;\n",
              "      border-radius: 50%;\n",
              "      cursor: pointer;\n",
              "      display: none;\n",
              "      fill: #1967D2;\n",
              "      height: 32px;\n",
              "      padding: 0 0 0 0;\n",
              "      width: 32px;\n",
              "    }\n",
              "\n",
              "    .colab-df-convert:hover {\n",
              "      background-color: #E2EBFA;\n",
              "      box-shadow: 0px 1px 2px rgba(60, 64, 67, 0.3), 0px 1px 3px 1px rgba(60, 64, 67, 0.15);\n",
              "      fill: #174EA6;\n",
              "    }\n",
              "\n",
              "    [theme=dark] .colab-df-convert {\n",
              "      background-color: #3B4455;\n",
              "      fill: #D2E3FC;\n",
              "    }\n",
              "\n",
              "    [theme=dark] .colab-df-convert:hover {\n",
              "      background-color: #434B5C;\n",
              "      box-shadow: 0px 1px 3px 1px rgba(0, 0, 0, 0.15);\n",
              "      filter: drop-shadow(0px 1px 2px rgba(0, 0, 0, 0.3));\n",
              "      fill: #FFFFFF;\n",
              "    }\n",
              "  </style>\n",
              "\n",
              "      <script>\n",
              "        const buttonEl =\n",
              "          document.querySelector('#df-515943f9-b8da-476e-b9b1-ef0c9acdda60 button.colab-df-convert');\n",
              "        buttonEl.style.display =\n",
              "          google.colab.kernel.accessAllowed ? 'block' : 'none';\n",
              "\n",
              "        async function convertToInteractive(key) {\n",
              "          const element = document.querySelector('#df-515943f9-b8da-476e-b9b1-ef0c9acdda60');\n",
              "          const dataTable =\n",
              "            await google.colab.kernel.invokeFunction('convertToInteractive',\n",
              "                                                     [key], {});\n",
              "          if (!dataTable) return;\n",
              "\n",
              "          const docLinkHtml = 'Like what you see? Visit the ' +\n",
              "            '<a target=\"_blank\" href=https://colab.research.google.com/notebooks/data_table.ipynb>data table notebook</a>'\n",
              "            + ' to learn more about interactive tables.';\n",
              "          element.innerHTML = '';\n",
              "          dataTable['output_type'] = 'display_data';\n",
              "          await google.colab.output.renderOutput(dataTable, element);\n",
              "          const docLink = document.createElement('div');\n",
              "          docLink.innerHTML = docLinkHtml;\n",
              "          element.appendChild(docLink);\n",
              "        }\n",
              "      </script>\n",
              "    </div>\n",
              "  </div>\n",
              "  "
            ]
          },
          "metadata": {},
          "execution_count": 5
        }
      ],
      "source": [
        "interactions_df = pd.read_csv(\"articles/users_interactions.csv\")\n",
        "interactions_df.head(2)"
      ]
    },
    {
      "cell_type": "code",
      "execution_count": null,
      "metadata": {
        "id": "5nQScdSTTzNG"
      },
      "outputs": [],
      "source": [
        "interactions_df.personId = interactions_df.personId.astype(str)\n",
        "interactions_df.contentId = interactions_df.contentId.astype(str)\n",
        "articles_df.contentId = articles_df.contentId.astype(str)"
      ]
    },
    {
      "cell_type": "code",
      "execution_count": null,
      "metadata": {
        "id": "eu6R9rDQT2P4"
      },
      "outputs": [],
      "source": [
        "# зададим словарь определяющий силу взаимодействия\n",
        "event_type_strength = {\n",
        "    \"VIEW\": 1.0,\n",
        "    \"LIKE\": 2.0,\n",
        "    \"BOOKMARK\": 2.5,\n",
        "    \"FOLLOW\": 3.0,\n",
        "    \"COMMENT CREATED\": 4.0,\n",
        "}\n",
        "\n",
        "interactions_df[\"eventStrength\"] = interactions_df.eventType.apply(\n",
        "    lambda x: event_type_strength[x]\n",
        ")"
      ]
    },
    {
      "cell_type": "markdown",
      "metadata": {
        "id": "ATO5PRRwUkQ0"
      },
      "source": [
        "Оставляем только тех пользователей, которые произамодействовали более чем с пятью статьями."
      ]
    },
    {
      "cell_type": "code",
      "execution_count": null,
      "metadata": {
        "id": "d-0HoboYUBm5",
        "colab": {
          "base_uri": "https://localhost:8080/"
        },
        "outputId": "5d0b0e88-3211-45e5-b85c-781433397f64"
      },
      "outputs": [
        {
          "output_type": "stream",
          "name": "stdout",
          "text": [
            "# users: 1895\n",
            "# users with at least 5 interactions: 1140\n"
          ]
        }
      ],
      "source": [
        "users_interactions_count_df = (\n",
        "    interactions_df.groupby([\"personId\", \"contentId\"])\n",
        "    .first()\n",
        "    .reset_index()\n",
        "    .groupby(\"personId\")\n",
        "    .size()\n",
        ")\n",
        "print(\"# users:\", len(users_interactions_count_df))\n",
        "\n",
        "users_with_enough_interactions_df = users_interactions_count_df[\n",
        "    users_interactions_count_df >= 5\n",
        "].reset_index()[[\"personId\"]]\n",
        "print(\"# users with at least 5 interactions:\", len(users_with_enough_interactions_df))"
      ]
    },
    {
      "cell_type": "markdown",
      "metadata": {
        "id": "gQagI3DHUuX5"
      },
      "source": [
        "Оставляем только те взаимодействия, которые относятся к отфильтрованным пользователям."
      ]
    },
    {
      "cell_type": "code",
      "execution_count": null,
      "metadata": {
        "id": "34rrdGdpUFgk"
      },
      "outputs": [],
      "source": [
        "interactions_from_selected_users_df = interactions_df.loc[\n",
        "    np.in1d(interactions_df.personId, users_with_enough_interactions_df)\n",
        "]"
      ]
    },
    {
      "cell_type": "code",
      "execution_count": null,
      "metadata": {
        "id": "Hd3VS_BgU9HN",
        "colab": {
          "base_uri": "https://localhost:8080/"
        },
        "outputId": "97c6b3d0-c9ed-427b-9f15-c63221c197a0"
      },
      "outputs": [
        {
          "output_type": "stream",
          "name": "stdout",
          "text": [
            "# interactions before: (72312, 9)\n",
            "# interactions after: (69868, 9)\n"
          ]
        }
      ],
      "source": [
        "print(f\"# interactions before: {interactions_df.shape}\")\n",
        "print(f\"# interactions after: {interactions_from_selected_users_df.shape}\")"
      ]
    },
    {
      "cell_type": "markdown",
      "metadata": {
        "id": "FYpRiFkQVR6B"
      },
      "source": [
        "Объединяем все взаимодействия пользователя по каждой статье и сглаживаем полученный результат, взяв от него логарифм."
      ]
    },
    {
      "cell_type": "code",
      "execution_count": null,
      "metadata": {
        "id": "mtPtAehKVEUu",
        "colab": {
          "base_uri": "https://localhost:8080/",
          "height": 206
        },
        "outputId": "e1779a47-9867-4f4c-f0f3-52d33d6cee4f"
      },
      "outputs": [
        {
          "output_type": "execute_result",
          "data": {
            "text/plain": [
              "               personId             contentId  eventStrength  last_timestamp\n",
              "0  -1007001694607905623  -5065077552540450930       1.000000      1470395911\n",
              "1  -1007001694607905623  -6623581327558800021       1.000000      1487240080\n",
              "2  -1007001694607905623   -793729620925729327       1.000000      1472834892\n",
              "3  -1007001694607905623   1469580151036142903       1.000000      1487240062\n",
              "4  -1007001694607905623   7270966256391553686       1.584963      1485994324"
            ],
            "text/html": [
              "\n",
              "  <div id=\"df-2a96d8dc-8983-4913-a7f7-7e125bbcfc84\">\n",
              "    <div class=\"colab-df-container\">\n",
              "      <div>\n",
              "<style scoped>\n",
              "    .dataframe tbody tr th:only-of-type {\n",
              "        vertical-align: middle;\n",
              "    }\n",
              "\n",
              "    .dataframe tbody tr th {\n",
              "        vertical-align: top;\n",
              "    }\n",
              "\n",
              "    .dataframe thead th {\n",
              "        text-align: right;\n",
              "    }\n",
              "</style>\n",
              "<table border=\"1\" class=\"dataframe\">\n",
              "  <thead>\n",
              "    <tr style=\"text-align: right;\">\n",
              "      <th></th>\n",
              "      <th>personId</th>\n",
              "      <th>contentId</th>\n",
              "      <th>eventStrength</th>\n",
              "      <th>last_timestamp</th>\n",
              "    </tr>\n",
              "  </thead>\n",
              "  <tbody>\n",
              "    <tr>\n",
              "      <th>0</th>\n",
              "      <td>-1007001694607905623</td>\n",
              "      <td>-5065077552540450930</td>\n",
              "      <td>1.000000</td>\n",
              "      <td>1470395911</td>\n",
              "    </tr>\n",
              "    <tr>\n",
              "      <th>1</th>\n",
              "      <td>-1007001694607905623</td>\n",
              "      <td>-6623581327558800021</td>\n",
              "      <td>1.000000</td>\n",
              "      <td>1487240080</td>\n",
              "    </tr>\n",
              "    <tr>\n",
              "      <th>2</th>\n",
              "      <td>-1007001694607905623</td>\n",
              "      <td>-793729620925729327</td>\n",
              "      <td>1.000000</td>\n",
              "      <td>1472834892</td>\n",
              "    </tr>\n",
              "    <tr>\n",
              "      <th>3</th>\n",
              "      <td>-1007001694607905623</td>\n",
              "      <td>1469580151036142903</td>\n",
              "      <td>1.000000</td>\n",
              "      <td>1487240062</td>\n",
              "    </tr>\n",
              "    <tr>\n",
              "      <th>4</th>\n",
              "      <td>-1007001694607905623</td>\n",
              "      <td>7270966256391553686</td>\n",
              "      <td>1.584963</td>\n",
              "      <td>1485994324</td>\n",
              "    </tr>\n",
              "  </tbody>\n",
              "</table>\n",
              "</div>\n",
              "      <button class=\"colab-df-convert\" onclick=\"convertToInteractive('df-2a96d8dc-8983-4913-a7f7-7e125bbcfc84')\"\n",
              "              title=\"Convert this dataframe to an interactive table.\"\n",
              "              style=\"display:none;\">\n",
              "        \n",
              "  <svg xmlns=\"http://www.w3.org/2000/svg\" height=\"24px\"viewBox=\"0 0 24 24\"\n",
              "       width=\"24px\">\n",
              "    <path d=\"M0 0h24v24H0V0z\" fill=\"none\"/>\n",
              "    <path d=\"M18.56 5.44l.94 2.06.94-2.06 2.06-.94-2.06-.94-.94-2.06-.94 2.06-2.06.94zm-11 1L8.5 8.5l.94-2.06 2.06-.94-2.06-.94L8.5 2.5l-.94 2.06-2.06.94zm10 10l.94 2.06.94-2.06 2.06-.94-2.06-.94-.94-2.06-.94 2.06-2.06.94z\"/><path d=\"M17.41 7.96l-1.37-1.37c-.4-.4-.92-.59-1.43-.59-.52 0-1.04.2-1.43.59L10.3 9.45l-7.72 7.72c-.78.78-.78 2.05 0 2.83L4 21.41c.39.39.9.59 1.41.59.51 0 1.02-.2 1.41-.59l7.78-7.78 2.81-2.81c.8-.78.8-2.07 0-2.86zM5.41 20L4 18.59l7.72-7.72 1.47 1.35L5.41 20z\"/>\n",
              "  </svg>\n",
              "      </button>\n",
              "      \n",
              "  <style>\n",
              "    .colab-df-container {\n",
              "      display:flex;\n",
              "      flex-wrap:wrap;\n",
              "      gap: 12px;\n",
              "    }\n",
              "\n",
              "    .colab-df-convert {\n",
              "      background-color: #E8F0FE;\n",
              "      border: none;\n",
              "      border-radius: 50%;\n",
              "      cursor: pointer;\n",
              "      display: none;\n",
              "      fill: #1967D2;\n",
              "      height: 32px;\n",
              "      padding: 0 0 0 0;\n",
              "      width: 32px;\n",
              "    }\n",
              "\n",
              "    .colab-df-convert:hover {\n",
              "      background-color: #E2EBFA;\n",
              "      box-shadow: 0px 1px 2px rgba(60, 64, 67, 0.3), 0px 1px 3px 1px rgba(60, 64, 67, 0.15);\n",
              "      fill: #174EA6;\n",
              "    }\n",
              "\n",
              "    [theme=dark] .colab-df-convert {\n",
              "      background-color: #3B4455;\n",
              "      fill: #D2E3FC;\n",
              "    }\n",
              "\n",
              "    [theme=dark] .colab-df-convert:hover {\n",
              "      background-color: #434B5C;\n",
              "      box-shadow: 0px 1px 3px 1px rgba(0, 0, 0, 0.15);\n",
              "      filter: drop-shadow(0px 1px 2px rgba(0, 0, 0, 0.3));\n",
              "      fill: #FFFFFF;\n",
              "    }\n",
              "  </style>\n",
              "\n",
              "      <script>\n",
              "        const buttonEl =\n",
              "          document.querySelector('#df-2a96d8dc-8983-4913-a7f7-7e125bbcfc84 button.colab-df-convert');\n",
              "        buttonEl.style.display =\n",
              "          google.colab.kernel.accessAllowed ? 'block' : 'none';\n",
              "\n",
              "        async function convertToInteractive(key) {\n",
              "          const element = document.querySelector('#df-2a96d8dc-8983-4913-a7f7-7e125bbcfc84');\n",
              "          const dataTable =\n",
              "            await google.colab.kernel.invokeFunction('convertToInteractive',\n",
              "                                                     [key], {});\n",
              "          if (!dataTable) return;\n",
              "\n",
              "          const docLinkHtml = 'Like what you see? Visit the ' +\n",
              "            '<a target=\"_blank\" href=https://colab.research.google.com/notebooks/data_table.ipynb>data table notebook</a>'\n",
              "            + ' to learn more about interactive tables.';\n",
              "          element.innerHTML = '';\n",
              "          dataTable['output_type'] = 'display_data';\n",
              "          await google.colab.output.renderOutput(dataTable, element);\n",
              "          const docLink = document.createElement('div');\n",
              "          docLink.innerHTML = docLinkHtml;\n",
              "          element.appendChild(docLink);\n",
              "        }\n",
              "      </script>\n",
              "    </div>\n",
              "  </div>\n",
              "  "
            ]
          },
          "metadata": {},
          "execution_count": 11
        }
      ],
      "source": [
        "def smooth_user_preference(x):\n",
        "    return math.log(1 + x, 2)\n",
        "\n",
        "\n",
        "interactions_full_df = (\n",
        "    interactions_from_selected_users_df.groupby([\"personId\", \"contentId\"])\n",
        "    .eventStrength.sum()\n",
        "    .apply(smooth_user_preference)\n",
        "    .reset_index()\n",
        "    .set_index([\"personId\", \"contentId\"])\n",
        ")\n",
        "interactions_full_df[\"last_timestamp\"] = interactions_from_selected_users_df.groupby(\n",
        "    [\"personId\", \"contentId\"]\n",
        ")[\"timestamp\"].last()\n",
        "\n",
        "interactions_full_df = interactions_full_df.reset_index()\n",
        "interactions_full_df.head(5)"
      ]
    },
    {
      "cell_type": "markdown",
      "metadata": {
        "id": "ODJYMtnNWM5w"
      },
      "source": [
        "Разобьём выборку на обучение и контроль по времени."
      ]
    },
    {
      "cell_type": "code",
      "execution_count": null,
      "metadata": {
        "id": "3F2CfAwoVrfo",
        "colab": {
          "base_uri": "https://localhost:8080/",
          "height": 458
        },
        "outputId": "35e0367a-2732-4898-bbd3-79f5a2bef0b6"
      },
      "outputs": [
        {
          "output_type": "stream",
          "name": "stdout",
          "text": [
            "# interactions on Train set: 29329\n",
            "# interactions on Test set: 9777\n"
          ]
        },
        {
          "output_type": "execute_result",
          "data": {
            "text/plain": [
              "                   personId             contentId  eventStrength  \\\n",
              "0      -1007001694607905623  -5065077552540450930            1.0   \n",
              "2      -1007001694607905623   -793729620925729327            1.0   \n",
              "6      -1032019229384696495  -1006791494035379303            1.0   \n",
              "7      -1032019229384696495  -1039912738963181810            1.0   \n",
              "8      -1032019229384696495  -1081723567492738167            2.0   \n",
              "...                     ...                   ...            ...   \n",
              "39099    997469202936578234   9112765177685685246            2.0   \n",
              "39100    998688566268269815  -1255189867397298842            1.0   \n",
              "39101    998688566268269815   -401664538366009049            1.0   \n",
              "39103    998688566268269815   6881796783400625893            1.0   \n",
              "39105    998688566268269815    739747367187387064            1.0   \n",
              "\n",
              "       last_timestamp  \n",
              "0          1470395911  \n",
              "2          1472834892  \n",
              "6          1469129122  \n",
              "7          1459376415  \n",
              "8          1464054093  \n",
              "...               ...  \n",
              "39099      1472479493  \n",
              "39100      1474567164  \n",
              "39101      1474567449  \n",
              "39103      1474567675  \n",
              "39105      1474567514  \n",
              "\n",
              "[29329 rows x 4 columns]"
            ],
            "text/html": [
              "\n",
              "  <div id=\"df-7315cfeb-4a55-476f-a25e-f3dbcf54ede9\">\n",
              "    <div class=\"colab-df-container\">\n",
              "      <div>\n",
              "<style scoped>\n",
              "    .dataframe tbody tr th:only-of-type {\n",
              "        vertical-align: middle;\n",
              "    }\n",
              "\n",
              "    .dataframe tbody tr th {\n",
              "        vertical-align: top;\n",
              "    }\n",
              "\n",
              "    .dataframe thead th {\n",
              "        text-align: right;\n",
              "    }\n",
              "</style>\n",
              "<table border=\"1\" class=\"dataframe\">\n",
              "  <thead>\n",
              "    <tr style=\"text-align: right;\">\n",
              "      <th></th>\n",
              "      <th>personId</th>\n",
              "      <th>contentId</th>\n",
              "      <th>eventStrength</th>\n",
              "      <th>last_timestamp</th>\n",
              "    </tr>\n",
              "  </thead>\n",
              "  <tbody>\n",
              "    <tr>\n",
              "      <th>0</th>\n",
              "      <td>-1007001694607905623</td>\n",
              "      <td>-5065077552540450930</td>\n",
              "      <td>1.0</td>\n",
              "      <td>1470395911</td>\n",
              "    </tr>\n",
              "    <tr>\n",
              "      <th>2</th>\n",
              "      <td>-1007001694607905623</td>\n",
              "      <td>-793729620925729327</td>\n",
              "      <td>1.0</td>\n",
              "      <td>1472834892</td>\n",
              "    </tr>\n",
              "    <tr>\n",
              "      <th>6</th>\n",
              "      <td>-1032019229384696495</td>\n",
              "      <td>-1006791494035379303</td>\n",
              "      <td>1.0</td>\n",
              "      <td>1469129122</td>\n",
              "    </tr>\n",
              "    <tr>\n",
              "      <th>7</th>\n",
              "      <td>-1032019229384696495</td>\n",
              "      <td>-1039912738963181810</td>\n",
              "      <td>1.0</td>\n",
              "      <td>1459376415</td>\n",
              "    </tr>\n",
              "    <tr>\n",
              "      <th>8</th>\n",
              "      <td>-1032019229384696495</td>\n",
              "      <td>-1081723567492738167</td>\n",
              "      <td>2.0</td>\n",
              "      <td>1464054093</td>\n",
              "    </tr>\n",
              "    <tr>\n",
              "      <th>...</th>\n",
              "      <td>...</td>\n",
              "      <td>...</td>\n",
              "      <td>...</td>\n",
              "      <td>...</td>\n",
              "    </tr>\n",
              "    <tr>\n",
              "      <th>39099</th>\n",
              "      <td>997469202936578234</td>\n",
              "      <td>9112765177685685246</td>\n",
              "      <td>2.0</td>\n",
              "      <td>1472479493</td>\n",
              "    </tr>\n",
              "    <tr>\n",
              "      <th>39100</th>\n",
              "      <td>998688566268269815</td>\n",
              "      <td>-1255189867397298842</td>\n",
              "      <td>1.0</td>\n",
              "      <td>1474567164</td>\n",
              "    </tr>\n",
              "    <tr>\n",
              "      <th>39101</th>\n",
              "      <td>998688566268269815</td>\n",
              "      <td>-401664538366009049</td>\n",
              "      <td>1.0</td>\n",
              "      <td>1474567449</td>\n",
              "    </tr>\n",
              "    <tr>\n",
              "      <th>39103</th>\n",
              "      <td>998688566268269815</td>\n",
              "      <td>6881796783400625893</td>\n",
              "      <td>1.0</td>\n",
              "      <td>1474567675</td>\n",
              "    </tr>\n",
              "    <tr>\n",
              "      <th>39105</th>\n",
              "      <td>998688566268269815</td>\n",
              "      <td>739747367187387064</td>\n",
              "      <td>1.0</td>\n",
              "      <td>1474567514</td>\n",
              "    </tr>\n",
              "  </tbody>\n",
              "</table>\n",
              "<p>29329 rows × 4 columns</p>\n",
              "</div>\n",
              "      <button class=\"colab-df-convert\" onclick=\"convertToInteractive('df-7315cfeb-4a55-476f-a25e-f3dbcf54ede9')\"\n",
              "              title=\"Convert this dataframe to an interactive table.\"\n",
              "              style=\"display:none;\">\n",
              "        \n",
              "  <svg xmlns=\"http://www.w3.org/2000/svg\" height=\"24px\"viewBox=\"0 0 24 24\"\n",
              "       width=\"24px\">\n",
              "    <path d=\"M0 0h24v24H0V0z\" fill=\"none\"/>\n",
              "    <path d=\"M18.56 5.44l.94 2.06.94-2.06 2.06-.94-2.06-.94-.94-2.06-.94 2.06-2.06.94zm-11 1L8.5 8.5l.94-2.06 2.06-.94-2.06-.94L8.5 2.5l-.94 2.06-2.06.94zm10 10l.94 2.06.94-2.06 2.06-.94-2.06-.94-.94-2.06-.94 2.06-2.06.94z\"/><path d=\"M17.41 7.96l-1.37-1.37c-.4-.4-.92-.59-1.43-.59-.52 0-1.04.2-1.43.59L10.3 9.45l-7.72 7.72c-.78.78-.78 2.05 0 2.83L4 21.41c.39.39.9.59 1.41.59.51 0 1.02-.2 1.41-.59l7.78-7.78 2.81-2.81c.8-.78.8-2.07 0-2.86zM5.41 20L4 18.59l7.72-7.72 1.47 1.35L5.41 20z\"/>\n",
              "  </svg>\n",
              "      </button>\n",
              "      \n",
              "  <style>\n",
              "    .colab-df-container {\n",
              "      display:flex;\n",
              "      flex-wrap:wrap;\n",
              "      gap: 12px;\n",
              "    }\n",
              "\n",
              "    .colab-df-convert {\n",
              "      background-color: #E8F0FE;\n",
              "      border: none;\n",
              "      border-radius: 50%;\n",
              "      cursor: pointer;\n",
              "      display: none;\n",
              "      fill: #1967D2;\n",
              "      height: 32px;\n",
              "      padding: 0 0 0 0;\n",
              "      width: 32px;\n",
              "    }\n",
              "\n",
              "    .colab-df-convert:hover {\n",
              "      background-color: #E2EBFA;\n",
              "      box-shadow: 0px 1px 2px rgba(60, 64, 67, 0.3), 0px 1px 3px 1px rgba(60, 64, 67, 0.15);\n",
              "      fill: #174EA6;\n",
              "    }\n",
              "\n",
              "    [theme=dark] .colab-df-convert {\n",
              "      background-color: #3B4455;\n",
              "      fill: #D2E3FC;\n",
              "    }\n",
              "\n",
              "    [theme=dark] .colab-df-convert:hover {\n",
              "      background-color: #434B5C;\n",
              "      box-shadow: 0px 1px 3px 1px rgba(0, 0, 0, 0.15);\n",
              "      filter: drop-shadow(0px 1px 2px rgba(0, 0, 0, 0.3));\n",
              "      fill: #FFFFFF;\n",
              "    }\n",
              "  </style>\n",
              "\n",
              "      <script>\n",
              "        const buttonEl =\n",
              "          document.querySelector('#df-7315cfeb-4a55-476f-a25e-f3dbcf54ede9 button.colab-df-convert');\n",
              "        buttonEl.style.display =\n",
              "          google.colab.kernel.accessAllowed ? 'block' : 'none';\n",
              "\n",
              "        async function convertToInteractive(key) {\n",
              "          const element = document.querySelector('#df-7315cfeb-4a55-476f-a25e-f3dbcf54ede9');\n",
              "          const dataTable =\n",
              "            await google.colab.kernel.invokeFunction('convertToInteractive',\n",
              "                                                     [key], {});\n",
              "          if (!dataTable) return;\n",
              "\n",
              "          const docLinkHtml = 'Like what you see? Visit the ' +\n",
              "            '<a target=\"_blank\" href=https://colab.research.google.com/notebooks/data_table.ipynb>data table notebook</a>'\n",
              "            + ' to learn more about interactive tables.';\n",
              "          element.innerHTML = '';\n",
              "          dataTable['output_type'] = 'display_data';\n",
              "          await google.colab.output.renderOutput(dataTable, element);\n",
              "          const docLink = document.createElement('div');\n",
              "          docLink.innerHTML = docLinkHtml;\n",
              "          element.appendChild(docLink);\n",
              "        }\n",
              "      </script>\n",
              "    </div>\n",
              "  </div>\n",
              "  "
            ]
          },
          "metadata": {},
          "execution_count": 12
        }
      ],
      "source": [
        "from sklearn.model_selection import train_test_split\n",
        "\n",
        "split_ts = 1475519530\n",
        "interactions_train_df = interactions_full_df.loc[\n",
        "    interactions_full_df.last_timestamp < split_ts\n",
        "].copy()\n",
        "interactions_test_df = interactions_full_df.loc[\n",
        "    interactions_full_df.last_timestamp >= split_ts\n",
        "].copy()\n",
        "\n",
        "print(f\"# interactions on Train set: {len(interactions_train_df)}\")\n",
        "print(f\"# interactions on Test set: {len(interactions_test_df)}\")\n",
        "\n",
        "interactions_train_df"
      ]
    },
    {
      "cell_type": "markdown",
      "metadata": {
        "id": "h5G3FTYOXLVg"
      },
      "source": [
        "Для удобства подсчёта качества запишем данные в формате, где строка соответствует пользователю, а столбцы будут истинными метками и предсказаниями в виде списков."
      ]
    },
    {
      "cell_type": "code",
      "execution_count": null,
      "metadata": {
        "id": "RT-_toqfXOa2",
        "colab": {
          "base_uri": "https://localhost:8080/",
          "height": 112
        },
        "outputId": "3f4ae68f-52b2-425e-d09d-2a4ec71c215d"
      },
      "outputs": [
        {
          "output_type": "execute_result",
          "data": {
            "text/plain": [
              "                                                       true_train  \\\n",
              "personId                                                            \n",
              "-1007001694607905623  [-5065077552540450930, -793729620925729327]   \n",
              "\n",
              "                                                              true_test  \n",
              "personId                                                                 \n",
              "-1007001694607905623  [-6623581327558800021, 1469580151036142903, 72...  "
            ],
            "text/html": [
              "\n",
              "  <div id=\"df-9f7e0061-999f-443f-bfac-2fe843801bd8\">\n",
              "    <div class=\"colab-df-container\">\n",
              "      <div>\n",
              "<style scoped>\n",
              "    .dataframe tbody tr th:only-of-type {\n",
              "        vertical-align: middle;\n",
              "    }\n",
              "\n",
              "    .dataframe tbody tr th {\n",
              "        vertical-align: top;\n",
              "    }\n",
              "\n",
              "    .dataframe thead th {\n",
              "        text-align: right;\n",
              "    }\n",
              "</style>\n",
              "<table border=\"1\" class=\"dataframe\">\n",
              "  <thead>\n",
              "    <tr style=\"text-align: right;\">\n",
              "      <th></th>\n",
              "      <th>true_train</th>\n",
              "      <th>true_test</th>\n",
              "    </tr>\n",
              "    <tr>\n",
              "      <th>personId</th>\n",
              "      <th></th>\n",
              "      <th></th>\n",
              "    </tr>\n",
              "  </thead>\n",
              "  <tbody>\n",
              "    <tr>\n",
              "      <th>-1007001694607905623</th>\n",
              "      <td>[-5065077552540450930, -793729620925729327]</td>\n",
              "      <td>[-6623581327558800021, 1469580151036142903, 72...</td>\n",
              "    </tr>\n",
              "  </tbody>\n",
              "</table>\n",
              "</div>\n",
              "      <button class=\"colab-df-convert\" onclick=\"convertToInteractive('df-9f7e0061-999f-443f-bfac-2fe843801bd8')\"\n",
              "              title=\"Convert this dataframe to an interactive table.\"\n",
              "              style=\"display:none;\">\n",
              "        \n",
              "  <svg xmlns=\"http://www.w3.org/2000/svg\" height=\"24px\"viewBox=\"0 0 24 24\"\n",
              "       width=\"24px\">\n",
              "    <path d=\"M0 0h24v24H0V0z\" fill=\"none\"/>\n",
              "    <path d=\"M18.56 5.44l.94 2.06.94-2.06 2.06-.94-2.06-.94-.94-2.06-.94 2.06-2.06.94zm-11 1L8.5 8.5l.94-2.06 2.06-.94-2.06-.94L8.5 2.5l-.94 2.06-2.06.94zm10 10l.94 2.06.94-2.06 2.06-.94-2.06-.94-.94-2.06-.94 2.06-2.06.94z\"/><path d=\"M17.41 7.96l-1.37-1.37c-.4-.4-.92-.59-1.43-.59-.52 0-1.04.2-1.43.59L10.3 9.45l-7.72 7.72c-.78.78-.78 2.05 0 2.83L4 21.41c.39.39.9.59 1.41.59.51 0 1.02-.2 1.41-.59l7.78-7.78 2.81-2.81c.8-.78.8-2.07 0-2.86zM5.41 20L4 18.59l7.72-7.72 1.47 1.35L5.41 20z\"/>\n",
              "  </svg>\n",
              "      </button>\n",
              "      \n",
              "  <style>\n",
              "    .colab-df-container {\n",
              "      display:flex;\n",
              "      flex-wrap:wrap;\n",
              "      gap: 12px;\n",
              "    }\n",
              "\n",
              "    .colab-df-convert {\n",
              "      background-color: #E8F0FE;\n",
              "      border: none;\n",
              "      border-radius: 50%;\n",
              "      cursor: pointer;\n",
              "      display: none;\n",
              "      fill: #1967D2;\n",
              "      height: 32px;\n",
              "      padding: 0 0 0 0;\n",
              "      width: 32px;\n",
              "    }\n",
              "\n",
              "    .colab-df-convert:hover {\n",
              "      background-color: #E2EBFA;\n",
              "      box-shadow: 0px 1px 2px rgba(60, 64, 67, 0.3), 0px 1px 3px 1px rgba(60, 64, 67, 0.15);\n",
              "      fill: #174EA6;\n",
              "    }\n",
              "\n",
              "    [theme=dark] .colab-df-convert {\n",
              "      background-color: #3B4455;\n",
              "      fill: #D2E3FC;\n",
              "    }\n",
              "\n",
              "    [theme=dark] .colab-df-convert:hover {\n",
              "      background-color: #434B5C;\n",
              "      box-shadow: 0px 1px 3px 1px rgba(0, 0, 0, 0.15);\n",
              "      filter: drop-shadow(0px 1px 2px rgba(0, 0, 0, 0.3));\n",
              "      fill: #FFFFFF;\n",
              "    }\n",
              "  </style>\n",
              "\n",
              "      <script>\n",
              "        const buttonEl =\n",
              "          document.querySelector('#df-9f7e0061-999f-443f-bfac-2fe843801bd8 button.colab-df-convert');\n",
              "        buttonEl.style.display =\n",
              "          google.colab.kernel.accessAllowed ? 'block' : 'none';\n",
              "\n",
              "        async function convertToInteractive(key) {\n",
              "          const element = document.querySelector('#df-9f7e0061-999f-443f-bfac-2fe843801bd8');\n",
              "          const dataTable =\n",
              "            await google.colab.kernel.invokeFunction('convertToInteractive',\n",
              "                                                     [key], {});\n",
              "          if (!dataTable) return;\n",
              "\n",
              "          const docLinkHtml = 'Like what you see? Visit the ' +\n",
              "            '<a target=\"_blank\" href=https://colab.research.google.com/notebooks/data_table.ipynb>data table notebook</a>'\n",
              "            + ' to learn more about interactive tables.';\n",
              "          element.innerHTML = '';\n",
              "          dataTable['output_type'] = 'display_data';\n",
              "          await google.colab.output.renderOutput(dataTable, element);\n",
              "          const docLink = document.createElement('div');\n",
              "          docLink.innerHTML = docLinkHtml;\n",
              "          element.appendChild(docLink);\n",
              "        }\n",
              "      </script>\n",
              "    </div>\n",
              "  </div>\n",
              "  "
            ]
          },
          "metadata": {},
          "execution_count": 13
        }
      ],
      "source": [
        "interactions = (\n",
        "    interactions_train_df.groupby(\"personId\")[\"contentId\"]\n",
        "    .agg(lambda x: list(x))\n",
        "    .reset_index()\n",
        "    .rename(columns={\"contentId\": \"true_train\"})\n",
        "    .set_index(\"personId\")\n",
        ")\n",
        "\n",
        "interactions[\"true_test\"] = interactions_test_df.groupby(\"personId\")[\"contentId\"].agg(\n",
        "    lambda x: list(x)\n",
        ")\n",
        "\n",
        "# заполнение пропусков пустыми списками\n",
        "interactions.loc[pd.isnull(interactions.true_test), \"true_test\"] = [\n",
        "    \"\"\n",
        "    for x in range(\n",
        "        len(interactions.loc[pd.isnull(interactions.true_test), \"true_test\"])\n",
        "    )\n",
        "]\n",
        "\n",
        "interactions.head(1)"
      ]
    },
    {
      "cell_type": "markdown",
      "metadata": {
        "id": "-UWDyWKsamSa"
      },
      "source": [
        "# Библиотека LightFM"
      ]
    },
    {
      "cell_type": "markdown",
      "metadata": {
        "id": "L-iXjvdZa25Z"
      },
      "source": [
        "Для рекомендации Вы будете пользоваться библиотекой [LightFM](https://making.lyst.com/lightfm/docs/home.html), в которой реализованы популярные алгоритмы. Для оценивания качества рекомендации, как и на семинаре, будем пользоваться метрикой *precision@10*."
      ]
    },
    {
      "cell_type": "code",
      "execution_count": null,
      "metadata": {
        "id": "GE_chrYN2lNw",
        "colab": {
          "base_uri": "https://localhost:8080/"
        },
        "outputId": "7049b417-8985-4069-a842-0433d813df11"
      },
      "outputs": [
        {
          "output_type": "stream",
          "name": "stdout",
          "text": [
            "Looking in indexes: https://pypi.org/simple, https://us-python.pkg.dev/colab-wheels/public/simple/\n",
            "Requirement already satisfied: lightfm in /usr/local/lib/python3.9/dist-packages (1.17)\n",
            "Requirement already satisfied: scikit-learn in /usr/local/lib/python3.9/dist-packages (from lightfm) (1.2.2)\n",
            "Requirement already satisfied: requests in /usr/local/lib/python3.9/dist-packages (from lightfm) (2.27.1)\n",
            "Requirement already satisfied: numpy in /usr/local/lib/python3.9/dist-packages (from lightfm) (1.22.4)\n",
            "Requirement already satisfied: scipy>=0.17.0 in /usr/local/lib/python3.9/dist-packages (from lightfm) (1.10.1)\n",
            "Requirement already satisfied: urllib3<1.27,>=1.21.1 in /usr/local/lib/python3.9/dist-packages (from requests->lightfm) (1.26.15)\n",
            "Requirement already satisfied: certifi>=2017.4.17 in /usr/local/lib/python3.9/dist-packages (from requests->lightfm) (2022.12.7)\n",
            "Requirement already satisfied: idna<4,>=2.5 in /usr/local/lib/python3.9/dist-packages (from requests->lightfm) (3.4)\n",
            "Requirement already satisfied: charset-normalizer~=2.0.0 in /usr/local/lib/python3.9/dist-packages (from requests->lightfm) (2.0.12)\n",
            "Requirement already satisfied: joblib>=1.1.1 in /usr/local/lib/python3.9/dist-packages (from scikit-learn->lightfm) (1.1.1)\n",
            "Requirement already satisfied: threadpoolctl>=2.0.0 in /usr/local/lib/python3.9/dist-packages (from scikit-learn->lightfm) (3.1.0)\n"
          ]
        }
      ],
      "source": [
        "!pip install lightfm"
      ]
    },
    {
      "cell_type": "code",
      "execution_count": null,
      "metadata": {
        "id": "Qtyn38PZXPLf"
      },
      "outputs": [],
      "source": [
        "from lightfm import LightFM\n",
        "from lightfm.evaluation import precision_at_k\n",
        "from lightfm.data import Dataset"
      ]
    },
    {
      "cell_type": "markdown",
      "metadata": {
        "id": "0CjyGqulcZTf"
      },
      "source": [
        "## Задание 1 (1.5 балла)"
      ]
    },
    {
      "cell_type": "markdown",
      "metadata": {
        "id": "4Sof6V5Dd4h9"
      },
      "source": [
        "Модели в LightFM работают с разреженными матрицами. Создайте разреженные матрицы `data_train` и `data_test` (размером количество пользователей на количество статей), такие что на пересечении строки пользователя и столбца статьи стоит сила их взаимодействия, если взаимодействие было, и стоит ноль, если взаимодействия не было."
      ]
    },
    {
      "cell_type": "code",
      "execution_count": null,
      "metadata": {
        "id": "1cLZ5ga4eIdg"
      },
      "outputs": [],
      "source": [
        "# Ваш код здесь\n",
        "def lightfm_dataset(df, user, item):\n",
        "    data = Dataset()\n",
        "    data.fit(df[user], df[item])\n",
        "    return data"
      ]
    },
    {
      "cell_type": "code",
      "source": [
        "data = lightfm_dataset(interactions_full_df, \"personId\", \"contentId\")\n",
        "\n",
        "data_train = data.build_interactions(interactions_train_df[[\"personId\", \"contentId\", \"eventStrength\"]].apply(tuple, axis=1))[1]\n",
        "data_test = data.build_interactions(interactions_test_df[[\"personId\", \"contentId\", \"eventStrength\"]].apply(tuple, axis=1))[1]"
      ],
      "metadata": {
        "id": "IT3aAmXwxoO-"
      },
      "execution_count": null,
      "outputs": []
    },
    {
      "cell_type": "markdown",
      "metadata": {
        "id": "AiNGVzTveRXE"
      },
      "source": [
        "## Задание 2 (0.5 балла)"
      ]
    },
    {
      "cell_type": "markdown",
      "metadata": {
        "id": "ZPfVK3STeryM"
      },
      "source": [
        "Обучите модель LightFM с `loss=\"warp\"` и посчитайте *precision@10* на тесте."
      ]
    },
    {
      "cell_type": "code",
      "execution_count": null,
      "metadata": {
        "id": "YFQxeHw8eVLz",
        "colab": {
          "base_uri": "https://localhost:8080/"
        },
        "outputId": "06378c99-f50e-43a1-8d6c-13742497d83f"
      },
      "outputs": [
        {
          "output_type": "execute_result",
          "data": {
            "text/plain": [
              "0.0071283095"
            ]
          },
          "metadata": {},
          "execution_count": 18
        }
      ],
      "source": [
        "# Ваш код здесь\n",
        "lightFM = LightFM(loss = 'warp', random_state=42)\n",
        "\n",
        "lightFM.fit(data_train, epochs=50)\n",
        "\n",
        "precision_at_k(lightFM, data_test, data_train, 10).mean()"
      ]
    },
    {
      "cell_type": "markdown",
      "metadata": {
        "id": "qZDsG1iAfdrl"
      },
      "source": [
        "## Задание 3 (2 балла)"
      ]
    },
    {
      "cell_type": "markdown",
      "metadata": {
        "id": "F93chvtbgA9N"
      },
      "source": [
        "При вызове метода `fit` LightFM позволяет передавать в `item_features` признаковое описание объектов. Воспользуемся этим. Будем получать признаковое описание из текста статьи в виде [TF-IDF](https://ru.wikipedia.org/wiki/TF-IDF) (можно воспользоваться `TfidfVectorizer` из scikit-learn). Создайте матрицу `feat` размером количесвто статей на размер признакового описание и обучите LightFM с `loss=\"warp\"` и посчитайте precision@10 на тесте."
      ]
    },
    {
      "cell_type": "code",
      "source": [
        "# Ваш код здесь\n",
        "from sklearn.feature_extraction.text import TfidfVectorizer\n",
        "\n",
        "df_text = pd.merge(interactions_full_df['contentId'].drop_duplicates(), \n",
        "                   articles_df[['contentId', 'text']], \n",
        "                   how='left', on='contentId').fillna(\"\")\n",
        "\n",
        "tf_idf = TfidfVectorizer()\n",
        "\n",
        "feat = tf_idf.fit_transform(df_text['text'])\n",
        "\n",
        "feat"
      ],
      "metadata": {
        "colab": {
          "base_uri": "https://localhost:8080/"
        },
        "id": "7eHHXDy0zeYf",
        "outputId": "328ae8ec-1716-4605-9244-a7836edb2b48"
      },
      "execution_count": null,
      "outputs": [
        {
          "output_type": "execute_result",
          "data": {
            "text/plain": [
              "<2984x71875 sparse matrix of type '<class 'numpy.float64'>'\n",
              "\twith 1041129 stored elements in Compressed Sparse Row format>"
            ]
          },
          "metadata": {},
          "execution_count": 19
        }
      ]
    },
    {
      "cell_type": "code",
      "execution_count": null,
      "metadata": {
        "id": "5SvUi_Fofgf5",
        "colab": {
          "base_uri": "https://localhost:8080/"
        },
        "outputId": "6be511d2-eb6b-4096-864e-9b28097bc9e7"
      },
      "outputs": [
        {
          "output_type": "execute_result",
          "data": {
            "text/plain": [
              "0.007942974"
            ]
          },
          "metadata": {},
          "execution_count": 20
        }
      ],
      "source": [
        "lightFM_feat = LightFM(loss = 'warp', random_state=42)\n",
        "\n",
        "lightFM_feat.fit(data_train, epochs=50, item_features=feat)\n",
        "                                   \n",
        "precision_at_k(lightFM_feat, data_test, data_train, 10, item_features=feat).mean()"
      ]
    },
    {
      "cell_type": "markdown",
      "metadata": {
        "id": "8Lwuex6PpsFw"
      },
      "source": [
        "## Задание 4 (1.5 балла)"
      ]
    },
    {
      "cell_type": "markdown",
      "metadata": {
        "id": "5aZcHjSzp2cZ"
      },
      "source": [
        "В задании 3 мы использовали сырой текст статей. В этом задании необходимо сначала сделать предобработку текста (привести к нижнему регистру, убрать стоп слова, привести слова к номральной форме и т.д.), после чего обучите модель и оценить качество на тестовых данных."
      ]
    },
    {
      "cell_type": "code",
      "source": [
        "!pip install pymorphy2\n",
        "import re\n",
        "from pymorphy2 import MorphAnalyzer\n",
        "from functools import lru_cache\n",
        "from nltk.corpus import stopwords\n",
        "\n",
        "from multiprocessing import Pool\n",
        "from tqdm import tqdm\n",
        "\n",
        "import nltk\n",
        "nltk.download('stopwords')\n"
      ],
      "metadata": {
        "colab": {
          "base_uri": "https://localhost:8080/"
        },
        "id": "n9K7OGKy5Xh9",
        "outputId": "c4dcb2de-67f7-4f03-d567-b8fb4a19550f"
      },
      "execution_count": null,
      "outputs": [
        {
          "output_type": "stream",
          "name": "stdout",
          "text": [
            "Looking in indexes: https://pypi.org/simple, https://us-python.pkg.dev/colab-wheels/public/simple/\n",
            "Requirement already satisfied: pymorphy2 in /usr/local/lib/python3.9/dist-packages (0.9.1)\n",
            "Requirement already satisfied: docopt>=0.6 in /usr/local/lib/python3.9/dist-packages (from pymorphy2) (0.6.2)\n",
            "Requirement already satisfied: pymorphy2-dicts-ru<3.0,>=2.4 in /usr/local/lib/python3.9/dist-packages (from pymorphy2) (2.4.417127.4579844)\n",
            "Requirement already satisfied: dawg-python>=0.7.1 in /usr/local/lib/python3.9/dist-packages (from pymorphy2) (0.7.2)\n"
          ]
        },
        {
          "output_type": "stream",
          "name": "stderr",
          "text": [
            "[nltk_data] Downloading package stopwords to /root/nltk_data...\n",
            "[nltk_data]   Package stopwords is already up-to-date!\n"
          ]
        },
        {
          "output_type": "execute_result",
          "data": {
            "text/plain": [
              "True"
            ]
          },
          "metadata": {},
          "execution_count": 21
        }
      ]
    },
    {
      "cell_type": "code",
      "source": [
        "articles_df['lang'].value_counts()"
      ],
      "metadata": {
        "colab": {
          "base_uri": "https://localhost:8080/"
        },
        "id": "roUWgjNL8yVy",
        "outputId": "544b26c7-38f3-4e78-97cf-f22f67404317"
      },
      "execution_count": null,
      "outputs": [
        {
          "output_type": "execute_result",
          "data": {
            "text/plain": [
              "en    2211\n",
              "pt     829\n",
              "la       3\n",
              "es       2\n",
              "ja       2\n",
              "Name: lang, dtype: int64"
            ]
          },
          "metadata": {},
          "execution_count": 22
        }
      ]
    },
    {
      "cell_type": "code",
      "source": [
        "m = MorphAnalyzer()\n",
        "regex = re.compile(\"\\w+\")\n",
        "\n",
        "def words_only(text, regex=regex):\n",
        "    try:\n",
        "        return regex.findall(text.lower())\n",
        "    except:\n",
        "        return []\n",
        "\n",
        "@lru_cache(maxsize=128)\n",
        "def lemmatize_word(token, pymorphy=m):\n",
        "    return pymorphy.parse(token)[0].normal_form\n",
        "\n",
        "def lemmatize_text(text):\n",
        "    return [lemmatize_word(w) for w in text]\n",
        "\n",
        "\n",
        "mystopwords = [*stopwords.words('english'), *stopwords.words('portuguese')]\n",
        "def remove_stopwords(lemmas, stopwords = mystopwords):\n",
        "    return [w for w in lemmas if not w in stopwords and len(w) > 3]\n",
        "\n",
        "def clean_text(text):\n",
        "    tokens = words_only(text)\n",
        "    lemmas = lemmatize_text(tokens)\n",
        "    \n",
        "    return ' '.join(remove_stopwords(lemmas))"
      ],
      "metadata": {
        "id": "MCbLR_uB5Okl"
      },
      "execution_count": null,
      "outputs": []
    },
    {
      "cell_type": "code",
      "source": [
        "with Pool(4) as p:\n",
        "    lemmas = list(tqdm(p.imap(clean_text, df_text['text']), total=len(df_text)))\n",
        "    \n",
        "df_text['lemmas'] = lemmas\n",
        "df_text.sample(5)"
      ],
      "metadata": {
        "colab": {
          "base_uri": "https://localhost:8080/",
          "height": 224
        },
        "id": "IPzHvTiz5RwC",
        "outputId": "bb027df4-c368-4521-9c75-a9e40c793507"
      },
      "execution_count": null,
      "outputs": [
        {
          "output_type": "stream",
          "name": "stderr",
          "text": [
            "100%|██████████| 2984/2984 [01:02<00:00, 47.86it/s]\n"
          ]
        },
        {
          "output_type": "execute_result",
          "data": {
            "text/plain": [
              "                 contentId                                               text  \\\n",
              "1421   2399228553079505025  Three years ago, our venture capital firm bega...   \n",
              "2059  -5444306124868253918  Os CEOs não estão suscetíveis em reduzir os ga...   \n",
              "2810   4532698165746826599  And how DevOps can help Your company decides t...   \n",
              "2528  -5786811453218931415  Muitos jovens têm ideias inovadoras e uma vont...   \n",
              "132   -4531029390350541169  This isn't exactly about a feature. Features a...   \n",
              "\n",
              "                                                 lemmas  \n",
              "1421  three years venture capital firm began studyin...  \n",
              "2059  ceos suscetíveis reduzir gastos tecnologia fac...  \n",
              "2810  devops help company decides bring digital expe...  \n",
              "2528  muitos jovens ideias inovadoras vontade enorme...  \n",
              "132   exactly feature features verbs mobile product ...  "
            ],
            "text/html": [
              "\n",
              "  <div id=\"df-9393ded5-1d31-4af9-8939-fe3277f7910e\">\n",
              "    <div class=\"colab-df-container\">\n",
              "      <div>\n",
              "<style scoped>\n",
              "    .dataframe tbody tr th:only-of-type {\n",
              "        vertical-align: middle;\n",
              "    }\n",
              "\n",
              "    .dataframe tbody tr th {\n",
              "        vertical-align: top;\n",
              "    }\n",
              "\n",
              "    .dataframe thead th {\n",
              "        text-align: right;\n",
              "    }\n",
              "</style>\n",
              "<table border=\"1\" class=\"dataframe\">\n",
              "  <thead>\n",
              "    <tr style=\"text-align: right;\">\n",
              "      <th></th>\n",
              "      <th>contentId</th>\n",
              "      <th>text</th>\n",
              "      <th>lemmas</th>\n",
              "    </tr>\n",
              "  </thead>\n",
              "  <tbody>\n",
              "    <tr>\n",
              "      <th>1421</th>\n",
              "      <td>2399228553079505025</td>\n",
              "      <td>Three years ago, our venture capital firm bega...</td>\n",
              "      <td>three years venture capital firm began studyin...</td>\n",
              "    </tr>\n",
              "    <tr>\n",
              "      <th>2059</th>\n",
              "      <td>-5444306124868253918</td>\n",
              "      <td>Os CEOs não estão suscetíveis em reduzir os ga...</td>\n",
              "      <td>ceos suscetíveis reduzir gastos tecnologia fac...</td>\n",
              "    </tr>\n",
              "    <tr>\n",
              "      <th>2810</th>\n",
              "      <td>4532698165746826599</td>\n",
              "      <td>And how DevOps can help Your company decides t...</td>\n",
              "      <td>devops help company decides bring digital expe...</td>\n",
              "    </tr>\n",
              "    <tr>\n",
              "      <th>2528</th>\n",
              "      <td>-5786811453218931415</td>\n",
              "      <td>Muitos jovens têm ideias inovadoras e uma vont...</td>\n",
              "      <td>muitos jovens ideias inovadoras vontade enorme...</td>\n",
              "    </tr>\n",
              "    <tr>\n",
              "      <th>132</th>\n",
              "      <td>-4531029390350541169</td>\n",
              "      <td>This isn't exactly about a feature. Features a...</td>\n",
              "      <td>exactly feature features verbs mobile product ...</td>\n",
              "    </tr>\n",
              "  </tbody>\n",
              "</table>\n",
              "</div>\n",
              "      <button class=\"colab-df-convert\" onclick=\"convertToInteractive('df-9393ded5-1d31-4af9-8939-fe3277f7910e')\"\n",
              "              title=\"Convert this dataframe to an interactive table.\"\n",
              "              style=\"display:none;\">\n",
              "        \n",
              "  <svg xmlns=\"http://www.w3.org/2000/svg\" height=\"24px\"viewBox=\"0 0 24 24\"\n",
              "       width=\"24px\">\n",
              "    <path d=\"M0 0h24v24H0V0z\" fill=\"none\"/>\n",
              "    <path d=\"M18.56 5.44l.94 2.06.94-2.06 2.06-.94-2.06-.94-.94-2.06-.94 2.06-2.06.94zm-11 1L8.5 8.5l.94-2.06 2.06-.94-2.06-.94L8.5 2.5l-.94 2.06-2.06.94zm10 10l.94 2.06.94-2.06 2.06-.94-2.06-.94-.94-2.06-.94 2.06-2.06.94z\"/><path d=\"M17.41 7.96l-1.37-1.37c-.4-.4-.92-.59-1.43-.59-.52 0-1.04.2-1.43.59L10.3 9.45l-7.72 7.72c-.78.78-.78 2.05 0 2.83L4 21.41c.39.39.9.59 1.41.59.51 0 1.02-.2 1.41-.59l7.78-7.78 2.81-2.81c.8-.78.8-2.07 0-2.86zM5.41 20L4 18.59l7.72-7.72 1.47 1.35L5.41 20z\"/>\n",
              "  </svg>\n",
              "      </button>\n",
              "      \n",
              "  <style>\n",
              "    .colab-df-container {\n",
              "      display:flex;\n",
              "      flex-wrap:wrap;\n",
              "      gap: 12px;\n",
              "    }\n",
              "\n",
              "    .colab-df-convert {\n",
              "      background-color: #E8F0FE;\n",
              "      border: none;\n",
              "      border-radius: 50%;\n",
              "      cursor: pointer;\n",
              "      display: none;\n",
              "      fill: #1967D2;\n",
              "      height: 32px;\n",
              "      padding: 0 0 0 0;\n",
              "      width: 32px;\n",
              "    }\n",
              "\n",
              "    .colab-df-convert:hover {\n",
              "      background-color: #E2EBFA;\n",
              "      box-shadow: 0px 1px 2px rgba(60, 64, 67, 0.3), 0px 1px 3px 1px rgba(60, 64, 67, 0.15);\n",
              "      fill: #174EA6;\n",
              "    }\n",
              "\n",
              "    [theme=dark] .colab-df-convert {\n",
              "      background-color: #3B4455;\n",
              "      fill: #D2E3FC;\n",
              "    }\n",
              "\n",
              "    [theme=dark] .colab-df-convert:hover {\n",
              "      background-color: #434B5C;\n",
              "      box-shadow: 0px 1px 3px 1px rgba(0, 0, 0, 0.15);\n",
              "      filter: drop-shadow(0px 1px 2px rgba(0, 0, 0, 0.3));\n",
              "      fill: #FFFFFF;\n",
              "    }\n",
              "  </style>\n",
              "\n",
              "      <script>\n",
              "        const buttonEl =\n",
              "          document.querySelector('#df-9393ded5-1d31-4af9-8939-fe3277f7910e button.colab-df-convert');\n",
              "        buttonEl.style.display =\n",
              "          google.colab.kernel.accessAllowed ? 'block' : 'none';\n",
              "\n",
              "        async function convertToInteractive(key) {\n",
              "          const element = document.querySelector('#df-9393ded5-1d31-4af9-8939-fe3277f7910e');\n",
              "          const dataTable =\n",
              "            await google.colab.kernel.invokeFunction('convertToInteractive',\n",
              "                                                     [key], {});\n",
              "          if (!dataTable) return;\n",
              "\n",
              "          const docLinkHtml = 'Like what you see? Visit the ' +\n",
              "            '<a target=\"_blank\" href=https://colab.research.google.com/notebooks/data_table.ipynb>data table notebook</a>'\n",
              "            + ' to learn more about interactive tables.';\n",
              "          element.innerHTML = '';\n",
              "          dataTable['output_type'] = 'display_data';\n",
              "          await google.colab.output.renderOutput(dataTable, element);\n",
              "          const docLink = document.createElement('div');\n",
              "          docLink.innerHTML = docLinkHtml;\n",
              "          element.appendChild(docLink);\n",
              "        }\n",
              "      </script>\n",
              "    </div>\n",
              "  </div>\n",
              "  "
            ]
          },
          "metadata": {},
          "execution_count": 24
        }
      ]
    },
    {
      "cell_type": "code",
      "source": [
        "feat2 = tf_idf.fit_transform(df_text['lemmas'])\n",
        "\n",
        "feat2"
      ],
      "metadata": {
        "colab": {
          "base_uri": "https://localhost:8080/"
        },
        "id": "4vTaQwHT5Rsu",
        "outputId": "0a8e9516-c523-4fe7-9602-b35c8095b52e"
      },
      "execution_count": null,
      "outputs": [
        {
          "output_type": "execute_result",
          "data": {
            "text/plain": [
              "<2984x67392 sparse matrix of type '<class 'numpy.float64'>'\n",
              "\twith 805885 stored elements in Compressed Sparse Row format>"
            ]
          },
          "metadata": {},
          "execution_count": 25
        }
      ]
    },
    {
      "cell_type": "code",
      "source": [
        "lightFM_feat_norm = LightFM(loss = 'warp', random_state=42)\n",
        "\n",
        "lightFM_feat_norm.fit(data_train, epochs=50, item_features=feat2)\n",
        "                                   \n",
        "precision_at_k(lightFM_feat_norm, data_test, data_train, 10, item_features=feat2).mean()"
      ],
      "metadata": {
        "id": "8wBex1Z85ObU",
        "colab": {
          "base_uri": "https://localhost:8080/"
        },
        "outputId": "227a34c7-808b-4daf-b582-2d9823c37df4"
      },
      "execution_count": null,
      "outputs": [
        {
          "output_type": "execute_result",
          "data": {
            "text/plain": [
              "0.008452139"
            ]
          },
          "metadata": {},
          "execution_count": 26
        }
      ]
    },
    {
      "cell_type": "markdown",
      "metadata": {
        "id": "VgayAPRpqn7L"
      },
      "source": [
        "Улучшилось ли качество предсказания?\n",
        "\n",
        "**Ответ:** *качество предсказания в принципе не очень высокое, но получше, чем без предобработки текста*"
      ]
    },
    {
      "cell_type": "markdown",
      "metadata": {
        "id": "XKRzLLodq3gq"
      },
      "source": [
        "## Задание 5 (1.5 балла)"
      ]
    },
    {
      "cell_type": "markdown",
      "metadata": {
        "id": "brjHl49Aq8su"
      },
      "source": [
        "Подберите гиперпараметры модели LightFM (`n_components` и др.) для улучшения качества модели."
      ]
    },
    {
      "cell_type": "code",
      "execution_count": null,
      "metadata": {
        "id": "PlwaeCiZqncD",
        "colab": {
          "base_uri": "https://localhost:8080/"
        },
        "outputId": "affb33ab-5c14-4827-bee3-f58a9d1177bb"
      },
      "outputs": [
        {
          "output_type": "stream",
          "name": "stderr",
          "text": [
            "100%|██████████| 20/20 [01:35<00:00,  4.77s/it]\n"
          ]
        }
      ],
      "source": [
        "# Ваш код здесь\n",
        "best = 0\n",
        "best_num = 0\n",
        "best_params = dict()\n",
        "\n",
        "for i in tqdm(range(20)):\n",
        "    np.random.seed(i)\n",
        "    # Значения параметров для перебора отсюда: https://stackoverflow.com/questions/49896816/how-do-i-optimize-the-hyperparameters-of-lightfm\n",
        "    # в параметры распределений передавались базовые параметры LightFM\n",
        "    params = {\"no_components\": np.random.randint(16, 64),\n",
        "            \"learning_schedule\": np.random.choice([\"adagrad\", \"adadelta\"]),\n",
        "            \"loss\": np.random.choice([\"bpr\", \"warp\", \"warp-kos\"]),\n",
        "            \"learning_rate\": np.random.exponential(0.05),\n",
        "            \"item_alpha\": np.random.exponential(1e-8),\n",
        "            \"user_alpha\": np.random.exponential(1e-8),\n",
        "            \"max_sampled\": np.random.randint(5, 15),\n",
        "            }\n",
        "\n",
        "    lightFM_opt = LightFM(**params, random_state=42)\n",
        "\n",
        "    lightFM_opt.fit(data_train, epochs=50)\n",
        "    precision_k = precision_at_k(lightFM_opt, data_test, data_train, 10).mean()\n",
        "                                   \n",
        "    params['precision_k'] = precision_k\n",
        "    best_params[i] = params\n",
        "\n",
        "    if precision_k > best:\n",
        "        best = precision_k\n",
        "        best_num = i\n"
      ]
    },
    {
      "cell_type": "code",
      "source": [
        "def without_keys(d, keys):\n",
        "    return {k: v for k, v in d.items() if k not in keys}\n",
        "\n",
        "par = without_keys(best_params[best_num], 'precision_k')\n",
        "\n",
        "\n",
        "lightFM_opt = LightFM(**par, random_state=42)\n",
        "\n",
        "lightFM_opt.fit(data_train, epochs=50, item_features=feat2)"
      ],
      "metadata": {
        "id": "9XzqVJWJPYoL"
      },
      "execution_count": null,
      "outputs": []
    },
    {
      "cell_type": "code",
      "source": [
        "precision_at_k(lightFM_opt, data_test, data_train, 10, item_features=feat2).mean()"
      ],
      "metadata": {
        "colab": {
          "base_uri": "https://localhost:8080/"
        },
        "id": "xg0NBh2DDetv",
        "outputId": "3d745e6d-34cf-44b2-9360-65e3f84f25e3"
      },
      "execution_count": null,
      "outputs": [
        {
          "output_type": "execute_result",
          "data": {
            "text/plain": [
              "0.009063136"
            ]
          },
          "metadata": {},
          "execution_count": 40
        }
      ]
    },
    {
      "cell_type": "markdown",
      "metadata": {
        "id": "xJA7v07NrYSF"
      },
      "source": [
        "## Задание 6 (1 балл)"
      ]
    },
    {
      "cell_type": "markdown",
      "metadata": {
        "id": "veLFUoVRrisk"
      },
      "source": [
        "Реализуйте функции для вычисления следующих метрик:\n",
        "* precision@k\n",
        "* recall@k\n",
        "* NDCG@k\n",
        "\n"
      ]
    },
    {
      "cell_type": "code",
      "source": [
        "# для отдельного пользователя\n",
        "def single_precision(pred_values, true_values, k):\n",
        "    top_k = pred_values[:k]\n",
        "    TP = np.in1d(top_k, true_values).sum()\n",
        "    return TP / k\n",
        "    # return TP / min(len(true_values) + 0.0001, k)\n",
        "\n",
        "def single_recall(pred_values, true_values, k):\n",
        "    top_k = pred_values[:k]\n",
        "    TP = np.in1d(top_k, true_values).sum()\n",
        "    return TP / len(true_values)\n",
        "\n",
        "def single_ndcg(pred_values, true_values, k):\n",
        "    top_k = pred_values[:k]\n",
        "    sorted_true_values = np.argsort(true_values)[::-1]\n",
        "    DCG = 0\n",
        "    IDCG = 0\n",
        "\n",
        "    for i_num, i in enumerate(top_k):\n",
        "        # скор предсказанного айтема с юзером в тесте\n",
        "        score = true_values[i]\n",
        "        # позиция данного айтема в отсортированном тесте\n",
        "        pos = np.where(sorted_true_values == i)[0]\n",
        "        g = 2**score - 1\n",
        "        d = 1 / np.log2(pos+1+1)[0] # +1 чтобы не делить на ноль (с 1 начинается список предсказаний)\n",
        "        DCG += g * d\n",
        "\n",
        "        # скор реальных самых релевантных айтемов\n",
        "        score_idcg = true_values[sorted_true_values[i_num]]\n",
        "        # порядковый номер реальных самых релевантных айтемов\n",
        "        pos_idcg = i_num\n",
        "        g_idcg = 2**score_idcg - 1\n",
        "        d_idcg = 1 / np.log2(pos_idcg+1+1)\n",
        "        IDCG += g_idcg * d_idcg\n",
        "\n",
        "    return DCG/IDCG\n",
        "\n",
        "# для всех пользователей\n",
        "def my_precision_k(df, recommendations_col, true_values_col, k):\n",
        "    return df.apply(lambda row: single_precision(row[recommendations_col], row[true_values_col], k), axis=1).mean()\n",
        "        \n",
        "def my_recall_k(df, recommendations_col, true_values_col, k):\n",
        "    return df.apply(lambda row: single_recall(row[recommendations_col], row[true_values_col], k), axis=1).mean()\n",
        "\n",
        "def my_nDCG_k(df, recommendations_col, true_values, k):\n",
        "    return df.apply(lambda row: single_ndcg(row[recommendations_col], true_values.toarray()[row.name, :], k), axis=1).mean()"
      ],
      "metadata": {
        "id": "yu3xhy3FnV14"
      },
      "execution_count": null,
      "outputs": []
    },
    {
      "cell_type": "markdown",
      "source": [
        "## Задание 7 (1 балл)"
      ],
      "metadata": {
        "id": "YE5L-ise3Bq_"
      }
    },
    {
      "cell_type": "markdown",
      "source": [
        "Вычислите значения реализованных метрик для $k=10$ для лучшей полученной модели в предыдущих шагах.\n",
        "\n",
        "Найдите уже реализованные варианты этих метрик в библиотеках lightfm и sklearn. Сравните полученные у вас значения метрик с результатами встроенных в библиотеки метрик."
      ],
      "metadata": {
        "id": "7bqmjJMH3DB7"
      }
    },
    {
      "cell_type": "code",
      "source": [
        "# Для предсказания по лучшей модели без уже просмотренных\n",
        "\n",
        "# на выходe: список айтемов отсортированных по recommendation score и список отсортированных recommendation score\n",
        "def predict_without_prev_values(model, prev_matrix, pred_matrix, user_matrix_id, item_features):\n",
        "    # пользователь уже читал\n",
        "    prev_values = prev_matrix.toarray()[user_matrix_id, :].nonzero()[0]\n",
        "\n",
        "    # рекомендации пользователю\n",
        "    pr = model.predict(user_matrix_id, np.arange(pred_matrix.shape[1]), item_features=item_features)\n",
        "    recommend = np.argsort(pr)[::-1] # сортируем рекомендации\n",
        "\n",
        "    # убираем из рекомендаций те, что уже читал\n",
        "    recommend = recommend[~np.in1d(recommend, prev_values)]\n",
        "    # recommend[np.in1d(recommend, prev_values)] = -\n",
        "\n",
        "    return recommend\n"
      ],
      "metadata": {
        "id": "Vs3x2O5Z3Cgo"
      },
      "execution_count": null,
      "outputs": []
    },
    {
      "cell_type": "code",
      "source": [
        "# получаем рекомендации для каждого пользователя\n",
        "recommendations = []\n",
        "for id in range(data_test.shape[0]):\n",
        "    single_rec = predict_without_prev_values(lightFM_opt, data_train, data_test, id, feat2)\n",
        "    recommendations.append(single_rec)\n",
        "\n",
        "def insertion(array):\n",
        "    if len(array) == 0:\n",
        "        return None\n",
        "    else:\n",
        "        return array\n",
        "\n",
        "# датафрейм из предсказаний и реальных значений\n",
        "df_res = pd.DataFrame({'recommendations': recommendations, \n",
        "                       'true_values':     [np.nonzero(t)[0] for t in data_test.toarray()]})\n",
        "\n",
        "# уберем тех пользователей, у которых список реальных значений пуст\n",
        "df_res['true_values'] = df_res['true_values'].apply(lambda row: insertion(row))\n",
        "df_res = df_res[~df_res['true_values'].isna()]\n",
        "df_res.head()"
      ],
      "metadata": {
        "colab": {
          "base_uri": "https://localhost:8080/",
          "height": 206
        },
        "id": "fkehAAmhwbAH",
        "outputId": "e0f4c553-1263-4fec-d55e-a52954ee09f0"
      },
      "execution_count": null,
      "outputs": [
        {
          "output_type": "execute_result",
          "data": {
            "text/plain": [
              "                                     recommendations  \\\n",
              "0  [959, 655, 966, 223, 824, 1244, 879, 884, 210,...   \n",
              "1  [1788, 2718, 2354, 2112, 2052, 968, 766, 662, ...   \n",
              "2  [652, 1284, 600, 1566, 2507, 546, 1580, 580, 1...   \n",
              "3  [824, 655, 959, 989, 223, 343, 300, 613, 968, ...   \n",
              "4  [122, 419, 1604, 62, 666, 621, 322, 1733, 282,...   \n",
              "\n",
              "                                         true_values  \n",
              "0                                       [1, 3, 4, 5]  \n",
              "1  [16, 51, 58, 60, 61, 75, 76, 97, 102, 121, 123...  \n",
              "2  [58, 131, 401, 559, 667, 669, 676, 683, 693, 7...  \n",
              "3                     [795, 796, 797, 798, 799, 800]  \n",
              "4  [131, 364, 559, 750, 804, 805, 807, 809, 812, ...  "
            ],
            "text/html": [
              "\n",
              "  <div id=\"df-739590e6-1136-4254-9d7f-4b7b886cb826\">\n",
              "    <div class=\"colab-df-container\">\n",
              "      <div>\n",
              "<style scoped>\n",
              "    .dataframe tbody tr th:only-of-type {\n",
              "        vertical-align: middle;\n",
              "    }\n",
              "\n",
              "    .dataframe tbody tr th {\n",
              "        vertical-align: top;\n",
              "    }\n",
              "\n",
              "    .dataframe thead th {\n",
              "        text-align: right;\n",
              "    }\n",
              "</style>\n",
              "<table border=\"1\" class=\"dataframe\">\n",
              "  <thead>\n",
              "    <tr style=\"text-align: right;\">\n",
              "      <th></th>\n",
              "      <th>recommendations</th>\n",
              "      <th>true_values</th>\n",
              "    </tr>\n",
              "  </thead>\n",
              "  <tbody>\n",
              "    <tr>\n",
              "      <th>0</th>\n",
              "      <td>[959, 655, 966, 223, 824, 1244, 879, 884, 210,...</td>\n",
              "      <td>[1, 3, 4, 5]</td>\n",
              "    </tr>\n",
              "    <tr>\n",
              "      <th>1</th>\n",
              "      <td>[1788, 2718, 2354, 2112, 2052, 968, 766, 662, ...</td>\n",
              "      <td>[16, 51, 58, 60, 61, 75, 76, 97, 102, 121, 123...</td>\n",
              "    </tr>\n",
              "    <tr>\n",
              "      <th>2</th>\n",
              "      <td>[652, 1284, 600, 1566, 2507, 546, 1580, 580, 1...</td>\n",
              "      <td>[58, 131, 401, 559, 667, 669, 676, 683, 693, 7...</td>\n",
              "    </tr>\n",
              "    <tr>\n",
              "      <th>3</th>\n",
              "      <td>[824, 655, 959, 989, 223, 343, 300, 613, 968, ...</td>\n",
              "      <td>[795, 796, 797, 798, 799, 800]</td>\n",
              "    </tr>\n",
              "    <tr>\n",
              "      <th>4</th>\n",
              "      <td>[122, 419, 1604, 62, 666, 621, 322, 1733, 282,...</td>\n",
              "      <td>[131, 364, 559, 750, 804, 805, 807, 809, 812, ...</td>\n",
              "    </tr>\n",
              "  </tbody>\n",
              "</table>\n",
              "</div>\n",
              "      <button class=\"colab-df-convert\" onclick=\"convertToInteractive('df-739590e6-1136-4254-9d7f-4b7b886cb826')\"\n",
              "              title=\"Convert this dataframe to an interactive table.\"\n",
              "              style=\"display:none;\">\n",
              "        \n",
              "  <svg xmlns=\"http://www.w3.org/2000/svg\" height=\"24px\"viewBox=\"0 0 24 24\"\n",
              "       width=\"24px\">\n",
              "    <path d=\"M0 0h24v24H0V0z\" fill=\"none\"/>\n",
              "    <path d=\"M18.56 5.44l.94 2.06.94-2.06 2.06-.94-2.06-.94-.94-2.06-.94 2.06-2.06.94zm-11 1L8.5 8.5l.94-2.06 2.06-.94-2.06-.94L8.5 2.5l-.94 2.06-2.06.94zm10 10l.94 2.06.94-2.06 2.06-.94-2.06-.94-.94-2.06-.94 2.06-2.06.94z\"/><path d=\"M17.41 7.96l-1.37-1.37c-.4-.4-.92-.59-1.43-.59-.52 0-1.04.2-1.43.59L10.3 9.45l-7.72 7.72c-.78.78-.78 2.05 0 2.83L4 21.41c.39.39.9.59 1.41.59.51 0 1.02-.2 1.41-.59l7.78-7.78 2.81-2.81c.8-.78.8-2.07 0-2.86zM5.41 20L4 18.59l7.72-7.72 1.47 1.35L5.41 20z\"/>\n",
              "  </svg>\n",
              "      </button>\n",
              "      \n",
              "  <style>\n",
              "    .colab-df-container {\n",
              "      display:flex;\n",
              "      flex-wrap:wrap;\n",
              "      gap: 12px;\n",
              "    }\n",
              "\n",
              "    .colab-df-convert {\n",
              "      background-color: #E8F0FE;\n",
              "      border: none;\n",
              "      border-radius: 50%;\n",
              "      cursor: pointer;\n",
              "      display: none;\n",
              "      fill: #1967D2;\n",
              "      height: 32px;\n",
              "      padding: 0 0 0 0;\n",
              "      width: 32px;\n",
              "    }\n",
              "\n",
              "    .colab-df-convert:hover {\n",
              "      background-color: #E2EBFA;\n",
              "      box-shadow: 0px 1px 2px rgba(60, 64, 67, 0.3), 0px 1px 3px 1px rgba(60, 64, 67, 0.15);\n",
              "      fill: #174EA6;\n",
              "    }\n",
              "\n",
              "    [theme=dark] .colab-df-convert {\n",
              "      background-color: #3B4455;\n",
              "      fill: #D2E3FC;\n",
              "    }\n",
              "\n",
              "    [theme=dark] .colab-df-convert:hover {\n",
              "      background-color: #434B5C;\n",
              "      box-shadow: 0px 1px 3px 1px rgba(0, 0, 0, 0.15);\n",
              "      filter: drop-shadow(0px 1px 2px rgba(0, 0, 0, 0.3));\n",
              "      fill: #FFFFFF;\n",
              "    }\n",
              "  </style>\n",
              "\n",
              "      <script>\n",
              "        const buttonEl =\n",
              "          document.querySelector('#df-739590e6-1136-4254-9d7f-4b7b886cb826 button.colab-df-convert');\n",
              "        buttonEl.style.display =\n",
              "          google.colab.kernel.accessAllowed ? 'block' : 'none';\n",
              "\n",
              "        async function convertToInteractive(key) {\n",
              "          const element = document.querySelector('#df-739590e6-1136-4254-9d7f-4b7b886cb826');\n",
              "          const dataTable =\n",
              "            await google.colab.kernel.invokeFunction('convertToInteractive',\n",
              "                                                     [key], {});\n",
              "          if (!dataTable) return;\n",
              "\n",
              "          const docLinkHtml = 'Like what you see? Visit the ' +\n",
              "            '<a target=\"_blank\" href=https://colab.research.google.com/notebooks/data_table.ipynb>data table notebook</a>'\n",
              "            + ' to learn more about interactive tables.';\n",
              "          element.innerHTML = '';\n",
              "          dataTable['output_type'] = 'display_data';\n",
              "          await google.colab.output.renderOutput(dataTable, element);\n",
              "          const docLink = document.createElement('div');\n",
              "          docLink.innerHTML = docLinkHtml;\n",
              "          element.appendChild(docLink);\n",
              "        }\n",
              "      </script>\n",
              "    </div>\n",
              "  </div>\n",
              "  "
            ]
          },
          "metadata": {},
          "execution_count": 42
        }
      ]
    },
    {
      "cell_type": "code",
      "source": [
        "print(f\"my_precision@k: {my_precision_k(df_res, 'recommendations', 'true_values', k=10):.6f}\")\n",
        "print(f\"my_recall@k:    {my_recall_k(df_res, 'recommendations', 'true_values', k=10):.6f}\")\n",
        "print(f\"my_nDCG@k:      {my_nDCG_k(df_res, 'recommendations', data_test, k=10):.6f}\")"
      ],
      "metadata": {
        "colab": {
          "base_uri": "https://localhost:8080/"
        },
        "id": "VaSSnCWJw3OY",
        "outputId": "9b14b8e1-344e-4518-cb79-e7adc2001a0e"
      },
      "execution_count": null,
      "outputs": [
        {
          "output_type": "stream",
          "name": "stdout",
          "text": [
            "my_precision@k: 0.009063\n",
            "my_recall@k:    0.011647\n",
            "my_nDCG@k:      0.020723\n"
          ]
        }
      ]
    },
    {
      "cell_type": "code",
      "source": [
        "from lightfm.evaluation import recall_at_k\n",
        "from sklearn.metrics import ndcg_score\n",
        "\n",
        "print(f\"lightFM precision@k: {precision_at_k(lightFM_opt, data_test, data_train, k=10, item_features=feat2).mean():.6f}\")\n",
        "print(f\"lightFM recall@k:    {recall_at_k(lightFM_opt, data_test, data_train, k=10, item_features=feat2).mean():.6f}\")\n",
        "\n",
        "# поправлю функцию, чтобы получать скоры в предикте, а не сразу нужный порядок\n",
        "def predict_scores(model, prev_matrix, pred_matrix, user_matrix_id):\n",
        "    # пользователь уже читал\n",
        "    prev_values = prev_matrix.toarray()[user_matrix_id, :]\n",
        "    prev_values = np.where(prev_values != 0, False, True)\n",
        "\n",
        "    # скоры рекомендаций пользователю\n",
        "    pr = model.predict(user_matrix_id, np.arange(pred_matrix.shape[1]))\n",
        "\n",
        "    return pr[prev_values]\n",
        "\n",
        "sk_ndcg = df_res.apply(lambda row: ndcg_score(\n",
        "                        np.asarray([data_test.toarray()[row.name, :][np.where([data_train.toarray()[row.name, :] == 0])[1]]]), \n",
        "                        np.asarray([predict_scores(lightFM_opt, data_train, data_test, row.name)]), k=10), axis=1).mean()\n",
        "\n",
        "print(f\"sklearn nDCG@k:      {sk_ndcg:.6f}\")\n"
      ],
      "metadata": {
        "colab": {
          "base_uri": "https://localhost:8080/"
        },
        "id": "WVAG_nu6c_Kw",
        "outputId": "11216508-1bea-4404-be92-df10800b6d6b"
      },
      "execution_count": null,
      "outputs": [
        {
          "output_type": "stream",
          "name": "stdout",
          "text": [
            "lightFM precision@k: 0.009063\n",
            "lightFM recall@k:    0.011647\n",
            "sklearn nDCG@k:      0.001318\n"
          ]
        }
      ]
    },
    {
      "cell_type": "markdown",
      "source": [
        "*Результаты самописных метрик сходятся со встроенными. (но в precision@k - используется в знаменателе значение k, вне зависимости от кол-ва реальных значений. делал замену на min(len(true_values) + 0.0001, k) [закомментировано в коде] и сразу были расхождения, хотя кажется что так правильнее)*\n",
        "\n",
        "*Расхождение есть в nDCG, но объясняется используемой внутри sklearn метрики формулой, отличающуюся от той, что давали на лекции. Решил делать по той, которую понял + наверно по-другому работает со значениями, по которым нет тестовых наблюдений, я же их оставлял*"
      ],
      "metadata": {
        "id": "83VwYb9jwQRl"
      }
    },
    {
      "cell_type": "markdown",
      "source": [
        "## Задание 8 (1 балл)\n",
        "\n",
        "Реализуйте алгоритм ALS и примените его для решения задачи ноутбука."
      ],
      "metadata": {
        "id": "t78oSTQz3Y6u"
      }
    },
    {
      "cell_type": "markdown",
      "source": [
        "**ALS**\n",
        "\n",
        "Итак, поставлена задача построения модели со скрытыми переменными (latent factor model) для коллаборативной фильтрации:\n",
        "\n",
        "$$ \\sum_{u,i} (r_{ui} - \\langle p_u, q_i \\rangle)^2 \\to \\min_{P,Q}$$\n",
        "\n",
        "Суммирование ведется по всем парам $(u, i),$ для которых известен рейтинг $r_{ui}$ (и только по ним), а $p_u, q_i$ – латентные представления пользователя~$u$ и товара $i$, соответственно, матрицы $P, Q$ получаются путем записывания по столбцам векторов $p_u, q_i$ соответственно.\n",
        "\n",
        "Подход ALS (Alternating Least Squares) решает задачу, попеременно фиксируя матрицы $P$ и $Q$, — оказывается, что, зафиксировав одну из матриц, можно выписать аналитическое решение задачи для другой.\n",
        "\n",
        "$$\\nabla_{p_u} \\bigg[ \\sum_{u,i} (r_{ui} - \\langle p_u, q_i \\rangle)^2 \\bigg] = \\sum_{i} 2(r_{ui} - \\langle p_u, q_i \\rangle)q_i = 0$$\n",
        "\n",
        "Воспользовавшись тем, что $a^Tbc = cb^Ta$, получим\n",
        "$$\\sum_{i} r_{ui}q_i - \\sum_i q_i q_i^T p_u = 0.$$\n",
        "\n",
        "Тогда окончательно каждый столбец матрицы $P$ можно найти по формуле\n",
        "$$p_u = \\bigg( \\sum_i q_i q_i^T\\bigg)^{-1}\\sum_ir_{ui}q_i \\;\\; \\forall u,$$\n",
        "\n",
        "аналогично для столбцов матрицы $Q$\n",
        "$$q_i = \\bigg( \\sum_u p_u p_u^T\\bigg)^{-1}\\sum_ur_{ui}p_u \\;\\; \\forall i.$$\n",
        "\n",
        "Таким образом мы можем решать оптимизационную задачу, поочередно фиксируя одну из матриц $P$ или $Q$ и проводя оптимизацию по второй.\n",
        "\n",
        "**Оригинальная статья c постановкой задачи для ALS на explicit feedback:**\n",
        "\n",
        "* Bell, R.M. and Koren, Y., 2007, October. Scalable collaborative filtering with jointly derived neighborhood interpolation weights. In Seventh IEEE international conference on data mining (ICDM 2007) (pp. 43-52). IEEE.\n",
        "\n",
        "**Оригинальная статья с ALS для implicit данных, которая стала более известной:**\n",
        "\n",
        "* Hu, Y., Koren, Y. and Volinsky, C., 2008, December. Collaborative filtering for implicit feedback datasets. In 2008 Eighth IEEE international conference on data mining (pp. 263-272). Ieee.\n"
      ],
      "metadata": {
        "id": "voZ9GsE54EZT"
      }
    },
    {
      "cell_type": "code",
      "source": [
        "!pip install implicit\n",
        "import implicit \n",
        "import scipy.sparse as sparse"
      ],
      "metadata": {
        "colab": {
          "base_uri": "https://localhost:8080/"
        },
        "id": "OrSxOScO3SxK",
        "outputId": "ce90ff84-3ffd-44be-9729-0f9285c3fceb"
      },
      "execution_count": null,
      "outputs": [
        {
          "output_type": "stream",
          "name": "stdout",
          "text": [
            "Looking in indexes: https://pypi.org/simple, https://us-python.pkg.dev/colab-wheels/public/simple/\n",
            "Requirement already satisfied: implicit in /usr/local/lib/python3.9/dist-packages (0.6.2)\n",
            "Requirement already satisfied: numpy in /usr/local/lib/python3.9/dist-packages (from implicit) (1.22.4)\n",
            "Requirement already satisfied: tqdm>=4.27 in /usr/local/lib/python3.9/dist-packages (from implicit) (4.65.0)\n",
            "Requirement already satisfied: scipy>=0.16 in /usr/local/lib/python3.9/dist-packages (from implicit) (1.10.1)\n"
          ]
        },
        {
          "output_type": "stream",
          "name": "stderr",
          "text": [
            "/usr/local/lib/python3.9/dist-packages/implicit/gpu/__init__.py:13: UserWarning: CUDA extension is built, but disabling GPU support because of 'Cuda Error: no CUDA-capable device is detected (/project/./implicit/gpu/utils.h:71)'\n",
            "  warnings.warn(\n"
          ]
        }
      ]
    },
    {
      "cell_type": "code",
      "source": [
        "model = implicit.als.AlternatingLeastSquares(factors=20, regularization=0.1, iterations=20)\n",
        "\n",
        "data_to_fit = (data_train * 40).astype('double') \n",
        "model.fit(data_to_fit)"
      ],
      "metadata": {
        "id": "7cDRmFLs4DnT",
        "colab": {
          "base_uri": "https://localhost:8080/",
          "height": 104,
          "referenced_widgets": [
            "90a95c4ea46d4eb2a8505335f657ab2e",
            "c9e31f9b1a744c84a6a4487aba0011b8",
            "b05f1fcdfd654571a7694496124490b8",
            "a33a292782474d409935a70a28ebbe5e",
            "fad4f3d53a8949c8b9ec6c412c6aba38",
            "a307b3fb1dc5470594b47ea0f4166f50",
            "b2bba8a97faa4012b8d467658455b11d",
            "ebd8e21bc6784b71a6bd0104f8d444d1",
            "d898a5bdba014e31a120e340788a45b3",
            "7be5113aad5542cfb369bae86c766426",
            "9a1047698ca941118fe091a5ade1183d"
          ]
        },
        "outputId": "d678ef33-3c6c-4693-8f70-73e4eb48c68c"
      },
      "execution_count": null,
      "outputs": [
        {
          "output_type": "stream",
          "name": "stderr",
          "text": [
            "/usr/local/lib/python3.9/dist-packages/implicit/utils.py:138: ParameterWarning: Method expects CSR input, and was passed coo_matrix instead. Converting to CSR took 0.0006892681121826172 seconds\n",
            "  warnings.warn(\n"
          ]
        },
        {
          "output_type": "display_data",
          "data": {
            "text/plain": [
              "  0%|          | 0/20 [00:00<?, ?it/s]"
            ],
            "application/vnd.jupyter.widget-view+json": {
              "version_major": 2,
              "version_minor": 0,
              "model_id": "90a95c4ea46d4eb2a8505335f657ab2e"
            }
          },
          "metadata": {}
        }
      ]
    },
    {
      "cell_type": "code",
      "source": [
        "recs = []\n",
        "for i in np.arange(data_test.shape[0]):\n",
        "    recs.append(model.recommend(i, data_test.tocsr()[i], filter_already_liked_items=False)[0])\n"
      ],
      "metadata": {
        "id": "RJMmf6cS3xAz"
      },
      "execution_count": null,
      "outputs": []
    },
    {
      "cell_type": "code",
      "source": [
        "df_als = pd.DataFrame({'recommendations': recs, \n",
        "                       'true_values':     [np.nonzero(t)[0] for t in data_test.toarray()]})\n",
        "\n",
        "df_als['true_values'] = df_als['true_values'].apply(lambda row: insertion(row))\n",
        "df_als = df_als[~df_als['true_values'].isna()]"
      ],
      "metadata": {
        "id": "6otlfKiw8rj7"
      },
      "execution_count": null,
      "outputs": []
    },
    {
      "cell_type": "code",
      "source": [
        "print(f\"my_precision@k: {my_precision_k(df_als, 'recommendations', 'true_values', k=10):.6f}\")\n",
        "print(f\"my_recall@k:    {my_recall_k(df_als, 'recommendations', 'true_values', k=10):.6f}\")\n",
        "print(f\"my_nDCG@k:      {my_nDCG_k(df_als, 'recommendations', data_test, k=10):.6f}\")"
      ],
      "metadata": {
        "colab": {
          "base_uri": "https://localhost:8080/"
        },
        "id": "RUWKFUIJ8yfo",
        "outputId": "f162de18-98d1-459f-a0f5-cf7e2ffbfde4"
      },
      "execution_count": null,
      "outputs": [
        {
          "output_type": "stream",
          "name": "stdout",
          "text": [
            "my_precision@k: 0.006314\n",
            "my_recall@k:    0.006708\n",
            "my_nDCG@k:      0.011967\n"
          ]
        }
      ]
    }
  ],
  "metadata": {
    "colab": {
      "provenance": []
    },
    "kernelspec": {
      "display_name": "Python 3 (ipykernel)",
      "language": "python",
      "name": "python3"
    },
    "language_info": {
      "codemirror_mode": {
        "name": "ipython",
        "version": 3
      },
      "file_extension": ".py",
      "mimetype": "text/x-python",
      "name": "python",
      "nbconvert_exporter": "python",
      "pygments_lexer": "ipython3",
      "version": "3.9.10"
    },
    "widgets": {
      "application/vnd.jupyter.widget-state+json": {
        "90a95c4ea46d4eb2a8505335f657ab2e": {
          "model_module": "@jupyter-widgets/controls",
          "model_name": "HBoxModel",
          "model_module_version": "1.5.0",
          "state": {
            "_dom_classes": [],
            "_model_module": "@jupyter-widgets/controls",
            "_model_module_version": "1.5.0",
            "_model_name": "HBoxModel",
            "_view_count": null,
            "_view_module": "@jupyter-widgets/controls",
            "_view_module_version": "1.5.0",
            "_view_name": "HBoxView",
            "box_style": "",
            "children": [
              "IPY_MODEL_c9e31f9b1a744c84a6a4487aba0011b8",
              "IPY_MODEL_b05f1fcdfd654571a7694496124490b8",
              "IPY_MODEL_a33a292782474d409935a70a28ebbe5e"
            ],
            "layout": "IPY_MODEL_fad4f3d53a8949c8b9ec6c412c6aba38"
          }
        },
        "c9e31f9b1a744c84a6a4487aba0011b8": {
          "model_module": "@jupyter-widgets/controls",
          "model_name": "HTMLModel",
          "model_module_version": "1.5.0",
          "state": {
            "_dom_classes": [],
            "_model_module": "@jupyter-widgets/controls",
            "_model_module_version": "1.5.0",
            "_model_name": "HTMLModel",
            "_view_count": null,
            "_view_module": "@jupyter-widgets/controls",
            "_view_module_version": "1.5.0",
            "_view_name": "HTMLView",
            "description": "",
            "description_tooltip": null,
            "layout": "IPY_MODEL_a307b3fb1dc5470594b47ea0f4166f50",
            "placeholder": "​",
            "style": "IPY_MODEL_b2bba8a97faa4012b8d467658455b11d",
            "value": "100%"
          }
        },
        "b05f1fcdfd654571a7694496124490b8": {
          "model_module": "@jupyter-widgets/controls",
          "model_name": "FloatProgressModel",
          "model_module_version": "1.5.0",
          "state": {
            "_dom_classes": [],
            "_model_module": "@jupyter-widgets/controls",
            "_model_module_version": "1.5.0",
            "_model_name": "FloatProgressModel",
            "_view_count": null,
            "_view_module": "@jupyter-widgets/controls",
            "_view_module_version": "1.5.0",
            "_view_name": "ProgressView",
            "bar_style": "success",
            "description": "",
            "description_tooltip": null,
            "layout": "IPY_MODEL_ebd8e21bc6784b71a6bd0104f8d444d1",
            "max": 20,
            "min": 0,
            "orientation": "horizontal",
            "style": "IPY_MODEL_d898a5bdba014e31a120e340788a45b3",
            "value": 20
          }
        },
        "a33a292782474d409935a70a28ebbe5e": {
          "model_module": "@jupyter-widgets/controls",
          "model_name": "HTMLModel",
          "model_module_version": "1.5.0",
          "state": {
            "_dom_classes": [],
            "_model_module": "@jupyter-widgets/controls",
            "_model_module_version": "1.5.0",
            "_model_name": "HTMLModel",
            "_view_count": null,
            "_view_module": "@jupyter-widgets/controls",
            "_view_module_version": "1.5.0",
            "_view_name": "HTMLView",
            "description": "",
            "description_tooltip": null,
            "layout": "IPY_MODEL_7be5113aad5542cfb369bae86c766426",
            "placeholder": "​",
            "style": "IPY_MODEL_9a1047698ca941118fe091a5ade1183d",
            "value": " 20/20 [00:05&lt;00:00,  3.13it/s]"
          }
        },
        "fad4f3d53a8949c8b9ec6c412c6aba38": {
          "model_module": "@jupyter-widgets/base",
          "model_name": "LayoutModel",
          "model_module_version": "1.2.0",
          "state": {
            "_model_module": "@jupyter-widgets/base",
            "_model_module_version": "1.2.0",
            "_model_name": "LayoutModel",
            "_view_count": null,
            "_view_module": "@jupyter-widgets/base",
            "_view_module_version": "1.2.0",
            "_view_name": "LayoutView",
            "align_content": null,
            "align_items": null,
            "align_self": null,
            "border": null,
            "bottom": null,
            "display": null,
            "flex": null,
            "flex_flow": null,
            "grid_area": null,
            "grid_auto_columns": null,
            "grid_auto_flow": null,
            "grid_auto_rows": null,
            "grid_column": null,
            "grid_gap": null,
            "grid_row": null,
            "grid_template_areas": null,
            "grid_template_columns": null,
            "grid_template_rows": null,
            "height": null,
            "justify_content": null,
            "justify_items": null,
            "left": null,
            "margin": null,
            "max_height": null,
            "max_width": null,
            "min_height": null,
            "min_width": null,
            "object_fit": null,
            "object_position": null,
            "order": null,
            "overflow": null,
            "overflow_x": null,
            "overflow_y": null,
            "padding": null,
            "right": null,
            "top": null,
            "visibility": null,
            "width": null
          }
        },
        "a307b3fb1dc5470594b47ea0f4166f50": {
          "model_module": "@jupyter-widgets/base",
          "model_name": "LayoutModel",
          "model_module_version": "1.2.0",
          "state": {
            "_model_module": "@jupyter-widgets/base",
            "_model_module_version": "1.2.0",
            "_model_name": "LayoutModel",
            "_view_count": null,
            "_view_module": "@jupyter-widgets/base",
            "_view_module_version": "1.2.0",
            "_view_name": "LayoutView",
            "align_content": null,
            "align_items": null,
            "align_self": null,
            "border": null,
            "bottom": null,
            "display": null,
            "flex": null,
            "flex_flow": null,
            "grid_area": null,
            "grid_auto_columns": null,
            "grid_auto_flow": null,
            "grid_auto_rows": null,
            "grid_column": null,
            "grid_gap": null,
            "grid_row": null,
            "grid_template_areas": null,
            "grid_template_columns": null,
            "grid_template_rows": null,
            "height": null,
            "justify_content": null,
            "justify_items": null,
            "left": null,
            "margin": null,
            "max_height": null,
            "max_width": null,
            "min_height": null,
            "min_width": null,
            "object_fit": null,
            "object_position": null,
            "order": null,
            "overflow": null,
            "overflow_x": null,
            "overflow_y": null,
            "padding": null,
            "right": null,
            "top": null,
            "visibility": null,
            "width": null
          }
        },
        "b2bba8a97faa4012b8d467658455b11d": {
          "model_module": "@jupyter-widgets/controls",
          "model_name": "DescriptionStyleModel",
          "model_module_version": "1.5.0",
          "state": {
            "_model_module": "@jupyter-widgets/controls",
            "_model_module_version": "1.5.0",
            "_model_name": "DescriptionStyleModel",
            "_view_count": null,
            "_view_module": "@jupyter-widgets/base",
            "_view_module_version": "1.2.0",
            "_view_name": "StyleView",
            "description_width": ""
          }
        },
        "ebd8e21bc6784b71a6bd0104f8d444d1": {
          "model_module": "@jupyter-widgets/base",
          "model_name": "LayoutModel",
          "model_module_version": "1.2.0",
          "state": {
            "_model_module": "@jupyter-widgets/base",
            "_model_module_version": "1.2.0",
            "_model_name": "LayoutModel",
            "_view_count": null,
            "_view_module": "@jupyter-widgets/base",
            "_view_module_version": "1.2.0",
            "_view_name": "LayoutView",
            "align_content": null,
            "align_items": null,
            "align_self": null,
            "border": null,
            "bottom": null,
            "display": null,
            "flex": null,
            "flex_flow": null,
            "grid_area": null,
            "grid_auto_columns": null,
            "grid_auto_flow": null,
            "grid_auto_rows": null,
            "grid_column": null,
            "grid_gap": null,
            "grid_row": null,
            "grid_template_areas": null,
            "grid_template_columns": null,
            "grid_template_rows": null,
            "height": null,
            "justify_content": null,
            "justify_items": null,
            "left": null,
            "margin": null,
            "max_height": null,
            "max_width": null,
            "min_height": null,
            "min_width": null,
            "object_fit": null,
            "object_position": null,
            "order": null,
            "overflow": null,
            "overflow_x": null,
            "overflow_y": null,
            "padding": null,
            "right": null,
            "top": null,
            "visibility": null,
            "width": null
          }
        },
        "d898a5bdba014e31a120e340788a45b3": {
          "model_module": "@jupyter-widgets/controls",
          "model_name": "ProgressStyleModel",
          "model_module_version": "1.5.0",
          "state": {
            "_model_module": "@jupyter-widgets/controls",
            "_model_module_version": "1.5.0",
            "_model_name": "ProgressStyleModel",
            "_view_count": null,
            "_view_module": "@jupyter-widgets/base",
            "_view_module_version": "1.2.0",
            "_view_name": "StyleView",
            "bar_color": null,
            "description_width": ""
          }
        },
        "7be5113aad5542cfb369bae86c766426": {
          "model_module": "@jupyter-widgets/base",
          "model_name": "LayoutModel",
          "model_module_version": "1.2.0",
          "state": {
            "_model_module": "@jupyter-widgets/base",
            "_model_module_version": "1.2.0",
            "_model_name": "LayoutModel",
            "_view_count": null,
            "_view_module": "@jupyter-widgets/base",
            "_view_module_version": "1.2.0",
            "_view_name": "LayoutView",
            "align_content": null,
            "align_items": null,
            "align_self": null,
            "border": null,
            "bottom": null,
            "display": null,
            "flex": null,
            "flex_flow": null,
            "grid_area": null,
            "grid_auto_columns": null,
            "grid_auto_flow": null,
            "grid_auto_rows": null,
            "grid_column": null,
            "grid_gap": null,
            "grid_row": null,
            "grid_template_areas": null,
            "grid_template_columns": null,
            "grid_template_rows": null,
            "height": null,
            "justify_content": null,
            "justify_items": null,
            "left": null,
            "margin": null,
            "max_height": null,
            "max_width": null,
            "min_height": null,
            "min_width": null,
            "object_fit": null,
            "object_position": null,
            "order": null,
            "overflow": null,
            "overflow_x": null,
            "overflow_y": null,
            "padding": null,
            "right": null,
            "top": null,
            "visibility": null,
            "width": null
          }
        },
        "9a1047698ca941118fe091a5ade1183d": {
          "model_module": "@jupyter-widgets/controls",
          "model_name": "DescriptionStyleModel",
          "model_module_version": "1.5.0",
          "state": {
            "_model_module": "@jupyter-widgets/controls",
            "_model_module_version": "1.5.0",
            "_model_name": "DescriptionStyleModel",
            "_view_count": null,
            "_view_module": "@jupyter-widgets/base",
            "_view_module_version": "1.2.0",
            "_view_name": "StyleView",
            "description_width": ""
          }
        }
      }
    }
  },
  "nbformat": 4,
  "nbformat_minor": 0
}