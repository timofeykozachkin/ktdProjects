{
 "cells": [
  {
   "cell_type": "code",
   "execution_count": 2,
   "id": "e39493bc",
   "metadata": {},
   "outputs": [],
   "source": [
    "import pandas as pd\n",
    "import catboost"
   ]
  },
  {
   "cell_type": "code",
   "execution_count": 15,
   "id": "b3277183",
   "metadata": {},
   "outputs": [],
   "source": [
    "%matplotlib inline  "
   ]
  },
  {
   "cell_type": "code",
   "execution_count": 45,
   "id": "e290564e",
   "metadata": {},
   "outputs": [],
   "source": [
    "df = pd.read_csv('../data/expanded_data_with_OSM.csv')"
   ]
  },
  {
   "cell_type": "code",
   "execution_count": 46,
   "id": "662424bb",
   "metadata": {},
   "outputs": [],
   "source": [
    "df = df[df['test_train_flag'] == 'train']"
   ]
  },
  {
   "cell_type": "code",
   "execution_count": 48,
   "id": "2bfe14ce",
   "metadata": {},
   "outputs": [],
   "source": [
    "df_train = pd.read_csv('../data/train.csv')"
   ]
  },
  {
   "cell_type": "code",
   "execution_count": 49,
   "id": "aef82de5",
   "metadata": {},
   "outputs": [],
   "source": [
    "df = df.merge(df_train[['id','target']], left_on = 'id', right_on = 'id')"
   ]
  },
  {
   "cell_type": "code",
   "execution_count": 50,
   "id": "6c374c5d",
   "metadata": {},
   "outputs": [],
   "source": [
    "df['atm_group'] = df['atm_group'].astype('int')\n",
    "df['cities'] = df['cities'].astype(str)\n",
    "df['regions'] = df['regions'].astype(str)\n",
    "df['states'] = df['states'].astype(str)\n",
    "df['address'] = df['address'].astype(str)\n",
    "df['address_rus'] = df['address_rus'].astype(str)\n",
    "df['geometry'] = df['geometry'].astype(str)\n",
    "df['id'] = df['id'].astype(int)"
   ]
  },
  {
   "cell_type": "code",
   "execution_count": 51,
   "id": "f50b910d",
   "metadata": {
    "scrolled": true
   },
   "outputs": [
    {
     "data": {
      "text/html": [
       "<div>\n",
       "<style scoped>\n",
       "    .dataframe tbody tr th:only-of-type {\n",
       "        vertical-align: middle;\n",
       "    }\n",
       "\n",
       "    .dataframe tbody tr th {\n",
       "        vertical-align: top;\n",
       "    }\n",
       "\n",
       "    .dataframe thead th {\n",
       "        text-align: right;\n",
       "    }\n",
       "</style>\n",
       "<table border=\"1\" class=\"dataframe\">\n",
       "  <thead>\n",
       "    <tr style=\"text-align: right;\">\n",
       "      <th></th>\n",
       "      <th>id</th>\n",
       "      <th>atm_group</th>\n",
       "      <th>address</th>\n",
       "      <th>address_rus</th>\n",
       "      <th>lat</th>\n",
       "      <th>lng</th>\n",
       "      <th>test_train_flag</th>\n",
       "      <th>geometry</th>\n",
       "      <th>distance_to_fast_food</th>\n",
       "      <th>distance_to_clothes</th>\n",
       "      <th>...</th>\n",
       "      <th>distance_to_airport</th>\n",
       "      <th>distance_to_parking</th>\n",
       "      <th>distance_to_parking_underground</th>\n",
       "      <th>cnt_apart_200m</th>\n",
       "      <th>cnt_banks_200m</th>\n",
       "      <th>cnt_atm_200m</th>\n",
       "      <th>cities</th>\n",
       "      <th>regions</th>\n",
       "      <th>states</th>\n",
       "      <th>target</th>\n",
       "    </tr>\n",
       "  </thead>\n",
       "  <tbody>\n",
       "    <tr>\n",
       "      <th>0</th>\n",
       "      <td>8526</td>\n",
       "      <td>32</td>\n",
       "      <td>EMELYANOVA,34          Y-SAKHALINSK</td>\n",
       "      <td>улица А.О. Емельянова, 34, Южно-Сахалинск, Сах...</td>\n",
       "      <td>46.940995</td>\n",
       "      <td>142.738319</td>\n",
       "      <td>train</td>\n",
       "      <td>POINT (142.738319 46.940994999999994)</td>\n",
       "      <td>1101.997929</td>\n",
       "      <td>815.369715</td>\n",
       "      <td>...</td>\n",
       "      <td>39774.216642</td>\n",
       "      <td>2892.577916</td>\n",
       "      <td>2346.129844</td>\n",
       "      <td>9</td>\n",
       "      <td>0</td>\n",
       "      <td>0</td>\n",
       "      <td>Yuzhno-Sakhalinsk</td>\n",
       "      <td>Far Eastern Federal District</td>\n",
       "      <td>Sakhalin Oblast</td>\n",
       "      <td>0.0115</td>\n",
       "    </tr>\n",
       "  </tbody>\n",
       "</table>\n",
       "<p>1 rows × 52 columns</p>\n",
       "</div>"
      ],
      "text/plain": [
       "     id  atm_group                                 address  \\\n",
       "0  8526         32  EMELYANOVA,34          Y-SAKHALINSK      \n",
       "\n",
       "                                         address_rus        lat         lng  \\\n",
       "0  улица А.О. Емельянова, 34, Южно-Сахалинск, Сах...  46.940995  142.738319   \n",
       "\n",
       "  test_train_flag                               geometry  \\\n",
       "0           train  POINT (142.738319 46.940994999999994)   \n",
       "\n",
       "   distance_to_fast_food  distance_to_clothes  ...  distance_to_airport  \\\n",
       "0            1101.997929           815.369715  ...         39774.216642   \n",
       "\n",
       "   distance_to_parking  distance_to_parking_underground  cnt_apart_200m  \\\n",
       "0          2892.577916                      2346.129844               9   \n",
       "\n",
       "   cnt_banks_200m  cnt_atm_200m             cities  \\\n",
       "0               0             0  Yuzhno-Sakhalinsk   \n",
       "\n",
       "                        regions           states  target  \n",
       "0  Far Eastern Federal District  Sakhalin Oblast  0.0115  \n",
       "\n",
       "[1 rows x 52 columns]"
      ]
     },
     "execution_count": 51,
     "metadata": {},
     "output_type": "execute_result"
    }
   ],
   "source": [
    "df.head(1)"
   ]
  },
  {
   "cell_type": "markdown",
   "id": "0cadcb3f",
   "metadata": {},
   "source": [
    "<center><font size=\"5\">Линейные модели </font></center>"
   ]
  },
  {
   "cell_type": "code",
   "execution_count": null,
   "id": "f76a68a2",
   "metadata": {},
   "outputs": [],
   "source": [
    "# todo линейные модели тут"
   ]
  },
  {
   "cell_type": "markdown",
   "id": "fccdbb18",
   "metadata": {},
   "source": [
    "<center><font size=\"5\"> Catboost</font></center>"
   ]
  },
  {
   "cell_type": "code",
   "execution_count": 9,
   "id": "7e5d3eba",
   "metadata": {},
   "outputs": [],
   "source": [
    "from catboost import CatBoostRegressor\n",
    "from sklearn.model_selection import train_test_split"
   ]
  },
  {
   "cell_type": "code",
   "execution_count": 10,
   "id": "85f4e0f8",
   "metadata": {},
   "outputs": [],
   "source": [
    "X = df.drop(['target', 'test_train_flag'], axis=1)\n",
    "y = df['target']"
   ]
  },
  {
   "cell_type": "code",
   "execution_count": 11,
   "id": "19d6b2e9",
   "metadata": {},
   "outputs": [],
   "source": [
    "X_train, X_test, y_train, y_test = train_test_split(X, y, test_size=0.25, random_state=42)"
   ]
  },
  {
   "cell_type": "code",
   "execution_count": 12,
   "id": "bab21574",
   "metadata": {},
   "outputs": [],
   "source": [
    "from catboost import Pool"
   ]
  },
  {
   "cell_type": "code",
   "execution_count": 13,
   "id": "ac6842dd",
   "metadata": {},
   "outputs": [
    {
     "data": {
      "text/plain": [
       "<AxesSubplot: xlabel='Count', ylabel='atm_group'>"
      ]
     },
     "execution_count": 13,
     "metadata": {},
     "output_type": "execute_result"
    },
    {
     "data": {
      "image/png": "[encoded data removed]",
      "text/plain": [
       "<Figure size 432x288 with 1 Axes>"
      ]
     },
     "metadata": {
      "needs_background": "light"
     },
     "output_type": "display_data"
    }
   ],
   "source": [
    "import seaborn as sns\n",
    "\n",
    "sns.histplot(data=df, y=X_train['atm_group'].sort_values())"
   ]
  },
  {
   "cell_type": "code",
   "execution_count": 68,
   "id": "36de5a7a",
   "metadata": {
    "scrolled": true
   },
   "outputs": [
    {
     "data": {
      "application/vnd.jupyter.widget-view+json": {
       "model_id": "f9105b312a414ec49b65c6868fdc592b",
       "version_major": 2,
       "version_minor": 0
      },
      "text/plain": [
       "MetricVisualizer(layout=Layout(align_self='stretch', height='500px'))"
      ]
     },
     "metadata": {},
     "output_type": "display_data"
    }
   ],
   "source": [
    "categorical_features = ['cities', 'regions', 'states', 'atm_group', 'address', 'address_rus', 'geometry']\n",
    "ignored_features = ['address', 'address_rus', 'geometry']\n",
    "\n",
    "clf_params = {\n",
    "    'cat_features': categorical_features,\n",
    "    'ignored_features': ignored_features,\n",
    "    'bagging_temperature': 1,\n",
    "    'custom_metric': ['RMSE'],\n",
    "    'score_function': 'L2',\n",
    "#     'use_best_model': True,\n",
    "    'iterations': 200\n",
    "}\n",
    "\n",
    "train_pool = Pool(X_train, y_train, cat_features=categorical_features, feature_names=list(X_train.columns))\n",
    "test_pool = Pool(X_test, y_test, cat_features=categorical_features, feature_names=list(X_test.columns))\n",
    "\n",
    "catboost = CatBoostRegressor(**clf_params, loss_function='RMSE', eval_metric='R2')\n",
    "model = catboost.fit(train_pool, plot=True, verbose=False)"
   ]
  },
  {
   "cell_type": "code",
   "execution_count": 69,
   "id": "18bafbc6",
   "metadata": {},
   "outputs": [
    {
     "name": "stdout",
     "output_type": "stream",
     "text": [
      "0.7500474081963067\n",
      "0.0018635999906704433\n"
     ]
    }
   ],
   "source": [
    "from sklearn.metrics import r2_score\n",
    "from sklearn.metrics import mean_squared_error\n",
    "\n",
    "pred = model.predict(X_test)\n",
    "print(r2_score(y_test, pred))\n",
    "print(mean_squared_error(y_test, pred))\n"
   ]
  },
  {
   "cell_type": "code",
   "execution_count": 42,
   "id": "02c0ee46",
   "metadata": {},
   "outputs": [
    {
     "data": {
      "image/png": "[encoded data removed]",
      "text/plain": [
       "<Figure size 576x576 with 1 Axes>"
      ]
     },
     "metadata": {
      "needs_background": "light"
     },
     "output_type": "display_data"
    }
   ],
   "source": [
    "import matplotlib.pyplot as plt\n",
    "\n",
    "plt.figure(figsize=(8, 8))\n",
    "feat_importances = pd.Series(model.feature_importances_, index=X_train.columns).nlargest(20).plot(kind='barh')"
   ]
  }
 ],
 "metadata": {
  "kernelspec": {
   "display_name": "Python 3 (ipykernel)",
   "language": "python",
   "name": "python3"
  },
  "language_info": {
   "codemirror_mode": {
    "name": "ipython",
    "version": 3
   },
   "file_extension": ".py",
   "mimetype": "text/x-python",
   "name": "python",
   "nbconvert_exporter": "python",
   "pygments_lexer": "ipython3",
   "version": "3.9.7"
  },
  "toc": {
   "base_numbering": 1,
   "nav_menu": {},
   "number_sections": true,
   "sideBar": true,
   "skip_h1_title": false,
   "title_cell": "Table of Contents",
   "title_sidebar": "Contents",
   "toc_cell": false,
   "toc_position": {},
   "toc_section_display": true,
   "toc_window_display": false
  }
 },
 "nbformat": 4,
 "nbformat_minor": 5
}
